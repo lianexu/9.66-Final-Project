{
 "cells": [
  {
   "cell_type": "code",
   "execution_count": 24,
   "id": "7017bde0-1b5c-415a-b9b7-ba9cb96908c8",
   "metadata": {},
   "outputs": [],
   "source": [
    "using Gen, Plots, LinearAlgebra"
   ]
  },
  {
   "cell_type": "code",
   "execution_count": 28,
   "id": "637f5d4e-d770-43b9-b4d1-01f9a24ca431",
   "metadata": {},
   "outputs": [
    {
     "data": {
      "text/plain": [
       "getRotationMatrix (generic function with 1 method)"
      ]
     },
     "execution_count": 28,
     "metadata": {},
     "output_type": "execute_result"
    }
   ],
   "source": [
    "function getRotationMatrix(theta::Float64)\n",
    "    return [cos(theta) -sin(theta); sin(theta) cos(theta)]\n",
    "end"
   ]
  },
  {
   "cell_type": "code",
   "execution_count": 82,
   "id": "1fcfd286-d045-4a8f-aeef-5b35803dbb55",
   "metadata": {},
   "outputs": [
    {
     "data": {
      "text/plain": [
       "4"
      ]
     },
     "execution_count": 82,
     "metadata": {},
     "output_type": "execute_result"
    }
   ],
   "source": [
    "# How to index into Matrix\n",
    "A = [1 2; 3 4]\n",
    "A[2,2]"
   ]
  },
  {
   "cell_type": "code",
   "execution_count": 107,
   "id": "a1a141c6-466f-442b-9ba0-d346f3e05dc5",
   "metadata": {},
   "outputs": [
    {
     "data": {
      "text/plain": [
       "isInBox (generic function with 3 methods)"
      ]
     },
     "execution_count": 107,
     "metadata": {},
     "output_type": "execute_result"
    }
   ],
   "source": [
    "function isInBox(box::Matrix{Float64}, point::Vector{Float64})\n",
    "    ABn = [box[1,1]; box[2,1]] # normal defining AB\n",
    "    BCn = [box[1,2]; box[2,2]]\n",
    "    CDn = [box[1,3]; box[2,3]]\n",
    "    DAn = [box[1,4]; box[2,4]]\n",
    "\n",
    "    if Transpose(ABn) * point + 1 < 0 # assumes that the box is side length 2, centered at (0,0)\n",
    "        return false\n",
    "    end\n",
    "     if Transpose(BCn) * point + 1 < 0\n",
    "        return false\n",
    "    end\n",
    "    if Transpose(CDn) * point + 1 < 0\n",
    "        return false\n",
    "    end\n",
    "    if Transpose(DAn) * point + 1 < 0\n",
    "        return false\n",
    "    end\n",
    "    return true\n",
    "    \n",
    "end"
   ]
  },
  {
   "cell_type": "code",
   "execution_count": 111,
   "id": "b419abbf-f4c9-4da6-8408-aced1df85f8c",
   "metadata": {},
   "outputs": [
    {
     "data": {
      "text/plain": [
       "isOnBox (generic function with 1 method)"
      ]
     },
     "execution_count": 111,
     "metadata": {},
     "output_type": "execute_result"
    }
   ],
   "source": [
    "function isOnBox(box::Matrix{Float64}, point::Vector{Float64})\n",
    "    ABn = [box[1,1]; box[2,1]]\n",
    "    BCn = [box[1,2]; box[2,2]]\n",
    "    CDn = [box[1,3]; box[2,3]]\n",
    "    DAn = [box[1,4]; box[2,4]]\n",
    "\n",
    "    if Transpose(ABn) * point + 1 == 0\n",
    "        return \"AB\"\n",
    "    end\n",
    "     if Transpose(BCn) * point + 1 == 0\n",
    "        return \"BC\"\n",
    "    end\n",
    "    if Transpose(CDn) * point + 1 == 0\n",
    "        return \"CD\"\n",
    "    end\n",
    "    if Transpose(DAn) * point + 1 == 0\n",
    "        return \"DA\"\n",
    "    end\n",
    "    return \"None\"\n",
    "    \n",
    "end"
   ]
  },
  {
   "cell_type": "code",
   "execution_count": 225,
   "id": "7718c333-034a-49d8-9ecd-618b766ef4b3",
   "metadata": {},
   "outputs": [
    {
     "data": {
      "text/plain": [
       "findIntersectionWithTrajectory (generic function with 1 method)"
      ]
     },
     "execution_count": 225,
     "metadata": {},
     "output_type": "execute_result"
    }
   ],
   "source": [
    "function findIntersectionWithTrajectory(box::Matrix{Float64}, O::Vector{Float64}, V::Vector{Float64})\n",
    "    ABn = [box[1,1]; box[2,1]]\n",
    "    BCn = [box[1,2]; box[2,2]]\n",
    "    CDn = [box[1,3]; box[2,3]]\n",
    "    DAn = [box[1,4]; box[2,4]]\n",
    "\n",
    "    tAB = Inf\n",
    "    tBC = Inf\n",
    "    tBC = Inf\n",
    "    tDA = Inf\n",
    "    \n",
    "    tAB = (-1.0 - (ABn[1]* O[1]) - (ABn[2]* O[2]))/(ABn[1]*V[1] + ABn[2]*V[2])\n",
    "    tBC = (-1.0 - (BCn[1]* O[1]) - (BCn[2]* O[2]))/(BCn[1]*V[1] + BCn[2]*V[2])\n",
    "    tCD = (-1.0 - (CDn[1]* O[1]) - (CDn[2]* O[2]))/(CDn[1]*V[1] + CDn[2]*V[2])\n",
    "    tDA = (-1.0 - (DAn[1]* O[1]) - (DAn[2]* O[2]))/(DAn[1]*V[1] + DAn[2]*V[2])\n",
    "\n",
    "    if tAB == -Inf || tAB < 0\n",
    "        tAB = Inf\n",
    "    end\n",
    "    if tBC == -Inf || tBC < 0\n",
    "        tBC = Inf\n",
    "    end\n",
    "    if tCD == -Inf || tCD < 0\n",
    "        tCD = Inf\n",
    "    end\n",
    "    if tDA == -Inf || tDA < 0\n",
    "        tDA = Inf\n",
    "    end\n",
    "    \n",
    "    current = Inf\n",
    "    p = [Inf;Inf]\n",
    "    if tAB < current\n",
    "        current = tAB\n",
    "        p = O + V*tAB\n",
    "    end\n",
    "    if tBC < tAB\n",
    "        current = tBC\n",
    "        p = O + V*tBC\n",
    "    end\n",
    "    if tCD < current\n",
    "        current = tCD\n",
    "        p = O + V*tCD\n",
    "    end\n",
    "    if tDA < current\n",
    "        current = tDA\n",
    "        p = O + V*tDA\n",
    "    end\n",
    "    \n",
    "    # return isOnBox(box, p)\n",
    "\n",
    "    return p\n",
    "end"
   ]
  },
  {
   "cell_type": "code",
   "execution_count": 226,
   "id": "bc4787a5-69f7-45a6-98b4-ff2f5b01ba1d",
   "metadata": {},
   "outputs": [
    {
     "data": {
      "text/plain": [
       "2-element Vector{Float64}:\n",
       " -1.0\n",
       "  0.0"
      ]
     },
     "execution_count": 226,
     "metadata": {},
     "output_type": "execute_result"
    }
   ],
   "source": [
    "# box of side length 2 centered at (0,0)\n",
    "box = [0.0 1.0 0.0 -1.0;\n",
    "       -1.0 0.0 1.0 0.0]\n",
    "\n",
    "box = getRotationMatrix(pi/4) * box\n",
    "point = [-1.0; 0.0]"
   ]
  },
  {
   "cell_type": "code",
   "execution_count": 227,
   "id": "d526907d-fdb2-4545-994a-3ea9415eed23",
   "metadata": {},
   "outputs": [
    {
     "data": {
      "text/plain": [
       "2×4 Matrix{Float64}:\n",
       "  0.707107  0.707107  -0.707107  -0.707107\n",
       " -0.707107  0.707107   0.707107  -0.707107"
      ]
     },
     "execution_count": 227,
     "metadata": {},
     "output_type": "execute_result"
    }
   ],
   "source": [
    "box"
   ]
  },
  {
   "cell_type": "code",
   "execution_count": 228,
   "id": "8b269c65-88a7-46dc-bf8c-c60008a9ffbb",
   "metadata": {},
   "outputs": [
    {
     "data": {
      "text/plain": [
       "\"None\""
      ]
     },
     "execution_count": 228,
     "metadata": {},
     "output_type": "execute_result"
    }
   ],
   "source": [
    "isOnBox(box,point)"
   ]
  },
  {
   "cell_type": "code",
   "execution_count": 229,
   "id": "1a538d4a-f58b-4824-bf19-e4cc34b1a22c",
   "metadata": {},
   "outputs": [
    {
     "data": {
      "text/plain": [
       "true"
      ]
     },
     "execution_count": 229,
     "metadata": {},
     "output_type": "execute_result"
    }
   ],
   "source": [
    "isInBox(box, point)"
   ]
  },
  {
   "cell_type": "code",
   "execution_count": 230,
   "id": "ee9b2709-4831-417f-9729-b00b3ca89e1a",
   "metadata": {},
   "outputs": [
    {
     "data": {
      "text/plain": [
       "\"None\""
      ]
     },
     "execution_count": 230,
     "metadata": {},
     "output_type": "execute_result"
    }
   ],
   "source": [
    "findIntersectionWithTrajectory(box, [-2.0;2.0], [1.0,-1.0])"
   ]
  },
  {
   "cell_type": "code",
   "execution_count": null,
   "id": "7c117704-85f7-42f0-8d3f-b624c0a95703",
   "metadata": {},
   "outputs": [],
   "source": []
  }
 ],
 "metadata": {
  "kernelspec": {
   "display_name": "Julia 1.9.3",
   "language": "julia",
   "name": "julia-1.9"
  },
  "language_info": {
   "file_extension": ".jl",
   "mimetype": "application/julia",
   "name": "julia",
   "version": "1.9.3"
  }
 },
 "nbformat": 4,
 "nbformat_minor": 5
}
