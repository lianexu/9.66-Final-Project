{
 "cells": [
  {
   "cell_type": "code",
   "execution_count": 405,
   "id": "7017bde0-1b5c-415a-b9b7-ba9cb96908c8",
   "metadata": {},
   "outputs": [],
   "source": [
    "using Gen, Plots, LinearAlgebra"
   ]
  },
  {
   "cell_type": "code",
   "execution_count": 28,
   "id": "637f5d4e-d770-43b9-b4d1-01f9a24ca431",
   "metadata": {},
   "outputs": [
    {
     "data": {
      "text/plain": [
       "getRotationMatrix (generic function with 1 method)"
      ]
     },
     "execution_count": 28,
     "metadata": {},
     "output_type": "execute_result"
    }
   ],
   "source": [
    "function getRotationMatrix(theta::Float64)\n",
    "    return [cos(theta) -sin(theta); sin(theta) cos(theta)]\n",
    "end"
   ]
  },
  {
   "cell_type": "code",
   "execution_count": 82,
   "id": "1fcfd286-d045-4a8f-aeef-5b35803dbb55",
   "metadata": {},
   "outputs": [
    {
     "data": {
      "text/plain": [
       "4"
      ]
     },
     "execution_count": 82,
     "metadata": {},
     "output_type": "execute_result"
    }
   ],
   "source": [
    "# How to index into Matrix\n",
    "A = [1 2; 3 4]\n",
    "A[2,2]"
   ]
  },
  {
   "cell_type": "code",
   "execution_count": 107,
   "id": "a1a141c6-466f-442b-9ba0-d346f3e05dc5",
   "metadata": {},
   "outputs": [
    {
     "data": {
      "text/plain": [
       "isInBox (generic function with 3 methods)"
      ]
     },
     "execution_count": 107,
     "metadata": {},
     "output_type": "execute_result"
    }
   ],
   "source": [
    "function isInBox(box::Matrix{Float64}, point::Vector{Float64})\n",
    "    ABn = [box[1,1]; box[2,1]] # normal defining AB\n",
    "    BCn = [box[1,2]; box[2,2]]\n",
    "    CDn = [box[1,3]; box[2,3]]\n",
    "    DAn = [box[1,4]; box[2,4]]\n",
    "\n",
    "    if Transpose(ABn) * point + 1 < 0 # assumes that the box is side length 2, centered at (0,0)\n",
    "        return false\n",
    "    end\n",
    "     if Transpose(BCn) * point + 1 < 0\n",
    "        return false\n",
    "    end\n",
    "    if Transpose(CDn) * point + 1 < 0\n",
    "        return false\n",
    "    end\n",
    "    if Transpose(DAn) * point + 1 < 0\n",
    "        return false\n",
    "    end\n",
    "    return true\n",
    "    \n",
    "end"
   ]
  },
  {
   "cell_type": "code",
   "execution_count": 292,
   "id": "b419abbf-f4c9-4da6-8408-aced1df85f8c",
   "metadata": {},
   "outputs": [],
   "source": [
    "## DONT USE THIS FUNCTION\n",
    "# function isOnBox(box::Matrix{Float64}, point::Vector{Float64})\n",
    "#     ABn = [box[1,1]; box[2,1]]\n",
    "#     BCn = [box[1,2]; box[2,2]]\n",
    "#     CDn = [box[1,3]; box[2,3]]\n",
    "#     DAn = [box[1,4]; box[2,4]]\n",
    "\n",
    "#     epsilon = 0.00000005\n",
    "#     if abs(Transpose(ABn) * point + 1) == 0.0\n",
    "#         return \"AB\"\n",
    "#     end\n",
    "#      if abs(Transpose(BCn) * point + 1) == 0.0\n",
    "#         return \"BC\"\n",
    "#     end\n",
    "#     if abs(Transpose(CDn) * point + 1) == 0.0\n",
    "#         return \"CD\"\n",
    "#     end\n",
    "#     if abs(Transpose(DAn) * point + 1) == 0.0\n",
    "#         return \"DA\"\n",
    "#     end\n",
    "#     return \"None\"\n",
    "    \n",
    "# end"
   ]
  },
  {
   "cell_type": "code",
   "execution_count": 317,
   "id": "7718c333-034a-49d8-9ecd-618b766ef4b3",
   "metadata": {},
   "outputs": [
    {
     "data": {
      "text/plain": [
       "findIntersectionWithTrajectory (generic function with 1 method)"
      ]
     },
     "execution_count": 317,
     "metadata": {},
     "output_type": "execute_result"
    }
   ],
   "source": [
    "function findIntersectionWithTrajectory(box::Matrix{Float64}, O::Vector{Float64}, V::Vector{Float64})\n",
    "    ABn = [box[1,1]; box[2,1]]\n",
    "    BCn = [box[1,2]; box[2,2]]\n",
    "    CDn = [box[1,3]; box[2,3]]\n",
    "    DAn = [box[1,4]; box[2,4]]\n",
    "\n",
    "    tAB = Inf\n",
    "    tBC = Inf\n",
    "    tBC = Inf\n",
    "    tDA = Inf\n",
    "    \n",
    "    tAB = (-1.0 - (ABn[1]* O[1]) - (ABn[2]* O[2]))/(ABn[1]*V[1] + ABn[2]*V[2])\n",
    "    tBC = (-1.0 - (BCn[1]* O[1]) - (BCn[2]* O[2]))/(BCn[1]*V[1] + BCn[2]*V[2])\n",
    "    tCD = (-1.0 - (CDn[1]* O[1]) - (CDn[2]* O[2]))/(CDn[1]*V[1] + CDn[2]*V[2])\n",
    "    tDA = (-1.0 - (DAn[1]* O[1]) - (DAn[2]* O[2]))/(DAn[1]*V[1] + DAn[2]*V[2])\n",
    "\n",
    "    if tAB == -Inf || tAB < 0\n",
    "        tAB = Inf\n",
    "    end\n",
    "    if tBC == -Inf || tBC < 0\n",
    "        tBC = Inf\n",
    "    end\n",
    "    if tCD == -Inf || tCD < 0\n",
    "        tCD = Inf\n",
    "    end\n",
    "    if tDA == -Inf || tDA < 0\n",
    "        tDA = Inf\n",
    "    end\n",
    "    \n",
    "    current = Inf\n",
    "    p = [Inf;Inf]\n",
    "    n = [Inf;Inf]\n",
    "    if tAB < current\n",
    "        current = tAB\n",
    "        p = O + V*tAB\n",
    "        if isInBox(box, p)\n",
    "            n = ABn\n",
    "        end\n",
    "    end\n",
    "    if tBC < tAB\n",
    "        current = tBC\n",
    "        p = O + V*tBC\n",
    "        if isInBox(box, p)\n",
    "            n = BCn\n",
    "        end\n",
    "    end\n",
    "    if tCD < current\n",
    "        current = tCD\n",
    "        p = O + V*tCD\n",
    "        if isInBox(box, p)\n",
    "            n = CDn\n",
    "        end\n",
    "    end\n",
    "    if tDA < current\n",
    "        current = tDA\n",
    "        p = O + V*tDA\n",
    "        if isInBox(box, p)\n",
    "            n = DAn\n",
    "        end\n",
    "    end\n",
    "    return (p, -n, current) #(point of intersection, -n so the n points outward, time of intersection)\n",
    "end"
   ]
  },
  {
   "cell_type": "code",
   "execution_count": 318,
   "id": "bc4787a5-69f7-45a6-98b4-ff2f5b01ba1d",
   "metadata": {},
   "outputs": [
    {
     "data": {
      "text/plain": [
       "2×4 Matrix{Float64}:\n",
       "  0.707107  0.707107  -0.707107  -0.707107\n",
       " -0.707107  0.707107   0.707107  -0.707107"
      ]
     },
     "execution_count": 318,
     "metadata": {},
     "output_type": "execute_result"
    }
   ],
   "source": [
    "# box of side length 2 centered at (0,0)\n",
    "box = [0.0 1.0 0.0 -1.0;\n",
    "       -1.0 0.0 1.0 0.0]\n",
    "box = getRotationMatrix(pi/4) * box #rotate by 45 degrees"
   ]
  },
  {
   "cell_type": "code",
   "execution_count": 322,
   "id": "73633e03-af11-4a38-b8b9-43cf34d47bf6",
   "metadata": {},
   "outputs": [
    {
     "data": {
      "text/plain": [
       "getOutVector (generic function with 1 method)"
      ]
     },
     "execution_count": 322,
     "metadata": {},
     "output_type": "execute_result"
    }
   ],
   "source": [
    "function getOutVector(V_in::Vector{Float64}, p::Vector{Float64}, n::Vector{Float64})\n",
    "    O_out = p \n",
    "    V_out = V_in - 2 * (Transpose(V_in) * n) * n # velocity after hitting the object\n",
    "    return O_out, V_out\n",
    "end"
   ]
  },
  {
   "cell_type": "code",
   "execution_count": 331,
   "id": "ee9b2709-4831-417f-9729-b00b3ca89e1a",
   "metadata": {},
   "outputs": [
    {
     "data": {
      "text/plain": [
       "Float64"
      ]
     },
     "execution_count": 331,
     "metadata": {},
     "output_type": "execute_result"
    }
   ],
   "source": [
    "O_in = [2.0;-2.0]\n",
    "V_in = [-1.0,1.0]\n",
    "p,n,t_out = findIntersectionWithTrajectory(box, O_in, V_in)\n",
    "# TODO: do checks on p,n,t_out not being Inf\n",
    "\n",
    "O_out, V_out = getOutVector(V_in, p, n)\n",
    "# O_out + V_out * t_out"
   ]
  },
  {
   "cell_type": "code",
   "execution_count": 397,
   "id": "6d8ee069-a2ce-425b-8e51-c8f1ceb550d6",
   "metadata": {},
   "outputs": [],
   "source": [
    "@gen function line_model(O_in::Vector{Float64}, V_in::Vector{Float64}, t_out::Float64, O_out::Vector{Float64}, V_out::Vector{Float64}, xs::Vector{Float64})\n",
    "\n",
    "    # function y_in(t)\n",
    "    #     return O_in + V_in * t\n",
    "    # end\n",
    "\n",
    "    # function y_out(t)\n",
    "    #     return O_in + V_in * (t - t_out)\n",
    "    # end\n",
    "\n",
    "    # function y(t)\n",
    "    #     return V_in[2]/V_in[1] * t + (O[2] - V_in[2]/V_in[1]*O[1])\n",
    "    # end\n",
    "\n",
    "    # function y_out(t)\n",
    "    #     return O_in + V_in * (t - t_out)\n",
    "    # end\n",
    "    # function f(x)\n",
    "    #     return 2.0 + 2.0*x\n",
    "    # end\n",
    "\n",
    "    # Given the slope and intercept, we can sample y coordinates\n",
    "    # for each of the x coordinates in our input vector.\n",
    "    # for (i, t) in enumerate(ts)\n",
    "    #     if ts <= t_out\n",
    "    #         ({(:y, i)} ~ normal(y_in(t), 0.1))\n",
    "    #     else\n",
    "    #         ({(:y, i)} ~ normal(y_out(t), 0.1))\n",
    "    #     end\n",
    "    # end\n",
    "    \n",
    "    function y(x)\n",
    "        return 2.0 * x + 2.0\n",
    "    end\n",
    "\n",
    "    # Given the slope and intercept, we can sample y coordinates\n",
    "    # for each of the x coordinates in our input vector.\n",
    "    for (i, x) in enumerate(xs)\n",
    "        # Note that we name each random choice in this loop\n",
    "        # slightly differently: the first time through,\n",
    "        # the name (:y, 1) will be used, then (:y, 2) for\n",
    "        # the second point, and so on.\n",
    "        ({(:y, i)} ~ normal(y(x), 0.1))\n",
    "    end\n",
    "\n",
    "    # Most of the time, we don't care about the return\n",
    "    # value of a model, only the random choices it makes.\n",
    "    # It can sometimems be useful to return something\n",
    "    # meaningful, however; here, we return the function `y`.\n",
    "    return y\n",
    "end;"
   ]
  },
  {
   "cell_type": "code",
   "execution_count": 398,
   "id": "e032170c-d992-436e-95fe-d3450c5dcf36",
   "metadata": {},
   "outputs": [],
   "source": [
    "ts = [0:0.5:10;];"
   ]
  },
  {
   "cell_type": "code",
   "execution_count": 399,
   "id": "1a03a2c7-9cd6-4233-a3e8-44b9d6423783",
   "metadata": {},
   "outputs": [
    {
     "ename": "LoadError",
     "evalue": "MethodError: no method matching traceat(::Gen.GFUntracedState, ::Vector{Float64}, ::Tuple{Float64, Float64}, ::Tuple{Symbol, Int64})\n\n\u001b[0mClosest candidates are:\n\u001b[0m  traceat(::Gen.GFUntracedState, \u001b[91m::GenerativeFunction\u001b[39m, ::Any, ::Any)\n\u001b[0m\u001b[90m   @\u001b[39m \u001b[33mGen\u001b[39m \u001b[90m~/.julia/packages/Gen/ME5el/src/dynamic/\u001b[39m\u001b[90m\u001b[4mdynamic.jl:84\u001b[24m\u001b[39m\n\u001b[0m  traceat(::Gen.GFUntracedState, \u001b[91m::Distribution\u001b[39m, ::Any, ::Any)\n\u001b[0m\u001b[90m   @\u001b[39m \u001b[33mGen\u001b[39m \u001b[90m~/.julia/packages/Gen/ME5el/src/dynamic/\u001b[39m\u001b[90m\u001b[4mdynamic.jl:87\u001b[24m\u001b[39m\n\u001b[0m  traceat(\u001b[91m::Gen.GFSimulateState\u001b[39m, \u001b[91m::Distribution{T}\u001b[39m, ::Any, ::Any) where T\n\u001b[0m\u001b[90m   @\u001b[39m \u001b[33mGen\u001b[39m \u001b[90m~/.julia/packages/Gen/ME5el/src/dynamic/\u001b[39m\u001b[90m\u001b[4msimulate.jl:12\u001b[24m\u001b[39m\n\u001b[0m  ...\n",
     "output_type": "error",
     "traceback": [
      "MethodError: no method matching traceat(::Gen.GFUntracedState, ::Vector{Float64}, ::Tuple{Float64, Float64}, ::Tuple{Symbol, Int64})\n\n\u001b[0mClosest candidates are:\n\u001b[0m  traceat(::Gen.GFUntracedState, \u001b[91m::GenerativeFunction\u001b[39m, ::Any, ::Any)\n\u001b[0m\u001b[90m   @\u001b[39m \u001b[33mGen\u001b[39m \u001b[90m~/.julia/packages/Gen/ME5el/src/dynamic/\u001b[39m\u001b[90m\u001b[4mdynamic.jl:84\u001b[24m\u001b[39m\n\u001b[0m  traceat(::Gen.GFUntracedState, \u001b[91m::Distribution\u001b[39m, ::Any, ::Any)\n\u001b[0m\u001b[90m   @\u001b[39m \u001b[33mGen\u001b[39m \u001b[90m~/.julia/packages/Gen/ME5el/src/dynamic/\u001b[39m\u001b[90m\u001b[4mdynamic.jl:87\u001b[24m\u001b[39m\n\u001b[0m  traceat(\u001b[91m::Gen.GFSimulateState\u001b[39m, \u001b[91m::Distribution{T}\u001b[39m, ::Any, ::Any) where T\n\u001b[0m\u001b[90m   @\u001b[39m \u001b[33mGen\u001b[39m \u001b[90m~/.julia/packages/Gen/ME5el/src/dynamic/\u001b[39m\u001b[90m\u001b[4msimulate.jl:12\u001b[24m\u001b[39m\n\u001b[0m  ...\n",
      "",
      "Stacktrace:",
      " [1] var\"##line_model#333\"(state#294::Gen.GFUntracedState, O_in::Vector{Float64}, V_in::Vector{Float64}, t_out::Float64, O_out::Vector{Float64}, V_out::Vector{Float64}, xs::Vector{Float64})",
      "   @ Main ./In[397]:43",
      " [2] (::DynamicDSLFunction{Any})(::Vector{Float64}, ::Vararg{Any})",
      "   @ Gen ~/.julia/packages/Gen/ME5el/src/dynamic/dynamic.jl:54",
      " [3] top-level scope",
      "   @ In[399]:1"
     ]
    }
   ],
   "source": [
    "y = line_model(O_in, V_in, t_out, O_out, V_out, ts)"
   ]
  },
  {
   "cell_type": "code",
   "execution_count": 410,
   "id": "a8940879-4f8f-41af-89eb-c7002773c287",
   "metadata": {},
   "outputs": [],
   "source": [
    "using Gen"
   ]
  },
  {
   "cell_type": "code",
   "execution_count": 415,
   "id": "890a6f85-157c-4264-ad6f-3a45c8fc6f24",
   "metadata": {},
   "outputs": [],
   "source": [
    "@gen function line_model(xs::Vector{Float64})\n",
    "    # We begin by sampling a slope and intercept for the line.\n",
    "    # Before we have seen the data, we don't know the values of\n",
    "    # these parameters, so we treat them as random choices. The\n",
    "    # distributions they are drawn from represent our prior beliefs\n",
    "    # about the parameters: in this case, that neither the slope nor the\n",
    "    # intercept will be more than a couple points away from 0.\n",
    "    slope = ({:slope} ~ normal(0, 1))\n",
    "    intercept = ({:intercept} ~ normal(0, 2))\n",
    "    \n",
    "    # We define a function to compute y for a given x\n",
    "    function y(x)\n",
    "        return slope * x + intercept\n",
    "    end\n",
    "\n",
    "    # Given the slope and intercept, we can sample y coordinates\n",
    "    # for each of the x coordinates in our input vector.\n",
    "    for (i, x) in enumerate(xs)\n",
    "        # Note that we name each random choice in this loop\n",
    "        # slightly differently: the first time through,\n",
    "        # the name (:y, 1) will be used, then (:y, 2) for\n",
    "        # the second point, and so on.\n",
    "        ({(:y, i)} ~ normal(y(x), 0.1))\n",
    "    end\n",
    "\n",
    "    # Most of the time, we don't care about the return\n",
    "    # value of a model, only the random choices it makes.\n",
    "    # It can sometimems be useful to return something\n",
    "    # meaningful, however; here, we return the function `y`.\n",
    "    return y\n",
    "end;"
   ]
  },
  {
   "cell_type": "code",
   "execution_count": 416,
   "id": "2fa73a6f-a259-4f49-a3e2-e7e6ccbbe2ac",
   "metadata": {},
   "outputs": [],
   "source": [
    "xs = [-5., -4., -3., -2., -1., 0., 1., 2., 3., 4., 5.];"
   ]
  },
  {
   "cell_type": "code",
   "execution_count": 417,
   "id": "94c09ce6-acf4-4f91-8627-7216015d5186",
   "metadata": {
    "scrolled": true
   },
   "outputs": [
    {
     "ename": "LoadError",
     "evalue": "MethodError: no method matching traceat(::Gen.GFUntracedState, ::Vector{Float64}, ::Tuple{Int64, Int64}, ::Symbol)\n\n\u001b[0mClosest candidates are:\n\u001b[0m  traceat(::Gen.GFUntracedState, \u001b[91m::GenerativeFunction\u001b[39m, ::Any, ::Any)\n\u001b[0m\u001b[90m   @\u001b[39m \u001b[33mGen\u001b[39m \u001b[90m~/.julia/packages/Gen/ME5el/src/dynamic/\u001b[39m\u001b[90m\u001b[4mdynamic.jl:84\u001b[24m\u001b[39m\n\u001b[0m  traceat(::Gen.GFUntracedState, \u001b[91m::Distribution\u001b[39m, ::Any, ::Any)\n\u001b[0m\u001b[90m   @\u001b[39m \u001b[33mGen\u001b[39m \u001b[90m~/.julia/packages/Gen/ME5el/src/dynamic/\u001b[39m\u001b[90m\u001b[4mdynamic.jl:87\u001b[24m\u001b[39m\n\u001b[0m  traceat(\u001b[91m::Gen.GFSimulateState\u001b[39m, \u001b[91m::Distribution{T}\u001b[39m, ::Any, ::Any) where T\n\u001b[0m\u001b[90m   @\u001b[39m \u001b[33mGen\u001b[39m \u001b[90m~/.julia/packages/Gen/ME5el/src/dynamic/\u001b[39m\u001b[90m\u001b[4msimulate.jl:12\u001b[24m\u001b[39m\n\u001b[0m  ...\n",
     "output_type": "error",
     "traceback": [
      "MethodError: no method matching traceat(::Gen.GFUntracedState, ::Vector{Float64}, ::Tuple{Int64, Int64}, ::Symbol)\n\n\u001b[0mClosest candidates are:\n\u001b[0m  traceat(::Gen.GFUntracedState, \u001b[91m::GenerativeFunction\u001b[39m, ::Any, ::Any)\n\u001b[0m\u001b[90m   @\u001b[39m \u001b[33mGen\u001b[39m \u001b[90m~/.julia/packages/Gen/ME5el/src/dynamic/\u001b[39m\u001b[90m\u001b[4mdynamic.jl:84\u001b[24m\u001b[39m\n\u001b[0m  traceat(::Gen.GFUntracedState, \u001b[91m::Distribution\u001b[39m, ::Any, ::Any)\n\u001b[0m\u001b[90m   @\u001b[39m \u001b[33mGen\u001b[39m \u001b[90m~/.julia/packages/Gen/ME5el/src/dynamic/\u001b[39m\u001b[90m\u001b[4mdynamic.jl:87\u001b[24m\u001b[39m\n\u001b[0m  traceat(\u001b[91m::Gen.GFSimulateState\u001b[39m, \u001b[91m::Distribution{T}\u001b[39m, ::Any, ::Any) where T\n\u001b[0m\u001b[90m   @\u001b[39m \u001b[33mGen\u001b[39m \u001b[90m~/.julia/packages/Gen/ME5el/src/dynamic/\u001b[39m\u001b[90m\u001b[4msimulate.jl:12\u001b[24m\u001b[39m\n\u001b[0m  ...\n",
      "",
      "Stacktrace:",
      " [1] var\"##line_model#336\"(state#294::Gen.GFUntracedState, xs::Vector{Float64})",
      "   @ Main ./In[415]:8",
      " [2] (::DynamicDSLFunction{Any})(::Vector{Float64}, ::Vararg{Any})",
      "   @ Gen ~/.julia/packages/Gen/ME5el/src/dynamic/dynamic.jl:54",
      " [3] top-level scope",
      "   @ In[417]:1"
     ]
    }
   ],
   "source": [
    "y = line_model(xs)"
   ]
  },
  {
   "cell_type": "code",
   "execution_count": null,
   "id": "9e5afd6f-1cb4-4942-a80e-15f6d91c9ee3",
   "metadata": {},
   "outputs": [],
   "source": []
  }
 ],
 "metadata": {
  "kernelspec": {
   "display_name": "Julia 1.9.3",
   "language": "julia",
   "name": "julia-1.9"
  },
  "language_info": {
   "file_extension": ".jl",
   "mimetype": "application/julia",
   "name": "julia",
   "version": "1.9.3"
  }
 },
 "nbformat": 4,
 "nbformat_minor": 5
}
