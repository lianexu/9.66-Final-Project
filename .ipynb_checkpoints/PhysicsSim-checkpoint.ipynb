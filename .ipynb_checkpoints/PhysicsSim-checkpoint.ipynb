{
 "cells": [
  {
   "cell_type": "code",
   "execution_count": 24,
   "id": "7017bde0-1b5c-415a-b9b7-ba9cb96908c8",
   "metadata": {},
   "outputs": [],
   "source": [
    "using Gen, Plots, LinearAlgebra"
   ]
  },
  {
   "cell_type": "code",
   "execution_count": 28,
   "id": "637f5d4e-d770-43b9-b4d1-01f9a24ca431",
   "metadata": {},
   "outputs": [
    {
     "data": {
      "text/plain": [
       "getRotationMatrix (generic function with 1 method)"
      ]
     },
     "execution_count": 28,
     "metadata": {},
     "output_type": "execute_result"
    }
   ],
   "source": [
    "function getRotationMatrix(theta::Float64)\n",
    "    return [cos(theta) -sin(theta); sin(theta) cos(theta)]\n",
    "end"
   ]
  },
  {
   "cell_type": "code",
   "execution_count": 42,
   "id": "28db6beb-3f78-47f0-b1e5-baca494453f4",
   "metadata": {},
   "outputs": [
    {
     "data": {
      "text/plain": [
       "isInBox (generic function with 3 methods)"
      ]
     },
     "execution_count": 42,
     "metadata": {},
     "output_type": "execute_result"
    }
   ],
   "source": [
    "function isInBox(box::Matrix{Float64}, point::Vector{Float64}, x::Float64)\n",
    "    return box[1]\n",
    "    # AB = [box[1][2]-box[1][1];box[2][2]-box[2][1]]\n",
    "    # BC = [box[1][3]-box[1][2];box[2][3]-box[2][2]]\n",
    "    # CD = [box[1][4]-box[1][3];box[2][4]-box[2][3]]\n",
    "    # DA = [box[1][1]-box[1][3];box[2][1]-box[2][3]]\n",
    "\n",
    "    # ABn = [box[5][1]; box[5][2]]\n",
    "    # BCn = [box[6][1]; box[6][2]]\n",
    "    # CDn = [box[7][1]; box[7][2]]\n",
    "    # DAn = [box[8][1]; box[8][2]]\n",
    "\n",
    "    # ABm = 0.0\n",
    "    # BCm = 0.0\n",
    "    # CDm = 0.0\n",
    "    # DAm = 0.0\n",
    "\n",
    "    # if AB[1] != 0.0\n",
    "    #     ABm = AB[2]/AB[1]\n",
    "    # end\n",
    "    # if BC[1] != 0.0\n",
    "    #     BCm = BC[2]/BC[1]\n",
    "    # end\n",
    "    # if CD[1] != 0.0\n",
    "    #     CDm = CD[2]/CD[1]\n",
    "    # end\n",
    "    # if DA[1] != 0.0\n",
    "    #     DAm = DA[2]/DA[1]\n",
    "    # end\n",
    "\n",
    "    # ABb = AB[2] - ABm * AB[1]\n",
    "    # BCb = BC[2] - BCm * BC[1]\n",
    "    # CDb = CD[2] - CDm * CD[1]\n",
    "    # DAb = DA[2] - DAm * DA[1]\n",
    "\n",
    "    # return f1(x) = ABm * x + ABb\n",
    "        \n",
    "    # return box\n",
    "    # return 1.0\n",
    "end"
   ]
  },
  {
   "cell_type": "code",
   "execution_count": 60,
   "id": "ee9b2709-4831-417f-9729-b00b3ca89e1a",
   "metadata": {},
   "outputs": [
    {
     "data": {
      "text/plain": [
       "getIntersectionTime (generic function with 1 method)"
      ]
     },
     "execution_count": 60,
     "metadata": {},
     "output_type": "execute_result"
    }
   ],
   "source": [
    "function getIntersectionTime()\n",
    "end"
   ]
  },
  {
   "cell_type": "code",
   "execution_count": 54,
   "id": "95a9b082-0607-4090-a85f-49c18c81d730",
   "metadata": {},
   "outputs": [
    {
     "data": {
      "text/plain": [
       "2×4 Matrix{Float64}:\n",
       " 1.0  -1.0  -1.0   1.0\n",
       " 1.0   1.0  -1.0  -1.0"
      ]
     },
     "execution_count": 54,
     "metadata": {},
     "output_type": "execute_result"
    }
   ],
   "source": [
    "box = getRotationMatrix(0.0) * [1 -1 -1 1; 1 1 -1 -1]\n",
    "point = [-0.5; 0]\n",
    "x = 1.0\n",
    "isInBox(box, point, x)\n",
    "box\n"
   ]
  },
  {
   "cell_type": "code",
   "execution_count": 59,
   "id": "30a22752-1279-4dbd-b460-dfa323edf3e4",
   "metadata": {},
   "outputs": [
    {
     "data": {
      "text/plain": [
       "-1.0"
      ]
     },
     "execution_count": 59,
     "metadata": {},
     "output_type": "execute_result"
    }
   ],
   "source": [
    "box[8]"
   ]
  },
  {
   "cell_type": "markdown",
   "id": "50f3394b-5c34-4664-9ad1-0e80dd8c6115",
   "metadata": {},
   "source": [
    "Jittering is done by the method 3 of first gen tutorial (posterior inference)"
   ]
  },
  {
   "cell_type": "code",
   "execution_count": 23,
   "id": "8ca78706-71cf-434f-a37c-590a5967fbf2",
   "metadata": {},
   "outputs": [],
   "source": [
    "bearing(x, y) = atan(y, x)\n",
    "\n",
    "@gen function model(T::Int, theta::Float64)\n",
    "    box = [1 -1 -1 1 0 -1 0 1;\n",
    "            1 1 -1 -1 1 0 -1 0]   # A B C D AB_norm BC_norm CD_norm DA_norm\n",
    "    rotation_matrix = getRotationMatrix(theta)\n",
    "    box = rotation_matrix * box\n",
    "    \n",
    "    \n",
    "    measurement_noise = 0.005\n",
    "    velocity_var = 1e-6\n",
    "\n",
    "    xs = Vector{Float64}(undef, T+1)\n",
    "    ys = Vector{Float64}(undef, T+1)\n",
    "\n",
    "    # prior on initial x-coordinate\n",
    "    x = {:x0} ~ normal(0.01, 0.01)\n",
    "\n",
    "    # prior on initial y-coordinate\n",
    "    y = {:y0} ~ normal(0.95, 0.01)\n",
    "\n",
    "    # prior on x-component of initial velocity\n",
    "    vx = {:vx0} ~ normal(0.002, 0.01)\n",
    "\n",
    "    # prior on y-component of initial velocity\n",
    "    vy = {:vy0} ~ normal(-0.013, 0.01)\n",
    "\n",
    "    # initial bearing measurement\n",
    "    z0 ~ normal(bearing(x, y), measurement_noise)\n",
    "\n",
    "    # record position\n",
    "    xs[1] = x\n",
    "    ys[1] = y\n",
    "\n",
    "    # generate successive states and measurements\n",
    "    for t=1:T\n",
    "\n",
    "        # update the state of the point\n",
    "        vx = {(:vx, t)} ~ normal(vx, sqrt(velocity_var))\n",
    "        vy = {(:vy, t)} ~ normal(vy, sqrt(velocity_var))\n",
    "        x += vx\n",
    "        y += vy\n",
    "\n",
    "        # bearing measurement\n",
    "        {(:z, t)} ~ normal(bearing(x, y), measurement_noise)\n",
    "\n",
    "        # record position\n",
    "        xs[t+1] = x\n",
    "        ys[t+1] = y\n",
    "    end\n",
    "\n",
    "    # return the sequence of positions\n",
    "    return (xs, ys)\n",
    "end;"
   ]
  },
  {
   "cell_type": "code",
   "execution_count": 61,
   "id": "e8816669-7594-48f8-a0a0-5f143d668de3",
   "metadata": {},
   "outputs": [
    {
     "data": {
      "image/png": "[encoded data removed]",
      "image/svg+xml": [
       "<?xml version=\"1.0\" encoding=\"utf-8\"?>\n",
       "<svg xmlns=\"http://www.w3.org/2000/svg\" xmlns:xlink=\"http://www.w3.org/1999/xlink\" width=\"600\" height=\"400\" viewBox=\"0 0 2400 1600\">\n",
       "<defs>\n",
       "  <clipPath id=\"clip330\">\n",
       "    <rect x=\"0\" y=\"0\" width=\"2400\" height=\"1600\"/>\n",
       "  </clipPath>\n",
       "</defs>\n",
       "<path clip-path=\"url(#clip330)\" d=\"M0 1600 L2400 1600 L2400 0 L0 0  Z\" fill=\"#ffffff\" fill-rule=\"evenodd\" fill-opacity=\"1\"/>\n",
       "<defs>\n",
       "  <clipPath id=\"clip331\">\n",
       "    <rect x=\"480\" y=\"0\" width=\"1681\" height=\"1600\"/>\n",
       "  </clipPath>\n",
       "</defs>\n",
       "<path clip-path=\"url(#clip330)\" d=\"M178.867 1486.45 L2352.76 1486.45 L2352.76 47.2441 L178.867 47.2441  Z\" fill=\"#ffffff\" fill-rule=\"evenodd\" fill-opacity=\"1\"/>\n",
       "<defs>\n",
       "  <clipPath id=\"clip332\">\n",
       "    <rect x=\"178\" y=\"47\" width=\"2175\" height=\"1440\"/>\n",
       "  </clipPath>\n",
       "</defs>\n",
       "<polyline clip-path=\"url(#clip332)\" style=\"stroke:#000000; stroke-linecap:round; stroke-linejoin:round; stroke-width:2; stroke-opacity:0.1; fill:none\" points=\"240.392,1486.45 240.392,47.2441 \"/>\n",
       "<polyline clip-path=\"url(#clip332)\" style=\"stroke:#000000; stroke-linecap:round; stroke-linejoin:round; stroke-width:2; stroke-opacity:0.1; fill:none\" points=\"753.102,1486.45 753.102,47.2441 \"/>\n",
       "<polyline clip-path=\"url(#clip332)\" style=\"stroke:#000000; stroke-linecap:round; stroke-linejoin:round; stroke-width:2; stroke-opacity:0.1; fill:none\" points=\"1265.81,1486.45 1265.81,47.2441 \"/>\n",
       "<polyline clip-path=\"url(#clip332)\" style=\"stroke:#000000; stroke-linecap:round; stroke-linejoin:round; stroke-width:2; stroke-opacity:0.1; fill:none\" points=\"1778.52,1486.45 1778.52,47.2441 \"/>\n",
       "<polyline clip-path=\"url(#clip332)\" style=\"stroke:#000000; stroke-linecap:round; stroke-linejoin:round; stroke-width:2; stroke-opacity:0.1; fill:none\" points=\"2291.23,1486.45 2291.23,47.2441 \"/>\n",
       "<polyline clip-path=\"url(#clip330)\" style=\"stroke:#000000; stroke-linecap:round; stroke-linejoin:round; stroke-width:4; stroke-opacity:1; fill:none\" points=\"178.867,1486.45 2352.76,1486.45 \"/>\n",
       "<polyline clip-path=\"url(#clip330)\" style=\"stroke:#000000; stroke-linecap:round; stroke-linejoin:round; stroke-width:4; stroke-opacity:1; fill:none\" points=\"240.392,1486.45 240.392,1467.55 \"/>\n",
       "<polyline clip-path=\"url(#clip330)\" style=\"stroke:#000000; stroke-linecap:round; stroke-linejoin:round; stroke-width:4; stroke-opacity:1; fill:none\" points=\"753.102,1486.45 753.102,1467.55 \"/>\n",
       "<polyline clip-path=\"url(#clip330)\" style=\"stroke:#000000; stroke-linecap:round; stroke-linejoin:round; stroke-width:4; stroke-opacity:1; fill:none\" points=\"1265.81,1486.45 1265.81,1467.55 \"/>\n",
       "<polyline clip-path=\"url(#clip330)\" style=\"stroke:#000000; stroke-linecap:round; stroke-linejoin:round; stroke-width:4; stroke-opacity:1; fill:none\" points=\"1778.52,1486.45 1778.52,1467.55 \"/>\n",
       "<polyline clip-path=\"url(#clip330)\" style=\"stroke:#000000; stroke-linecap:round; stroke-linejoin:round; stroke-width:4; stroke-opacity:1; fill:none\" points=\"2291.23,1486.45 2291.23,1467.55 \"/>\n",
       "<path clip-path=\"url(#clip330)\" d=\"M194.455 1532.02 L224.13 1532.02 L224.13 1535.95 L194.455 1535.95 L194.455 1532.02 Z\" fill=\"#000000\" fill-rule=\"nonzero\" fill-opacity=\"1\" /><path clip-path=\"url(#clip330)\" d=\"M235.033 1544.91 L242.672 1544.91 L242.672 1518.55 L234.362 1520.21 L234.362 1515.95 L242.626 1514.29 L247.301 1514.29 L247.301 1544.91 L254.94 1544.91 L254.94 1548.85 L235.033 1548.85 L235.033 1544.91 Z\" fill=\"#000000\" fill-rule=\"nonzero\" fill-opacity=\"1\" /><path clip-path=\"url(#clip330)\" d=\"M274.385 1517.37 Q270.774 1517.37 268.945 1520.93 Q267.139 1524.47 267.139 1531.6 Q267.139 1538.71 268.945 1542.27 Q270.774 1545.82 274.385 1545.82 Q278.019 1545.82 279.824 1542.27 Q281.653 1538.71 281.653 1531.6 Q281.653 1524.47 279.824 1520.93 Q278.019 1517.37 274.385 1517.37 M274.385 1513.66 Q280.195 1513.66 283.25 1518.27 Q286.329 1522.85 286.329 1531.6 Q286.329 1540.33 283.25 1544.94 Q280.195 1549.52 274.385 1549.52 Q268.575 1549.52 265.496 1544.94 Q262.44 1540.33 262.44 1531.6 Q262.44 1522.85 265.496 1518.27 Q268.575 1513.66 274.385 1513.66 Z\" fill=\"#000000\" fill-rule=\"nonzero\" fill-opacity=\"1\" /><path clip-path=\"url(#clip330)\" d=\"M722.743 1532.02 L752.419 1532.02 L752.419 1535.95 L722.743 1535.95 L722.743 1532.02 Z\" fill=\"#000000\" fill-rule=\"nonzero\" fill-opacity=\"1\" /><path clip-path=\"url(#clip330)\" d=\"M762.558 1514.29 L780.914 1514.29 L780.914 1518.22 L766.84 1518.22 L766.84 1526.7 Q767.858 1526.35 768.877 1526.19 Q769.895 1526 770.914 1526 Q776.701 1526 780.081 1529.17 Q783.46 1532.34 783.46 1537.76 Q783.46 1543.34 779.988 1546.44 Q776.516 1549.52 770.196 1549.52 Q768.02 1549.52 765.752 1549.15 Q763.507 1548.78 761.099 1548.04 L761.099 1543.34 Q763.183 1544.47 765.405 1545.03 Q767.627 1545.58 770.104 1545.58 Q774.108 1545.58 776.446 1543.48 Q778.784 1541.37 778.784 1537.76 Q778.784 1534.15 776.446 1532.04 Q774.108 1529.94 770.104 1529.94 Q768.229 1529.94 766.354 1530.35 Q764.502 1530.77 762.558 1531.65 L762.558 1514.29 Z\" fill=\"#000000\" fill-rule=\"nonzero\" fill-opacity=\"1\" /><path clip-path=\"url(#clip330)\" d=\"M1265.81 1517.37 Q1262.2 1517.37 1260.37 1520.93 Q1258.57 1524.47 1258.57 1531.6 Q1258.57 1538.71 1260.37 1542.27 Q1262.2 1545.82 1265.81 1545.82 Q1269.45 1545.82 1271.25 1542.27 Q1273.08 1538.71 1273.08 1531.6 Q1273.08 1524.47 1271.25 1520.93 Q1269.45 1517.37 1265.81 1517.37 M1265.81 1513.66 Q1271.62 1513.66 1274.68 1518.27 Q1277.76 1522.85 1277.76 1531.6 Q1277.76 1540.33 1274.68 1544.94 Q1271.62 1549.52 1265.81 1549.52 Q1260 1549.52 1256.92 1544.94 Q1253.87 1540.33 1253.87 1531.6 Q1253.87 1522.85 1256.92 1518.27 Q1260 1513.66 1265.81 1513.66 Z\" fill=\"#000000\" fill-rule=\"nonzero\" fill-opacity=\"1\" /><path clip-path=\"url(#clip330)\" d=\"M1768.8 1514.29 L1787.16 1514.29 L1787.16 1518.22 L1773.08 1518.22 L1773.08 1526.7 Q1774.1 1526.35 1775.12 1526.19 Q1776.14 1526 1777.16 1526 Q1782.94 1526 1786.32 1529.17 Q1789.7 1532.34 1789.7 1537.76 Q1789.7 1543.34 1786.23 1546.44 Q1782.76 1549.52 1776.44 1549.52 Q1774.26 1549.52 1771.99 1549.15 Q1769.75 1548.78 1767.34 1548.04 L1767.34 1543.34 Q1769.42 1544.47 1771.65 1545.03 Q1773.87 1545.58 1776.35 1545.58 Q1780.35 1545.58 1782.69 1543.48 Q1785.03 1541.37 1785.03 1537.76 Q1785.03 1534.15 1782.69 1532.04 Q1780.35 1529.94 1776.35 1529.94 Q1774.47 1529.94 1772.6 1530.35 Q1770.74 1530.77 1768.8 1531.65 L1768.8 1514.29 Z\" fill=\"#000000\" fill-rule=\"nonzero\" fill-opacity=\"1\" /><path clip-path=\"url(#clip330)\" d=\"M2265.92 1544.91 L2273.56 1544.91 L2273.56 1518.55 L2265.25 1520.21 L2265.25 1515.95 L2273.51 1514.29 L2278.19 1514.29 L2278.19 1544.91 L2285.83 1544.91 L2285.83 1548.85 L2265.92 1548.85 L2265.92 1544.91 Z\" fill=\"#000000\" fill-rule=\"nonzero\" fill-opacity=\"1\" /><path clip-path=\"url(#clip330)\" d=\"M2305.27 1517.37 Q2301.66 1517.37 2299.83 1520.93 Q2298.02 1524.47 2298.02 1531.6 Q2298.02 1538.71 2299.83 1542.27 Q2301.66 1545.82 2305.27 1545.82 Q2308.9 1545.82 2310.71 1542.27 Q2312.54 1538.71 2312.54 1531.6 Q2312.54 1524.47 2310.71 1520.93 Q2308.9 1517.37 2305.27 1517.37 M2305.27 1513.66 Q2311.08 1513.66 2314.14 1518.27 Q2317.21 1522.85 2317.21 1531.6 Q2317.21 1540.33 2314.14 1544.94 Q2311.08 1549.52 2305.27 1549.52 Q2299.46 1549.52 2296.38 1544.94 Q2293.33 1540.33 2293.33 1531.6 Q2293.33 1522.85 2296.38 1518.27 Q2299.46 1513.66 2305.27 1513.66 Z\" fill=\"#000000\" fill-rule=\"nonzero\" fill-opacity=\"1\" /><polyline clip-path=\"url(#clip332)\" style=\"stroke:#000000; stroke-linecap:round; stroke-linejoin:round; stroke-width:2; stroke-opacity:0.1; fill:none\" points=\"178.867,1445.72 2352.76,1445.72 \"/>\n",
       "<polyline clip-path=\"url(#clip332)\" style=\"stroke:#000000; stroke-linecap:round; stroke-linejoin:round; stroke-width:2; stroke-opacity:0.1; fill:none\" points=\"178.867,1106.28 2352.76,1106.28 \"/>\n",
       "<polyline clip-path=\"url(#clip332)\" style=\"stroke:#000000; stroke-linecap:round; stroke-linejoin:round; stroke-width:2; stroke-opacity:0.1; fill:none\" points=\"178.867,766.846 2352.76,766.846 \"/>\n",
       "<polyline clip-path=\"url(#clip332)\" style=\"stroke:#000000; stroke-linecap:round; stroke-linejoin:round; stroke-width:2; stroke-opacity:0.1; fill:none\" points=\"178.867,427.411 2352.76,427.411 \"/>\n",
       "<polyline clip-path=\"url(#clip332)\" style=\"stroke:#000000; stroke-linecap:round; stroke-linejoin:round; stroke-width:2; stroke-opacity:0.1; fill:none\" points=\"178.867,87.9763 2352.76,87.9763 \"/>\n",
       "<polyline clip-path=\"url(#clip330)\" style=\"stroke:#000000; stroke-linecap:round; stroke-linejoin:round; stroke-width:4; stroke-opacity:1; fill:none\" points=\"178.867,1486.45 178.867,47.2441 \"/>\n",
       "<polyline clip-path=\"url(#clip330)\" style=\"stroke:#000000; stroke-linecap:round; stroke-linejoin:round; stroke-width:4; stroke-opacity:1; fill:none\" points=\"178.867,1445.72 197.764,1445.72 \"/>\n",
       "<polyline clip-path=\"url(#clip330)\" style=\"stroke:#000000; stroke-linecap:round; stroke-linejoin:round; stroke-width:4; stroke-opacity:1; fill:none\" points=\"178.867,1106.28 197.764,1106.28 \"/>\n",
       "<polyline clip-path=\"url(#clip330)\" style=\"stroke:#000000; stroke-linecap:round; stroke-linejoin:round; stroke-width:4; stroke-opacity:1; fill:none\" points=\"178.867,766.846 197.764,766.846 \"/>\n",
       "<polyline clip-path=\"url(#clip330)\" style=\"stroke:#000000; stroke-linecap:round; stroke-linejoin:round; stroke-width:4; stroke-opacity:1; fill:none\" points=\"178.867,427.411 197.764,427.411 \"/>\n",
       "<polyline clip-path=\"url(#clip330)\" style=\"stroke:#000000; stroke-linecap:round; stroke-linejoin:round; stroke-width:4; stroke-opacity:1; fill:none\" points=\"178.867,87.9763 197.764,87.9763 \"/>\n",
       "<path clip-path=\"url(#clip330)\" d=\"M50.9921 1446.17 L80.6679 1446.17 L80.6679 1450.1 L50.9921 1450.1 L50.9921 1446.17 Z\" fill=\"#000000\" fill-rule=\"nonzero\" fill-opacity=\"1\" /><path clip-path=\"url(#clip330)\" d=\"M91.5706 1459.06 L99.2095 1459.06 L99.2095 1432.69 L90.8993 1434.36 L90.8993 1430.1 L99.1632 1428.44 L103.839 1428.44 L103.839 1459.06 L111.478 1459.06 L111.478 1463 L91.5706 1463 L91.5706 1459.06 Z\" fill=\"#000000\" fill-rule=\"nonzero\" fill-opacity=\"1\" /><path clip-path=\"url(#clip330)\" d=\"M130.922 1431.51 Q127.311 1431.51 125.482 1435.08 Q123.677 1438.62 123.677 1445.75 Q123.677 1452.86 125.482 1456.42 Q127.311 1459.96 130.922 1459.96 Q134.556 1459.96 136.362 1456.42 Q138.191 1452.86 138.191 1445.75 Q138.191 1438.62 136.362 1435.08 Q134.556 1431.51 130.922 1431.51 M130.922 1427.81 Q136.732 1427.81 139.788 1432.42 Q142.867 1437 142.867 1445.75 Q142.867 1454.48 139.788 1459.08 Q136.732 1463.67 130.922 1463.67 Q125.112 1463.67 122.033 1459.08 Q118.978 1454.48 118.978 1445.75 Q118.978 1437 122.033 1432.42 Q125.112 1427.81 130.922 1427.81 Z\" fill=\"#000000\" fill-rule=\"nonzero\" fill-opacity=\"1\" /><path clip-path=\"url(#clip330)\" d=\"M82.1494 1106.73 L111.825 1106.73 L111.825 1110.67 L82.1494 1110.67 L82.1494 1106.73 Z\" fill=\"#000000\" fill-rule=\"nonzero\" fill-opacity=\"1\" /><path clip-path=\"url(#clip330)\" d=\"M121.964 1089 L140.32 1089 L140.32 1092.94 L126.246 1092.94 L126.246 1101.41 Q127.265 1101.06 128.283 1100.9 Q129.302 1100.71 130.32 1100.71 Q136.107 1100.71 139.487 1103.89 Q142.867 1107.06 142.867 1112.47 Q142.867 1118.05 139.394 1121.15 Q135.922 1124.23 129.603 1124.23 Q127.427 1124.23 125.158 1123.86 Q122.913 1123.49 120.506 1122.75 L120.506 1118.05 Q122.589 1119.19 124.811 1119.74 Q127.033 1120.3 129.51 1120.3 Q133.515 1120.3 135.853 1118.19 Q138.191 1116.08 138.191 1112.47 Q138.191 1108.86 135.853 1106.76 Q133.515 1104.65 129.51 1104.65 Q127.635 1104.65 125.76 1105.07 Q123.908 1105.48 121.964 1106.36 L121.964 1089 Z\" fill=\"#000000\" fill-rule=\"nonzero\" fill-opacity=\"1\" /><path clip-path=\"url(#clip330)\" d=\"M130.922 752.645 Q127.311 752.645 125.482 756.209 Q123.677 759.751 123.677 766.881 Q123.677 773.987 125.482 777.552 Q127.311 781.094 130.922 781.094 Q134.556 781.094 136.362 777.552 Q138.191 773.987 138.191 766.881 Q138.191 759.751 136.362 756.209 Q134.556 752.645 130.922 752.645 M130.922 748.941 Q136.732 748.941 139.788 753.547 Q142.867 758.131 142.867 766.881 Q142.867 775.608 139.788 780.214 Q136.732 784.797 130.922 784.797 Q125.112 784.797 122.033 780.214 Q118.978 775.608 118.978 766.881 Q118.978 758.131 122.033 753.547 Q125.112 748.941 130.922 748.941 Z\" fill=\"#000000\" fill-rule=\"nonzero\" fill-opacity=\"1\" /><path clip-path=\"url(#clip330)\" d=\"M121.964 410.131 L140.32 410.131 L140.32 414.066 L126.246 414.066 L126.246 422.538 Q127.265 422.191 128.283 422.029 Q129.302 421.844 130.32 421.844 Q136.107 421.844 139.487 425.015 Q142.867 428.187 142.867 433.603 Q142.867 439.182 139.394 442.284 Q135.922 445.362 129.603 445.362 Q127.427 445.362 125.158 444.992 Q122.913 444.622 120.506 443.881 L120.506 439.182 Q122.589 440.316 124.811 440.872 Q127.033 441.427 129.51 441.427 Q133.515 441.427 135.853 439.321 Q138.191 437.214 138.191 433.603 Q138.191 429.992 135.853 427.886 Q133.515 425.779 129.51 425.779 Q127.635 425.779 125.76 426.196 Q123.908 426.613 121.964 427.492 L121.964 410.131 Z\" fill=\"#000000\" fill-rule=\"nonzero\" fill-opacity=\"1\" /><path clip-path=\"url(#clip330)\" d=\"M91.5706 101.321 L99.2095 101.321 L99.2095 74.9555 L90.8993 76.6222 L90.8993 72.3629 L99.1632 70.6963 L103.839 70.6963 L103.839 101.321 L111.478 101.321 L111.478 105.256 L91.5706 105.256 L91.5706 101.321 Z\" fill=\"#000000\" fill-rule=\"nonzero\" fill-opacity=\"1\" /><path clip-path=\"url(#clip330)\" d=\"M130.922 73.775 Q127.311 73.775 125.482 77.3398 Q123.677 80.8814 123.677 88.011 Q123.677 95.1174 125.482 98.6822 Q127.311 102.224 130.922 102.224 Q134.556 102.224 136.362 98.6822 Q138.191 95.1174 138.191 88.011 Q138.191 80.8814 136.362 77.3398 Q134.556 73.775 130.922 73.775 M130.922 70.0713 Q136.732 70.0713 139.788 74.6777 Q142.867 79.261 142.867 88.011 Q142.867 96.7378 139.788 101.344 Q136.732 105.928 130.922 105.928 Q125.112 105.928 122.033 101.344 Q118.978 96.7378 118.978 88.011 Q118.978 79.261 122.033 74.6777 Q125.112 70.0713 130.922 70.0713 Z\" fill=\"#000000\" fill-rule=\"nonzero\" fill-opacity=\"1\" /><path clip-path=\"url(#clip332)\" d=\"M240.392 1119.86 L342.934 1092.7 L445.476 1065.55 L548.018 1038.39 L650.56 1011.24 L753.102 984.084 L855.643 956.93 L958.185 929.775 L1060.73 902.62 L1163.27 875.465 L1265.81 848.31 L1368.35 821.156 L1470.9 794.001 L1573.44 766.846 L1675.98 739.691 L1778.52 712.536 L1881.06 685.382 L1983.6 658.227 L2086.15 631.072 L2188.69 603.917 L2291.23 576.762 L2291.23 87.9763 L2188.69 87.9763 L2086.15 87.9763 L1983.6 87.9763 L1881.06 87.9763 L1778.52 87.9763 L1675.98 87.9763 L1573.44 87.9763 L1470.9 87.9763 L1368.35 87.9763 L1265.81 87.9763 L1163.27 87.9763 L1060.73 87.9763 L958.185 87.9763 L855.643 87.9763 L753.102 87.9763 L650.56 87.9763 L548.018 87.9763 L445.476 87.9763 L342.934 87.9763 L240.392 87.9763  Z\" fill=\"#009af9\" fill-rule=\"evenodd\" fill-opacity=\"0.5\"/>\n",
       "<polyline clip-path=\"url(#clip332)\" style=\"stroke:#009af9; stroke-linecap:round; stroke-linejoin:round; stroke-width:4; stroke-opacity:1; fill:none\" points=\"240.392,1119.86 342.934,1092.7 445.476,1065.55 548.018,1038.39 650.56,1011.24 753.102,984.084 855.643,956.93 958.185,929.775 1060.73,902.62 1163.27,875.465 1265.81,848.31 1368.35,821.156 1470.9,794.001 1573.44,766.846 1675.98,739.691 1778.52,712.536 1881.06,685.382 1983.6,658.227 2086.15,631.072 2188.69,603.917 2291.23,576.762 \"/>\n",
       "<path clip-path=\"url(#clip332)\" d=\"M240.392 87.9763 L342.934 155.863 L445.476 223.75 L548.018 291.637 L650.56 359.524 L753.102 427.411 L855.643 495.298 L958.185 563.185 L1060.73 631.072 L1163.27 698.959 L1265.81 766.846 L1368.35 834.733 L1470.9 902.62 L1573.44 970.507 L1675.98 1038.39 L1778.52 1106.28 L1881.06 1174.17 L1983.6 1242.05 L2086.15 1309.94 L2188.69 1377.83 L2291.23 1445.72 L2291.23 1445.72 L2188.69 1445.72 L2086.15 1445.72 L1983.6 1445.72 L1881.06 1445.72 L1778.52 1445.72 L1675.98 1445.72 L1573.44 1445.72 L1470.9 1445.72 L1368.35 1445.72 L1265.81 1445.72 L1163.27 1445.72 L1060.73 1445.72 L958.185 1445.72 L855.643 1445.72 L753.102 1445.72 L650.56 1445.72 L548.018 1445.72 L445.476 1445.72 L342.934 1445.72 L240.392 1445.72  Z\" fill=\"#e26f46\" fill-rule=\"evenodd\" fill-opacity=\"0.5\"/>\n",
       "<polyline clip-path=\"url(#clip332)\" style=\"stroke:#e26f46; stroke-linecap:round; stroke-linejoin:round; stroke-width:4; stroke-opacity:1; fill:none\" points=\"240.392,87.9763 342.934,155.863 445.476,223.75 548.018,291.637 650.56,359.524 753.102,427.411 855.643,495.298 958.185,563.185 1060.73,631.072 1163.27,698.959 1265.81,766.846 1368.35,834.733 1470.9,902.62 1573.44,970.507 1675.98,1038.39 1778.52,1106.28 1881.06,1174.17 1983.6,1242.05 2086.15,1309.94 2188.69,1377.83 2291.23,1445.72 \"/>\n",
       "<path clip-path=\"url(#clip330)\" d=\"M2010.47 250.738 L2280.29 250.738 L2280.29 95.2176 L2010.47 95.2176  Z\" fill=\"#ffffff\" fill-rule=\"evenodd\" fill-opacity=\"1\"/>\n",
       "<polyline clip-path=\"url(#clip330)\" style=\"stroke:#000000; stroke-linecap:round; stroke-linejoin:round; stroke-width:4; stroke-opacity:1; fill:none\" points=\"2010.47,250.738 2280.29,250.738 2280.29,95.2176 2010.47,95.2176 2010.47,250.738 \"/>\n",
       "<path clip-path=\"url(#clip330)\" d=\"M2034.63 167.794 L2179.55 167.794 L2179.55 126.322 L2034.63 126.322 L2034.63 167.794  Z\" fill=\"#009af9\" fill-rule=\"evenodd\" fill-opacity=\"0.5\"/>\n",
       "<polyline clip-path=\"url(#clip330)\" style=\"stroke:#009af9; stroke-linecap:round; stroke-linejoin:round; stroke-width:4; stroke-opacity:1; fill:none\" points=\"2034.63,126.322 2179.55,126.322 \"/>\n",
       "<path clip-path=\"url(#clip330)\" d=\"M2217.55 166.745 Q2215.75 171.375 2214.03 172.787 Q2212.32 174.199 2209.45 174.199 L2206.05 174.199 L2206.05 170.634 L2208.55 170.634 Q2210.31 170.634 2211.28 169.8 Q2212.25 168.967 2213.43 165.865 L2214.19 163.921 L2203.71 138.412 L2208.22 138.412 L2216.32 158.689 L2224.43 138.412 L2228.94 138.412 L2217.55 166.745 Z\" fill=\"#000000\" fill-rule=\"nonzero\" fill-opacity=\"1\" /><path clip-path=\"url(#clip330)\" d=\"M2236.23 160.402 L2243.87 160.402 L2243.87 134.037 L2235.56 135.703 L2235.56 131.444 L2243.82 129.778 L2248.5 129.778 L2248.5 160.402 L2256.14 160.402 L2256.14 164.338 L2236.23 164.338 L2236.23 160.402 Z\" fill=\"#000000\" fill-rule=\"nonzero\" fill-opacity=\"1\" /><path clip-path=\"url(#clip330)\" d=\"M2034.63 219.634 L2179.55 219.634 L2179.55 178.162 L2034.63 178.162 L2034.63 219.634  Z\" fill=\"#e26f46\" fill-rule=\"evenodd\" fill-opacity=\"0.5\"/>\n",
       "<polyline clip-path=\"url(#clip330)\" style=\"stroke:#e26f46; stroke-linecap:round; stroke-linejoin:round; stroke-width:4; stroke-opacity:1; fill:none\" points=\"2034.63,178.162 2179.55,178.162 \"/>\n",
       "<path clip-path=\"url(#clip330)\" d=\"M2217.55 218.585 Q2215.75 223.215 2214.03 224.627 Q2212.32 226.039 2209.45 226.039 L2206.05 226.039 L2206.05 222.474 L2208.55 222.474 Q2210.31 222.474 2211.28 221.64 Q2212.25 220.807 2213.43 217.705 L2214.19 215.761 L2203.71 190.252 L2208.22 190.252 L2216.32 210.529 L2224.43 190.252 L2228.94 190.252 L2217.55 218.585 Z\" fill=\"#000000\" fill-rule=\"nonzero\" fill-opacity=\"1\" /><path clip-path=\"url(#clip330)\" d=\"M2239.45 212.242 L2255.77 212.242 L2255.77 216.178 L2233.82 216.178 L2233.82 212.242 Q2236.49 209.488 2241.07 204.858 Q2245.68 200.205 2246.86 198.863 Q2249.1 196.34 2249.98 194.604 Q2250.88 192.844 2250.88 191.155 Q2250.88 188.4 2248.94 186.664 Q2247.02 184.928 2243.92 184.928 Q2241.72 184.928 2239.26 185.692 Q2236.83 186.455 2234.06 188.006 L2234.06 183.284 Q2236.88 182.15 2239.33 181.571 Q2241.79 180.993 2243.82 180.993 Q2249.19 180.993 2252.39 183.678 Q2255.58 186.363 2255.58 190.854 Q2255.58 192.983 2254.77 194.905 Q2253.99 196.803 2251.88 199.395 Q2251.3 200.067 2248.2 203.284 Q2245.1 206.479 2239.45 212.242 Z\" fill=\"#000000\" fill-rule=\"nonzero\" fill-opacity=\"1\" /></svg>\n"
      ],
      "text/html": [
       "<?xml version=\"1.0\" encoding=\"utf-8\"?>\n",
       "<svg xmlns=\"http://www.w3.org/2000/svg\" xmlns:xlink=\"http://www.w3.org/1999/xlink\" width=\"600\" height=\"400\" viewBox=\"0 0 2400 1600\">\n",
       "<defs>\n",
       "  <clipPath id=\"clip380\">\n",
       "    <rect x=\"0\" y=\"0\" width=\"2400\" height=\"1600\"/>\n",
       "  </clipPath>\n",
       "</defs>\n",
       "<path clip-path=\"url(#clip380)\" d=\"M0 1600 L2400 1600 L2400 0 L0 0  Z\" fill=\"#ffffff\" fill-rule=\"evenodd\" fill-opacity=\"1\"/>\n",
       "<defs>\n",
       "  <clipPath id=\"clip381\">\n",
       "    <rect x=\"480\" y=\"0\" width=\"1681\" height=\"1600\"/>\n",
       "  </clipPath>\n",
       "</defs>\n",
       "<path clip-path=\"url(#clip380)\" d=\"M178.867 1486.45 L2352.76 1486.45 L2352.76 47.2441 L178.867 47.2441  Z\" fill=\"#ffffff\" fill-rule=\"evenodd\" fill-opacity=\"1\"/>\n",
       "<defs>\n",
       "  <clipPath id=\"clip382\">\n",
       "    <rect x=\"178\" y=\"47\" width=\"2175\" height=\"1440\"/>\n",
       "  </clipPath>\n",
       "</defs>\n",
       "<polyline clip-path=\"url(#clip382)\" style=\"stroke:#000000; stroke-linecap:round; stroke-linejoin:round; stroke-width:2; stroke-opacity:0.1; fill:none\" points=\"240.392,1486.45 240.392,47.2441 \"/>\n",
       "<polyline clip-path=\"url(#clip382)\" style=\"stroke:#000000; stroke-linecap:round; stroke-linejoin:round; stroke-width:2; stroke-opacity:0.1; fill:none\" points=\"753.102,1486.45 753.102,47.2441 \"/>\n",
       "<polyline clip-path=\"url(#clip382)\" style=\"stroke:#000000; stroke-linecap:round; stroke-linejoin:round; stroke-width:2; stroke-opacity:0.1; fill:none\" points=\"1265.81,1486.45 1265.81,47.2441 \"/>\n",
       "<polyline clip-path=\"url(#clip382)\" style=\"stroke:#000000; stroke-linecap:round; stroke-linejoin:round; stroke-width:2; stroke-opacity:0.1; fill:none\" points=\"1778.52,1486.45 1778.52,47.2441 \"/>\n",
       "<polyline clip-path=\"url(#clip382)\" style=\"stroke:#000000; stroke-linecap:round; stroke-linejoin:round; stroke-width:2; stroke-opacity:0.1; fill:none\" points=\"2291.23,1486.45 2291.23,47.2441 \"/>\n",
       "<polyline clip-path=\"url(#clip380)\" style=\"stroke:#000000; stroke-linecap:round; stroke-linejoin:round; stroke-width:4; stroke-opacity:1; fill:none\" points=\"178.867,1486.45 2352.76,1486.45 \"/>\n",
       "<polyline clip-path=\"url(#clip380)\" style=\"stroke:#000000; stroke-linecap:round; stroke-linejoin:round; stroke-width:4; stroke-opacity:1; fill:none\" points=\"240.392,1486.45 240.392,1467.55 \"/>\n",
       "<polyline clip-path=\"url(#clip380)\" style=\"stroke:#000000; stroke-linecap:round; stroke-linejoin:round; stroke-width:4; stroke-opacity:1; fill:none\" points=\"753.102,1486.45 753.102,1467.55 \"/>\n",
       "<polyline clip-path=\"url(#clip380)\" style=\"stroke:#000000; stroke-linecap:round; stroke-linejoin:round; stroke-width:4; stroke-opacity:1; fill:none\" points=\"1265.81,1486.45 1265.81,1467.55 \"/>\n",
       "<polyline clip-path=\"url(#clip380)\" style=\"stroke:#000000; stroke-linecap:round; stroke-linejoin:round; stroke-width:4; stroke-opacity:1; fill:none\" points=\"1778.52,1486.45 1778.52,1467.55 \"/>\n",
       "<polyline clip-path=\"url(#clip380)\" style=\"stroke:#000000; stroke-linecap:round; stroke-linejoin:round; stroke-width:4; stroke-opacity:1; fill:none\" points=\"2291.23,1486.45 2291.23,1467.55 \"/>\n",
       "<path clip-path=\"url(#clip380)\" d=\"M194.455 1532.02 L224.13 1532.02 L224.13 1535.95 L194.455 1535.95 L194.455 1532.02 Z\" fill=\"#000000\" fill-rule=\"nonzero\" fill-opacity=\"1\" /><path clip-path=\"url(#clip380)\" d=\"M235.033 1544.91 L242.672 1544.91 L242.672 1518.55 L234.362 1520.21 L234.362 1515.95 L242.626 1514.29 L247.301 1514.29 L247.301 1544.91 L254.94 1544.91 L254.94 1548.85 L235.033 1548.85 L235.033 1544.91 Z\" fill=\"#000000\" fill-rule=\"nonzero\" fill-opacity=\"1\" /><path clip-path=\"url(#clip380)\" d=\"M274.385 1517.37 Q270.774 1517.37 268.945 1520.93 Q267.139 1524.47 267.139 1531.6 Q267.139 1538.71 268.945 1542.27 Q270.774 1545.82 274.385 1545.82 Q278.019 1545.82 279.824 1542.27 Q281.653 1538.71 281.653 1531.6 Q281.653 1524.47 279.824 1520.93 Q278.019 1517.37 274.385 1517.37 M274.385 1513.66 Q280.195 1513.66 283.25 1518.27 Q286.329 1522.85 286.329 1531.6 Q286.329 1540.33 283.25 1544.94 Q280.195 1549.52 274.385 1549.52 Q268.575 1549.52 265.496 1544.94 Q262.44 1540.33 262.44 1531.6 Q262.44 1522.85 265.496 1518.27 Q268.575 1513.66 274.385 1513.66 Z\" fill=\"#000000\" fill-rule=\"nonzero\" fill-opacity=\"1\" /><path clip-path=\"url(#clip380)\" d=\"M722.743 1532.02 L752.419 1532.02 L752.419 1535.95 L722.743 1535.95 L722.743 1532.02 Z\" fill=\"#000000\" fill-rule=\"nonzero\" fill-opacity=\"1\" /><path clip-path=\"url(#clip380)\" d=\"M762.558 1514.29 L780.914 1514.29 L780.914 1518.22 L766.84 1518.22 L766.84 1526.7 Q767.858 1526.35 768.877 1526.19 Q769.895 1526 770.914 1526 Q776.701 1526 780.081 1529.17 Q783.46 1532.34 783.46 1537.76 Q783.46 1543.34 779.988 1546.44 Q776.516 1549.52 770.196 1549.52 Q768.02 1549.52 765.752 1549.15 Q763.507 1548.78 761.099 1548.04 L761.099 1543.34 Q763.183 1544.47 765.405 1545.03 Q767.627 1545.58 770.104 1545.58 Q774.108 1545.58 776.446 1543.48 Q778.784 1541.37 778.784 1537.76 Q778.784 1534.15 776.446 1532.04 Q774.108 1529.94 770.104 1529.94 Q768.229 1529.94 766.354 1530.35 Q764.502 1530.77 762.558 1531.65 L762.558 1514.29 Z\" fill=\"#000000\" fill-rule=\"nonzero\" fill-opacity=\"1\" /><path clip-path=\"url(#clip380)\" d=\"M1265.81 1517.37 Q1262.2 1517.37 1260.37 1520.93 Q1258.57 1524.47 1258.57 1531.6 Q1258.57 1538.71 1260.37 1542.27 Q1262.2 1545.82 1265.81 1545.82 Q1269.45 1545.82 1271.25 1542.27 Q1273.08 1538.71 1273.08 1531.6 Q1273.08 1524.47 1271.25 1520.93 Q1269.45 1517.37 1265.81 1517.37 M1265.81 1513.66 Q1271.62 1513.66 1274.68 1518.27 Q1277.76 1522.85 1277.76 1531.6 Q1277.76 1540.33 1274.68 1544.94 Q1271.62 1549.52 1265.81 1549.52 Q1260 1549.52 1256.92 1544.94 Q1253.87 1540.33 1253.87 1531.6 Q1253.87 1522.85 1256.92 1518.27 Q1260 1513.66 1265.81 1513.66 Z\" fill=\"#000000\" fill-rule=\"nonzero\" fill-opacity=\"1\" /><path clip-path=\"url(#clip380)\" d=\"M1768.8 1514.29 L1787.16 1514.29 L1787.16 1518.22 L1773.08 1518.22 L1773.08 1526.7 Q1774.1 1526.35 1775.12 1526.19 Q1776.14 1526 1777.16 1526 Q1782.94 1526 1786.32 1529.17 Q1789.7 1532.34 1789.7 1537.76 Q1789.7 1543.34 1786.23 1546.44 Q1782.76 1549.52 1776.44 1549.52 Q1774.26 1549.52 1771.99 1549.15 Q1769.75 1548.78 1767.34 1548.04 L1767.34 1543.34 Q1769.42 1544.47 1771.65 1545.03 Q1773.87 1545.58 1776.35 1545.58 Q1780.35 1545.58 1782.69 1543.48 Q1785.03 1541.37 1785.03 1537.76 Q1785.03 1534.15 1782.69 1532.04 Q1780.35 1529.94 1776.35 1529.94 Q1774.47 1529.94 1772.6 1530.35 Q1770.74 1530.77 1768.8 1531.65 L1768.8 1514.29 Z\" fill=\"#000000\" fill-rule=\"nonzero\" fill-opacity=\"1\" /><path clip-path=\"url(#clip380)\" d=\"M2265.92 1544.91 L2273.56 1544.91 L2273.56 1518.55 L2265.25 1520.21 L2265.25 1515.95 L2273.51 1514.29 L2278.19 1514.29 L2278.19 1544.91 L2285.83 1544.91 L2285.83 1548.85 L2265.92 1548.85 L2265.92 1544.91 Z\" fill=\"#000000\" fill-rule=\"nonzero\" fill-opacity=\"1\" /><path clip-path=\"url(#clip380)\" d=\"M2305.27 1517.37 Q2301.66 1517.37 2299.83 1520.93 Q2298.02 1524.47 2298.02 1531.6 Q2298.02 1538.71 2299.83 1542.27 Q2301.66 1545.82 2305.27 1545.82 Q2308.9 1545.82 2310.71 1542.27 Q2312.54 1538.71 2312.54 1531.6 Q2312.54 1524.47 2310.71 1520.93 Q2308.9 1517.37 2305.27 1517.37 M2305.27 1513.66 Q2311.08 1513.66 2314.14 1518.27 Q2317.21 1522.85 2317.21 1531.6 Q2317.21 1540.33 2314.14 1544.94 Q2311.08 1549.52 2305.27 1549.52 Q2299.46 1549.52 2296.38 1544.94 Q2293.33 1540.33 2293.33 1531.6 Q2293.33 1522.85 2296.38 1518.27 Q2299.46 1513.66 2305.27 1513.66 Z\" fill=\"#000000\" fill-rule=\"nonzero\" fill-opacity=\"1\" /><polyline clip-path=\"url(#clip382)\" style=\"stroke:#000000; stroke-linecap:round; stroke-linejoin:round; stroke-width:2; stroke-opacity:0.1; fill:none\" points=\"178.867,1445.72 2352.76,1445.72 \"/>\n",
       "<polyline clip-path=\"url(#clip382)\" style=\"stroke:#000000; stroke-linecap:round; stroke-linejoin:round; stroke-width:2; stroke-opacity:0.1; fill:none\" points=\"178.867,1106.28 2352.76,1106.28 \"/>\n",
       "<polyline clip-path=\"url(#clip382)\" style=\"stroke:#000000; stroke-linecap:round; stroke-linejoin:round; stroke-width:2; stroke-opacity:0.1; fill:none\" points=\"178.867,766.846 2352.76,766.846 \"/>\n",
       "<polyline clip-path=\"url(#clip382)\" style=\"stroke:#000000; stroke-linecap:round; stroke-linejoin:round; stroke-width:2; stroke-opacity:0.1; fill:none\" points=\"178.867,427.411 2352.76,427.411 \"/>\n",
       "<polyline clip-path=\"url(#clip382)\" style=\"stroke:#000000; stroke-linecap:round; stroke-linejoin:round; stroke-width:2; stroke-opacity:0.1; fill:none\" points=\"178.867,87.9763 2352.76,87.9763 \"/>\n",
       "<polyline clip-path=\"url(#clip380)\" style=\"stroke:#000000; stroke-linecap:round; stroke-linejoin:round; stroke-width:4; stroke-opacity:1; fill:none\" points=\"178.867,1486.45 178.867,47.2441 \"/>\n",
       "<polyline clip-path=\"url(#clip380)\" style=\"stroke:#000000; stroke-linecap:round; stroke-linejoin:round; stroke-width:4; stroke-opacity:1; fill:none\" points=\"178.867,1445.72 197.764,1445.72 \"/>\n",
       "<polyline clip-path=\"url(#clip380)\" style=\"stroke:#000000; stroke-linecap:round; stroke-linejoin:round; stroke-width:4; stroke-opacity:1; fill:none\" points=\"178.867,1106.28 197.764,1106.28 \"/>\n",
       "<polyline clip-path=\"url(#clip380)\" style=\"stroke:#000000; stroke-linecap:round; stroke-linejoin:round; stroke-width:4; stroke-opacity:1; fill:none\" points=\"178.867,766.846 197.764,766.846 \"/>\n",
       "<polyline clip-path=\"url(#clip380)\" style=\"stroke:#000000; stroke-linecap:round; stroke-linejoin:round; stroke-width:4; stroke-opacity:1; fill:none\" points=\"178.867,427.411 197.764,427.411 \"/>\n",
       "<polyline clip-path=\"url(#clip380)\" style=\"stroke:#000000; stroke-linecap:round; stroke-linejoin:round; stroke-width:4; stroke-opacity:1; fill:none\" points=\"178.867,87.9763 197.764,87.9763 \"/>\n",
       "<path clip-path=\"url(#clip380)\" d=\"M50.9921 1446.17 L80.6679 1446.17 L80.6679 1450.1 L50.9921 1450.1 L50.9921 1446.17 Z\" fill=\"#000000\" fill-rule=\"nonzero\" fill-opacity=\"1\" /><path clip-path=\"url(#clip380)\" d=\"M91.5706 1459.06 L99.2095 1459.06 L99.2095 1432.69 L90.8993 1434.36 L90.8993 1430.1 L99.1632 1428.44 L103.839 1428.44 L103.839 1459.06 L111.478 1459.06 L111.478 1463 L91.5706 1463 L91.5706 1459.06 Z\" fill=\"#000000\" fill-rule=\"nonzero\" fill-opacity=\"1\" /><path clip-path=\"url(#clip380)\" d=\"M130.922 1431.51 Q127.311 1431.51 125.482 1435.08 Q123.677 1438.62 123.677 1445.75 Q123.677 1452.86 125.482 1456.42 Q127.311 1459.96 130.922 1459.96 Q134.556 1459.96 136.362 1456.42 Q138.191 1452.86 138.191 1445.75 Q138.191 1438.62 136.362 1435.08 Q134.556 1431.51 130.922 1431.51 M130.922 1427.81 Q136.732 1427.81 139.788 1432.42 Q142.867 1437 142.867 1445.75 Q142.867 1454.48 139.788 1459.08 Q136.732 1463.67 130.922 1463.67 Q125.112 1463.67 122.033 1459.08 Q118.978 1454.48 118.978 1445.75 Q118.978 1437 122.033 1432.42 Q125.112 1427.81 130.922 1427.81 Z\" fill=\"#000000\" fill-rule=\"nonzero\" fill-opacity=\"1\" /><path clip-path=\"url(#clip380)\" d=\"M82.1494 1106.73 L111.825 1106.73 L111.825 1110.67 L82.1494 1110.67 L82.1494 1106.73 Z\" fill=\"#000000\" fill-rule=\"nonzero\" fill-opacity=\"1\" /><path clip-path=\"url(#clip380)\" d=\"M121.964 1089 L140.32 1089 L140.32 1092.94 L126.246 1092.94 L126.246 1101.41 Q127.265 1101.06 128.283 1100.9 Q129.302 1100.71 130.32 1100.71 Q136.107 1100.71 139.487 1103.89 Q142.867 1107.06 142.867 1112.47 Q142.867 1118.05 139.394 1121.15 Q135.922 1124.23 129.603 1124.23 Q127.427 1124.23 125.158 1123.86 Q122.913 1123.49 120.506 1122.75 L120.506 1118.05 Q122.589 1119.19 124.811 1119.74 Q127.033 1120.3 129.51 1120.3 Q133.515 1120.3 135.853 1118.19 Q138.191 1116.08 138.191 1112.47 Q138.191 1108.86 135.853 1106.76 Q133.515 1104.65 129.51 1104.65 Q127.635 1104.65 125.76 1105.07 Q123.908 1105.48 121.964 1106.36 L121.964 1089 Z\" fill=\"#000000\" fill-rule=\"nonzero\" fill-opacity=\"1\" /><path clip-path=\"url(#clip380)\" d=\"M130.922 752.645 Q127.311 752.645 125.482 756.209 Q123.677 759.751 123.677 766.881 Q123.677 773.987 125.482 777.552 Q127.311 781.094 130.922 781.094 Q134.556 781.094 136.362 777.552 Q138.191 773.987 138.191 766.881 Q138.191 759.751 136.362 756.209 Q134.556 752.645 130.922 752.645 M130.922 748.941 Q136.732 748.941 139.788 753.547 Q142.867 758.131 142.867 766.881 Q142.867 775.608 139.788 780.214 Q136.732 784.797 130.922 784.797 Q125.112 784.797 122.033 780.214 Q118.978 775.608 118.978 766.881 Q118.978 758.131 122.033 753.547 Q125.112 748.941 130.922 748.941 Z\" fill=\"#000000\" fill-rule=\"nonzero\" fill-opacity=\"1\" /><path clip-path=\"url(#clip380)\" d=\"M121.964 410.131 L140.32 410.131 L140.32 414.066 L126.246 414.066 L126.246 422.538 Q127.265 422.191 128.283 422.029 Q129.302 421.844 130.32 421.844 Q136.107 421.844 139.487 425.015 Q142.867 428.187 142.867 433.603 Q142.867 439.182 139.394 442.284 Q135.922 445.362 129.603 445.362 Q127.427 445.362 125.158 444.992 Q122.913 444.622 120.506 443.881 L120.506 439.182 Q122.589 440.316 124.811 440.872 Q127.033 441.427 129.51 441.427 Q133.515 441.427 135.853 439.321 Q138.191 437.214 138.191 433.603 Q138.191 429.992 135.853 427.886 Q133.515 425.779 129.51 425.779 Q127.635 425.779 125.76 426.196 Q123.908 426.613 121.964 427.492 L121.964 410.131 Z\" fill=\"#000000\" fill-rule=\"nonzero\" fill-opacity=\"1\" /><path clip-path=\"url(#clip380)\" d=\"M91.5706 101.321 L99.2095 101.321 L99.2095 74.9555 L90.8993 76.6222 L90.8993 72.3629 L99.1632 70.6963 L103.839 70.6963 L103.839 101.321 L111.478 101.321 L111.478 105.256 L91.5706 105.256 L91.5706 101.321 Z\" fill=\"#000000\" fill-rule=\"nonzero\" fill-opacity=\"1\" /><path clip-path=\"url(#clip380)\" d=\"M130.922 73.775 Q127.311 73.775 125.482 77.3398 Q123.677 80.8814 123.677 88.011 Q123.677 95.1174 125.482 98.6822 Q127.311 102.224 130.922 102.224 Q134.556 102.224 136.362 98.6822 Q138.191 95.1174 138.191 88.011 Q138.191 80.8814 136.362 77.3398 Q134.556 73.775 130.922 73.775 M130.922 70.0713 Q136.732 70.0713 139.788 74.6777 Q142.867 79.261 142.867 88.011 Q142.867 96.7378 139.788 101.344 Q136.732 105.928 130.922 105.928 Q125.112 105.928 122.033 101.344 Q118.978 96.7378 118.978 88.011 Q118.978 79.261 122.033 74.6777 Q125.112 70.0713 130.922 70.0713 Z\" fill=\"#000000\" fill-rule=\"nonzero\" fill-opacity=\"1\" /><path clip-path=\"url(#clip382)\" d=\"M240.392 1119.86 L342.934 1092.7 L445.476 1065.55 L548.018 1038.39 L650.56 1011.24 L753.102 984.084 L855.643 956.93 L958.185 929.775 L1060.73 902.62 L1163.27 875.465 L1265.81 848.31 L1368.35 821.156 L1470.9 794.001 L1573.44 766.846 L1675.98 739.691 L1778.52 712.536 L1881.06 685.382 L1983.6 658.227 L2086.15 631.072 L2188.69 603.917 L2291.23 576.762 L2291.23 87.9763 L2188.69 87.9763 L2086.15 87.9763 L1983.6 87.9763 L1881.06 87.9763 L1778.52 87.9763 L1675.98 87.9763 L1573.44 87.9763 L1470.9 87.9763 L1368.35 87.9763 L1265.81 87.9763 L1163.27 87.9763 L1060.73 87.9763 L958.185 87.9763 L855.643 87.9763 L753.102 87.9763 L650.56 87.9763 L548.018 87.9763 L445.476 87.9763 L342.934 87.9763 L240.392 87.9763  Z\" fill=\"#009af9\" fill-rule=\"evenodd\" fill-opacity=\"0.5\"/>\n",
       "<polyline clip-path=\"url(#clip382)\" style=\"stroke:#009af9; stroke-linecap:round; stroke-linejoin:round; stroke-width:4; stroke-opacity:1; fill:none\" points=\"240.392,1119.86 342.934,1092.7 445.476,1065.55 548.018,1038.39 650.56,1011.24 753.102,984.084 855.643,956.93 958.185,929.775 1060.73,902.62 1163.27,875.465 1265.81,848.31 1368.35,821.156 1470.9,794.001 1573.44,766.846 1675.98,739.691 1778.52,712.536 1881.06,685.382 1983.6,658.227 2086.15,631.072 2188.69,603.917 2291.23,576.762 \"/>\n",
       "<path clip-path=\"url(#clip382)\" d=\"M240.392 87.9763 L342.934 155.863 L445.476 223.75 L548.018 291.637 L650.56 359.524 L753.102 427.411 L855.643 495.298 L958.185 563.185 L1060.73 631.072 L1163.27 698.959 L1265.81 766.846 L1368.35 834.733 L1470.9 902.62 L1573.44 970.507 L1675.98 1038.39 L1778.52 1106.28 L1881.06 1174.17 L1983.6 1242.05 L2086.15 1309.94 L2188.69 1377.83 L2291.23 1445.72 L2291.23 1445.72 L2188.69 1445.72 L2086.15 1445.72 L1983.6 1445.72 L1881.06 1445.72 L1778.52 1445.72 L1675.98 1445.72 L1573.44 1445.72 L1470.9 1445.72 L1368.35 1445.72 L1265.81 1445.72 L1163.27 1445.72 L1060.73 1445.72 L958.185 1445.72 L855.643 1445.72 L753.102 1445.72 L650.56 1445.72 L548.018 1445.72 L445.476 1445.72 L342.934 1445.72 L240.392 1445.72  Z\" fill=\"#e26f46\" fill-rule=\"evenodd\" fill-opacity=\"0.5\"/>\n",
       "<polyline clip-path=\"url(#clip382)\" style=\"stroke:#e26f46; stroke-linecap:round; stroke-linejoin:round; stroke-width:4; stroke-opacity:1; fill:none\" points=\"240.392,87.9763 342.934,155.863 445.476,223.75 548.018,291.637 650.56,359.524 753.102,427.411 855.643,495.298 958.185,563.185 1060.73,631.072 1163.27,698.959 1265.81,766.846 1368.35,834.733 1470.9,902.62 1573.44,970.507 1675.98,1038.39 1778.52,1106.28 1881.06,1174.17 1983.6,1242.05 2086.15,1309.94 2188.69,1377.83 2291.23,1445.72 \"/>\n",
       "<path clip-path=\"url(#clip380)\" d=\"M2010.47 250.738 L2280.29 250.738 L2280.29 95.2176 L2010.47 95.2176  Z\" fill=\"#ffffff\" fill-rule=\"evenodd\" fill-opacity=\"1\"/>\n",
       "<polyline clip-path=\"url(#clip380)\" style=\"stroke:#000000; stroke-linecap:round; stroke-linejoin:round; stroke-width:4; stroke-opacity:1; fill:none\" points=\"2010.47,250.738 2280.29,250.738 2280.29,95.2176 2010.47,95.2176 2010.47,250.738 \"/>\n",
       "<path clip-path=\"url(#clip380)\" d=\"M2034.63 167.794 L2179.55 167.794 L2179.55 126.322 L2034.63 126.322 L2034.63 167.794  Z\" fill=\"#009af9\" fill-rule=\"evenodd\" fill-opacity=\"0.5\"/>\n",
       "<polyline clip-path=\"url(#clip380)\" style=\"stroke:#009af9; stroke-linecap:round; stroke-linejoin:round; stroke-width:4; stroke-opacity:1; fill:none\" points=\"2034.63,126.322 2179.55,126.322 \"/>\n",
       "<path clip-path=\"url(#clip380)\" d=\"M2217.55 166.745 Q2215.75 171.375 2214.03 172.787 Q2212.32 174.199 2209.45 174.199 L2206.05 174.199 L2206.05 170.634 L2208.55 170.634 Q2210.31 170.634 2211.28 169.8 Q2212.25 168.967 2213.43 165.865 L2214.19 163.921 L2203.71 138.412 L2208.22 138.412 L2216.32 158.689 L2224.43 138.412 L2228.94 138.412 L2217.55 166.745 Z\" fill=\"#000000\" fill-rule=\"nonzero\" fill-opacity=\"1\" /><path clip-path=\"url(#clip380)\" d=\"M2236.23 160.402 L2243.87 160.402 L2243.87 134.037 L2235.56 135.703 L2235.56 131.444 L2243.82 129.778 L2248.5 129.778 L2248.5 160.402 L2256.14 160.402 L2256.14 164.338 L2236.23 164.338 L2236.23 160.402 Z\" fill=\"#000000\" fill-rule=\"nonzero\" fill-opacity=\"1\" /><path clip-path=\"url(#clip380)\" d=\"M2034.63 219.634 L2179.55 219.634 L2179.55 178.162 L2034.63 178.162 L2034.63 219.634  Z\" fill=\"#e26f46\" fill-rule=\"evenodd\" fill-opacity=\"0.5\"/>\n",
       "<polyline clip-path=\"url(#clip380)\" style=\"stroke:#e26f46; stroke-linecap:round; stroke-linejoin:round; stroke-width:4; stroke-opacity:1; fill:none\" points=\"2034.63,178.162 2179.55,178.162 \"/>\n",
       "<path clip-path=\"url(#clip380)\" d=\"M2217.55 218.585 Q2215.75 223.215 2214.03 224.627 Q2212.32 226.039 2209.45 226.039 L2206.05 226.039 L2206.05 222.474 L2208.55 222.474 Q2210.31 222.474 2211.28 221.64 Q2212.25 220.807 2213.43 217.705 L2214.19 215.761 L2203.71 190.252 L2208.22 190.252 L2216.32 210.529 L2224.43 190.252 L2228.94 190.252 L2217.55 218.585 Z\" fill=\"#000000\" fill-rule=\"nonzero\" fill-opacity=\"1\" /><path clip-path=\"url(#clip380)\" d=\"M2239.45 212.242 L2255.77 212.242 L2255.77 216.178 L2233.82 216.178 L2233.82 212.242 Q2236.49 209.488 2241.07 204.858 Q2245.68 200.205 2246.86 198.863 Q2249.1 196.34 2249.98 194.604 Q2250.88 192.844 2250.88 191.155 Q2250.88 188.4 2248.94 186.664 Q2247.02 184.928 2243.92 184.928 Q2241.72 184.928 2239.26 185.692 Q2236.83 186.455 2234.06 188.006 L2234.06 183.284 Q2236.88 182.15 2239.33 181.571 Q2241.79 180.993 2243.82 180.993 Q2249.19 180.993 2252.39 183.678 Q2255.58 186.363 2255.58 190.854 Q2255.58 192.983 2254.77 194.905 Q2253.99 196.803 2251.88 199.395 Q2251.3 200.067 2248.2 203.284 Q2245.1 206.479 2239.45 212.242 Z\" fill=\"#000000\" fill-rule=\"nonzero\" fill-opacity=\"1\" /></svg>\n"
      ]
     },
     "execution_count": 61,
     "metadata": {},
     "output_type": "execute_result"
    }
   ],
   "source": [
    "using Plots\n",
    "f(x) = (2/5)x-6/5\n",
    "g(x) = -x\n",
    "X = -10:10\n",
    "the_max = max(f(X[end]), g(X[1]))\n",
    "the_min = min(f(X[1]), g(X[end]))\n",
    "plot(X, f, fill = (the_max, 0.5, :auto))\n",
    "plot!(X, g, fill = (the_min, 0.5, :auto))"
   ]
  },
  {
   "cell_type": "code",
   "execution_count": null,
   "id": "465c1330-51b7-4728-b623-884b05eb8be4",
   "metadata": {},
   "outputs": [],
   "source": []
  }
 ],
 "metadata": {
  "kernelspec": {
   "display_name": "Julia 1.9.3",
   "language": "julia",
   "name": "julia-1.9"
  },
  "language_info": {
   "file_extension": ".jl",
   "mimetype": "application/julia",
   "name": "julia",
   "version": "1.9.3"
  }
 },
 "nbformat": 4,
 "nbformat_minor": 5
}
