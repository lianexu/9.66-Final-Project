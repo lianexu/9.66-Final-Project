{
 "cells": [
  {
   "cell_type": "code",
   "execution_count": 1,
   "id": "f4711ea5-8fbf-4a0c-b4b8-26d05910ee47",
   "metadata": {},
   "outputs": [],
   "source": [
    "using Gen, Plots, LinearAlgebra"
   ]
  },
  {
   "cell_type": "code",
   "execution_count": 2,
   "id": "0855614f-5803-4915-b465-c758f1ad8295",
   "metadata": {},
   "outputs": [
    {
     "data": {
      "text/plain": [
       "getRotationMatrix (generic function with 1 method)"
      ]
     },
     "execution_count": 2,
     "metadata": {},
     "output_type": "execute_result"
    }
   ],
   "source": [
    "function getRotationMatrix(theta)\n",
    "    return [cos(theta) -sin(theta); sin(theta) cos(theta)]\n",
    "end"
   ]
  },
  {
   "cell_type": "code",
   "execution_count": 148,
   "id": "2acc6e14-edd7-46bf-a4d1-1947bd65ce0f",
   "metadata": {},
   "outputs": [
    {
     "data": {
      "text/plain": [
       "makeBox (generic function with 1 method)"
      ]
     },
     "execution_count": 148,
     "metadata": {},
     "output_type": "execute_result"
    }
   ],
   "source": [
    "function makeBox(theta, scale)\n",
    "    normals = [[0.0, -1.0], [1.0, 0.0], [0.0, 1.0], [-1.0, 0.0]]\n",
    "    corners = [[1.0,1.0], [-1.0,1.0], [-1.0,-1.0], [1.0,-1.0]]\n",
    "    for i in 1:4\n",
    "        normals[i] = getRotationMatrix(theta) * normals[i]\n",
    "        corners[i] = getRotationMatrix(theta) * corners[i] * scale\n",
    "        # if abs(corners[i][1]) < 0.000000001\n",
    "        #     corners[i][1] = 0.0\n",
    "        # end\n",
    "        # if abs(corners[i][2]) < 0.000000001\n",
    "        #     corners[i][2] = 0.0\n",
    "        # end\n",
    "    end\n",
    "    box = vcat(normals, corners)\n",
    "    return box\n",
    "end"
   ]
  },
  {
   "cell_type": "code",
   "execution_count": 149,
   "id": "95d358b5-39e5-415e-a447-e999cee57bf8",
   "metadata": {},
   "outputs": [
    {
     "data": {
      "text/plain": [
       "8-element Vector{Vector{Float64}}:\n",
       " [0.7071067811865475, -0.7071067811865476]\n",
       " [0.7071067811865476, 0.7071067811865475]\n",
       " [-0.7071067811865475, 0.7071067811865476]\n",
       " [-0.7071067811865476, -0.7071067811865475]\n",
       " [2.220446049250313e-16, 2.82842712474619]\n",
       " [-2.82842712474619, 2.220446049250313e-16]\n",
       " [-2.220446049250313e-16, -2.82842712474619]\n",
       " [2.82842712474619, -2.220446049250313e-16]"
      ]
     },
     "execution_count": 149,
     "metadata": {},
     "output_type": "execute_result"
    }
   ],
   "source": [
    "box = makeBox(pi/4, 2.0)"
   ]
  },
  {
   "cell_type": "code",
   "execution_count": 150,
   "id": "71ecbead-99ba-49cb-8c64-deccad9aff8e",
   "metadata": {},
   "outputs": [
    {
     "data": {
      "text/plain": [
       "2-element Vector{Float64}:\n",
       "  0.7071067811865475\n",
       " -0.7071067811865476"
      ]
     },
     "execution_count": 150,
     "metadata": {},
     "output_type": "execute_result"
    }
   ],
   "source": [
    "box[1]"
   ]
  },
  {
   "cell_type": "code",
   "execution_count": 207,
   "id": "22a8aa9b-64cc-4275-a61f-6fd1d75fdef7",
   "metadata": {},
   "outputs": [
    {
     "data": {
      "text/plain": [
       "isInBox (generic function with 1 method)"
      ]
     },
     "execution_count": 207,
     "metadata": {},
     "output_type": "execute_result"
    }
   ],
   "source": [
    "function isInBox(box, point, scale)\n",
    "    ABn = box[1] # normal defining AB\n",
    "    BCn = box[2]\n",
    "    CDn = box[3]\n",
    "    DAn = box[4]\n",
    "\n",
    "    mAB = Transpose(ABn) * point + scale\n",
    "    mBC = Transpose(BCn) * point + scale\n",
    "    mCD = Transpose(CDn) * point + scale\n",
    "    mDA = Transpose(DAn) * point + scale\n",
    "\n",
    "    epsilon = 0.0000001\n",
    "\n",
    "    if mAB > -epsilon && mAB < epsilon\n",
    "        mAB = 0.0\n",
    "    end\n",
    "    if mBC > -epsilon && mBC < epsilon\n",
    "        mBC = 0.0\n",
    "    end\n",
    "    if mCD > -epsilon && mCD < epsilon\n",
    "        mCD = 0.0\n",
    "    end\n",
    "    if mDA > -epsilon && mDA < epsilon\n",
    "        mDA = 0.0\n",
    "    end\n",
    "\n",
    "    # ABn = box[1]\n",
    "    # Transpose(DAn) * point + scale\n",
    "    \n",
    "    \n",
    "    if mAB < 0 # assumes that the box is side length 2, centered at (0,0)\n",
    "        return false\n",
    "    end\n",
    "     if mBC < 0\n",
    "        return false\n",
    "    end\n",
    "    if mCD < 0\n",
    "        return false\n",
    "    end\n",
    "    if mDA < 0\n",
    "        return false\n",
    "    end\n",
    "    return true\n",
    "    \n",
    "end"
   ]
  },
  {
   "cell_type": "code",
   "execution_count": 208,
   "id": "685edc41-7819-4f31-9430-7b2c5cebb94b",
   "metadata": {},
   "outputs": [
    {
     "data": {
      "text/plain": [
       "findIntersectionWithTrajectory (generic function with 1 method)"
      ]
     },
     "execution_count": 208,
     "metadata": {},
     "output_type": "execute_result"
    }
   ],
   "source": [
    "function findIntersectionWithTrajectory(box, scale, O, V)\n",
    "    ABn = box[1] # normal defining AB\n",
    "    BCn = box[2]\n",
    "    CDn = box[3]\n",
    "    DAn = box[4]\n",
    "\n",
    "    tAB = Inf\n",
    "    tBC = Inf\n",
    "    tBC = Inf\n",
    "    tDA = Inf\n",
    "    \n",
    "    tAB = (-scale - (ABn[1]* O[1]) - (ABn[2]* O[2]))/(ABn[1]*V[1] + ABn[2]*V[2])\n",
    "    tBC = (-scale - (BCn[1]* O[1]) - (BCn[2]* O[2]))/(BCn[1]*V[1] + BCn[2]*V[2])\n",
    "    tCD = (-scale - (CDn[1]* O[1]) - (CDn[2]* O[2]))/(CDn[1]*V[1] + CDn[2]*V[2])\n",
    "    tDA = (-scale - (DAn[1]* O[1]) - (DAn[2]* O[2]))/(DAn[1]*V[1] + DAn[2]*V[2])\n",
    "\n",
    "    if tAB == -Inf || tAB < 0\n",
    "        tAB = Inf\n",
    "    end\n",
    "    if tBC == -Inf || tBC < 0\n",
    "        tBC = Inf\n",
    "    end\n",
    "    if tCD == -Inf || tCD < 0\n",
    "        tCD = Inf\n",
    "    end\n",
    "    if tDA == -Inf || tDA < 0\n",
    "        tDA = Inf\n",
    "    end\n",
    "    \n",
    "    current = Inf\n",
    "    p = [Inf;Inf]\n",
    "    n = [Inf;Inf]\n",
    "    if tAB < current\n",
    "        temp_p = O + V*tAB\n",
    "        if isInBox(box, temp_p, scale)\n",
    "            current = tAB\n",
    "            p = O + V*tAB\n",
    "            n = ABn\n",
    "        end\n",
    "    end\n",
    "    if tBC < tAB\n",
    "        temp_p = O + V*tBC\n",
    "        if isInBox(box, temp_p, scale)\n",
    "            current = tBC\n",
    "            p = O + V*tBC\n",
    "            n = BCn\n",
    "        end\n",
    "    end\n",
    "    if tCD < current\n",
    "        temp_p = O + V*tCD\n",
    "        if isInBox(box, temp_p, scale)\n",
    "            current = tCD\n",
    "            p = O + V*tCD\n",
    "            n = CDn\n",
    "        end\n",
    "    end\n",
    "    if tDA < current\n",
    "        temp_p = O + V*tDA\n",
    "        if isInBox(box, temp_p, scale)\n",
    "            current = tCD\n",
    "            p = O + V*tCD\n",
    "            n = DAn\n",
    "        end\n",
    "    end\n",
    "    # return (O + V*tAB, -ABn, tAB)\n",
    "    return (p, -n, current) #(point of intersection, -n so the n points outward, time of intersection)\n",
    "end"
   ]
  },
  {
   "cell_type": "code",
   "execution_count": 209,
   "id": "d0143c4d-fb2d-4bff-983b-3fee0e1b7193",
   "metadata": {},
   "outputs": [
    {
     "data": {
      "text/plain": [
       "getOutVector (generic function with 1 method)"
      ]
     },
     "execution_count": 209,
     "metadata": {},
     "output_type": "execute_result"
    }
   ],
   "source": [
    "function getOutVector(V_in, p, n)\n",
    "    O_out = p \n",
    "    V_out = V_in - 2 * (Transpose(V_in) * n) * n # velocity after hitting the object\n",
    "    return O_out, V_out\n",
    "end"
   ]
  },
  {
   "cell_type": "code",
   "execution_count": 306,
   "id": "bbe1b0b9-450d-4a5a-a66f-3e354df36c8e",
   "metadata": {},
   "outputs": [
    {
     "data": {
      "text/plain": [
       "getTrajectory (generic function with 1 method)"
      ]
     },
     "execution_count": 306,
     "metadata": {},
     "output_type": "execute_result"
    }
   ],
   "source": [
    "function getTrajectory(box, scale, O_in, V_in)\n",
    "    p,n,t_out = findIntersectionWithTrajectory(box, scale, O_in, V_in) # TODO: do checks on p,n,t_out not being Inf\n",
    "    O_out, V_out = getOutVector(V_in, p, n)\n",
    "    return O_out, V_out, t_out\n",
    "end"
   ]
  },
  {
   "cell_type": "code",
   "execution_count": 307,
   "id": "43e24a22-f504-4bac-b5a7-6a70bcf74f51",
   "metadata": {},
   "outputs": [],
   "source": [
    "@gen function line_model(O_in, V_in, t_out, O_out, V_out, ts, jitter_x, jitter_y)\n",
    "\n",
    "    function y_in(t)\n",
    "        return O_in + V_in * t\n",
    "    end\n",
    "\n",
    "    function y_out(t)\n",
    "        return O_out + V_out * (t - t_out)\n",
    "    end\n",
    "\n",
    "    for (i, t) in enumerate(ts)\n",
    "        if t <= t_out\n",
    "            ({(:x, i)} ~ normal(y_in(t)[1], jitter_x))\n",
    "            ({(:y, i)} ~ normal(y_in(t)[2], jitter_y))\n",
    "        else\n",
    "            ({(:x, i)} ~ normal(y_out(t)[1], jitter_x))\n",
    "            ({(:y, i)} ~ normal(y_out(t)[2], jitter_y))\n",
    "        end\n",
    "    end\n",
    "\n",
    "    return y\n",
    "end;"
   ]
  },
  {
   "cell_type": "code",
   "execution_count": 308,
   "id": "61179d9c-41d5-4872-a68a-97fcd081dd87",
   "metadata": {},
   "outputs": [],
   "source": [
    "function render_trace(trace, box; show_data=true)\n",
    "    \n",
    "    # Pull out xs from the trace\n",
    "    O_in, V_in, t_out, O_out, V_out, ts, jitter_x, jitter_y = get_args(trace)\n",
    "    \n",
    "    # Pull out the return value, useful for plotting\n",
    "    y = get_retval(trace)\n",
    "    \n",
    "    fig = plot(color=\"black\", label=nothing,\n",
    "                xlim=(-15, 15), ylim=(-15, 15))\n",
    "    A = box[5]\n",
    "    B = box[6]\n",
    "    C = box[7]\n",
    "    D = box[8]\n",
    "    E = box[5]\n",
    "\n",
    "    plot!([A[1],B[1],C[1],D[1],E[1]],[A[2],B[2],C[2],D[2],E[2]],\n",
    "      color=:red, linewidth=2, linestyle=:solid, label=\"Object\")\n",
    "\n",
    "    if show_data\n",
    "        xs = [trace[(:x, i)] for i=1:length(ts)]\n",
    "        ys = [trace[(:y, i)] for i=1:length(ts)]\n",
    "        \n",
    "        # Plot the data set\n",
    "        scatter!(xs, ys, c=\"black\", label=nothing)\n",
    "    end\n",
    "    \n",
    "    return fig\n",
    "end;"
   ]
  },
  {
   "cell_type": "code",
   "execution_count": 309,
   "id": "adee9209-818d-422f-a7ec-e4814ba77baa",
   "metadata": {},
   "outputs": [
    {
     "data": {
      "image/png": "[encoded data removed]",
      "image/svg+xml": [
       "<?xml version=\"1.0\" encoding=\"utf-8\"?>\n",
       "<svg xmlns=\"http://www.w3.org/2000/svg\" xmlns:xlink=\"http://www.w3.org/1999/xlink\" width=\"600\" height=\"400\" viewBox=\"0 0 2400 1600\">\n",
       "<defs>\n",
       "  <clipPath id=\"clip540\">\n",
       "    <rect x=\"0\" y=\"0\" width=\"2400\" height=\"1600\"/>\n",
       "  </clipPath>\n",
       "</defs>\n",
       "<path clip-path=\"url(#clip540)\" d=\"M0 1600 L2400 1600 L2400 0 L0 0  Z\" fill=\"#ffffff\" fill-rule=\"evenodd\" fill-opacity=\"1\"/>\n",
       "<defs>\n",
       "  <clipPath id=\"clip541\">\n",
       "    <rect x=\"480\" y=\"0\" width=\"1681\" height=\"1600\"/>\n",
       "  </clipPath>\n",
       "</defs>\n",
       "<path clip-path=\"url(#clip540)\" d=\"M178.867 1486.45 L2352.76 1486.45 L2352.76 47.2441 L178.867 47.2441  Z\" fill=\"#ffffff\" fill-rule=\"evenodd\" fill-opacity=\"1\"/>\n",
       "<defs>\n",
       "  <clipPath id=\"clip542\">\n",
       "    <rect x=\"178\" y=\"47\" width=\"2175\" height=\"1440\"/>\n",
       "  </clipPath>\n",
       "</defs>\n",
       "<polyline clip-path=\"url(#clip542)\" style=\"stroke:#000000; stroke-linecap:round; stroke-linejoin:round; stroke-width:2; stroke-opacity:0.1; fill:none\" points=\"178.867,1486.45 178.867,47.2441 \"/>\n",
       "<polyline clip-path=\"url(#clip542)\" style=\"stroke:#000000; stroke-linecap:round; stroke-linejoin:round; stroke-width:2; stroke-opacity:0.1; fill:none\" points=\"541.182,1486.45 541.182,47.2441 \"/>\n",
       "<polyline clip-path=\"url(#clip542)\" style=\"stroke:#000000; stroke-linecap:round; stroke-linejoin:round; stroke-width:2; stroke-opacity:0.1; fill:none\" points=\"903.496,1486.45 903.496,47.2441 \"/>\n",
       "<polyline clip-path=\"url(#clip542)\" style=\"stroke:#000000; stroke-linecap:round; stroke-linejoin:round; stroke-width:2; stroke-opacity:0.1; fill:none\" points=\"1265.81,1486.45 1265.81,47.2441 \"/>\n",
       "<polyline clip-path=\"url(#clip542)\" style=\"stroke:#000000; stroke-linecap:round; stroke-linejoin:round; stroke-width:2; stroke-opacity:0.1; fill:none\" points=\"1628.13,1486.45 1628.13,47.2441 \"/>\n",
       "<polyline clip-path=\"url(#clip542)\" style=\"stroke:#000000; stroke-linecap:round; stroke-linejoin:round; stroke-width:2; stroke-opacity:0.1; fill:none\" points=\"1990.44,1486.45 1990.44,47.2441 \"/>\n",
       "<polyline clip-path=\"url(#clip542)\" style=\"stroke:#000000; stroke-linecap:round; stroke-linejoin:round; stroke-width:2; stroke-opacity:0.1; fill:none\" points=\"2352.76,1486.45 2352.76,47.2441 \"/>\n",
       "<polyline clip-path=\"url(#clip540)\" style=\"stroke:#000000; stroke-linecap:round; stroke-linejoin:round; stroke-width:4; stroke-opacity:1; fill:none\" points=\"178.867,1486.45 2352.76,1486.45 \"/>\n",
       "<polyline clip-path=\"url(#clip540)\" style=\"stroke:#000000; stroke-linecap:round; stroke-linejoin:round; stroke-width:4; stroke-opacity:1; fill:none\" points=\"178.867,1486.45 178.867,1467.55 \"/>\n",
       "<polyline clip-path=\"url(#clip540)\" style=\"stroke:#000000; stroke-linecap:round; stroke-linejoin:round; stroke-width:4; stroke-opacity:1; fill:none\" points=\"541.182,1486.45 541.182,1467.55 \"/>\n",
       "<polyline clip-path=\"url(#clip540)\" style=\"stroke:#000000; stroke-linecap:round; stroke-linejoin:round; stroke-width:4; stroke-opacity:1; fill:none\" points=\"903.496,1486.45 903.496,1467.55 \"/>\n",
       "<polyline clip-path=\"url(#clip540)\" style=\"stroke:#000000; stroke-linecap:round; stroke-linejoin:round; stroke-width:4; stroke-opacity:1; fill:none\" points=\"1265.81,1486.45 1265.81,1467.55 \"/>\n",
       "<polyline clip-path=\"url(#clip540)\" style=\"stroke:#000000; stroke-linecap:round; stroke-linejoin:round; stroke-width:4; stroke-opacity:1; fill:none\" points=\"1628.13,1486.45 1628.13,1467.55 \"/>\n",
       "<polyline clip-path=\"url(#clip540)\" style=\"stroke:#000000; stroke-linecap:round; stroke-linejoin:round; stroke-width:4; stroke-opacity:1; fill:none\" points=\"1990.44,1486.45 1990.44,1467.55 \"/>\n",
       "<polyline clip-path=\"url(#clip540)\" style=\"stroke:#000000; stroke-linecap:round; stroke-linejoin:round; stroke-width:4; stroke-opacity:1; fill:none\" points=\"2352.76,1486.45 2352.76,1467.55 \"/>\n",
       "<path clip-path=\"url(#clip540)\" d=\"M133.427 1532.02 L163.103 1532.02 L163.103 1535.95 L133.427 1535.95 L133.427 1532.02 Z\" fill=\"#000000\" fill-rule=\"nonzero\" fill-opacity=\"1\" /><path clip-path=\"url(#clip540)\" d=\"M174.006 1544.91 L181.644 1544.91 L181.644 1518.55 L173.334 1520.21 L173.334 1515.95 L181.598 1514.29 L186.274 1514.29 L186.274 1544.91 L193.913 1544.91 L193.913 1548.85 L174.006 1548.85 L174.006 1544.91 Z\" fill=\"#000000\" fill-rule=\"nonzero\" fill-opacity=\"1\" /><path clip-path=\"url(#clip540)\" d=\"M203.404 1514.29 L221.76 1514.29 L221.76 1518.22 L207.686 1518.22 L207.686 1526.7 Q208.704 1526.35 209.723 1526.19 Q210.741 1526 211.76 1526 Q217.547 1526 220.927 1529.17 Q224.306 1532.34 224.306 1537.76 Q224.306 1543.34 220.834 1546.44 Q217.362 1549.52 211.042 1549.52 Q208.866 1549.52 206.598 1549.15 Q204.353 1548.78 201.945 1548.04 L201.945 1543.34 Q204.029 1544.47 206.251 1545.03 Q208.473 1545.58 210.95 1545.58 Q214.954 1545.58 217.292 1543.48 Q219.63 1541.37 219.63 1537.76 Q219.63 1534.15 217.292 1532.04 Q214.954 1529.94 210.95 1529.94 Q209.075 1529.94 207.2 1530.35 Q205.348 1530.77 203.404 1531.65 L203.404 1514.29 Z\" fill=\"#000000\" fill-rule=\"nonzero\" fill-opacity=\"1\" /><path clip-path=\"url(#clip540)\" d=\"M495.244 1532.02 L524.92 1532.02 L524.92 1535.95 L495.244 1535.95 L495.244 1532.02 Z\" fill=\"#000000\" fill-rule=\"nonzero\" fill-opacity=\"1\" /><path clip-path=\"url(#clip540)\" d=\"M535.823 1544.91 L543.462 1544.91 L543.462 1518.55 L535.151 1520.21 L535.151 1515.95 L543.415 1514.29 L548.091 1514.29 L548.091 1544.91 L555.73 1544.91 L555.73 1548.85 L535.823 1548.85 L535.823 1544.91 Z\" fill=\"#000000\" fill-rule=\"nonzero\" fill-opacity=\"1\" /><path clip-path=\"url(#clip540)\" d=\"M575.174 1517.37 Q571.563 1517.37 569.735 1520.93 Q567.929 1524.47 567.929 1531.6 Q567.929 1538.71 569.735 1542.27 Q571.563 1545.82 575.174 1545.82 Q578.809 1545.82 580.614 1542.27 Q582.443 1538.71 582.443 1531.6 Q582.443 1524.47 580.614 1520.93 Q578.809 1517.37 575.174 1517.37 M575.174 1513.66 Q580.985 1513.66 584.04 1518.27 Q587.119 1522.85 587.119 1531.6 Q587.119 1540.33 584.04 1544.94 Q580.985 1549.52 575.174 1549.52 Q569.364 1549.52 566.286 1544.94 Q563.23 1540.33 563.23 1531.6 Q563.23 1522.85 566.286 1518.27 Q569.364 1513.66 575.174 1513.66 Z\" fill=\"#000000\" fill-rule=\"nonzero\" fill-opacity=\"1\" /><path clip-path=\"url(#clip540)\" d=\"M873.138 1532.02 L902.814 1532.02 L902.814 1535.95 L873.138 1535.95 L873.138 1532.02 Z\" fill=\"#000000\" fill-rule=\"nonzero\" fill-opacity=\"1\" /><path clip-path=\"url(#clip540)\" d=\"M912.952 1514.29 L931.309 1514.29 L931.309 1518.22 L917.235 1518.22 L917.235 1526.7 Q918.253 1526.35 919.272 1526.19 Q920.29 1526 921.309 1526 Q927.096 1526 930.475 1529.17 Q933.855 1532.34 933.855 1537.76 Q933.855 1543.34 930.383 1546.44 Q926.911 1549.52 920.591 1549.52 Q918.415 1549.52 916.147 1549.15 Q913.901 1548.78 911.494 1548.04 L911.494 1543.34 Q913.577 1544.47 915.8 1545.03 Q918.022 1545.58 920.499 1545.58 Q924.503 1545.58 926.841 1543.48 Q929.179 1541.37 929.179 1537.76 Q929.179 1534.15 926.841 1532.04 Q924.503 1529.94 920.499 1529.94 Q918.624 1529.94 916.749 1530.35 Q914.897 1530.77 912.952 1531.65 L912.952 1514.29 Z\" fill=\"#000000\" fill-rule=\"nonzero\" fill-opacity=\"1\" /><path clip-path=\"url(#clip540)\" d=\"M1265.81 1517.37 Q1262.2 1517.37 1260.37 1520.93 Q1258.57 1524.47 1258.57 1531.6 Q1258.57 1538.71 1260.37 1542.27 Q1262.2 1545.82 1265.81 1545.82 Q1269.45 1545.82 1271.25 1542.27 Q1273.08 1538.71 1273.08 1531.6 Q1273.08 1524.47 1271.25 1520.93 Q1269.45 1517.37 1265.81 1517.37 M1265.81 1513.66 Q1271.62 1513.66 1274.68 1518.27 Q1277.76 1522.85 1277.76 1531.6 Q1277.76 1540.33 1274.68 1544.94 Q1271.62 1549.52 1265.81 1549.52 Q1260 1549.52 1256.92 1544.94 Q1253.87 1540.33 1253.87 1531.6 Q1253.87 1522.85 1256.92 1518.27 Q1260 1513.66 1265.81 1513.66 Z\" fill=\"#000000\" fill-rule=\"nonzero\" fill-opacity=\"1\" /><path clip-path=\"url(#clip540)\" d=\"M1618.4 1514.29 L1636.76 1514.29 L1636.76 1518.22 L1622.69 1518.22 L1622.69 1526.7 Q1623.7 1526.35 1624.72 1526.19 Q1625.74 1526 1626.76 1526 Q1632.55 1526 1635.93 1529.17 Q1639.31 1532.34 1639.31 1537.76 Q1639.31 1543.34 1635.83 1546.44 Q1632.36 1549.52 1626.04 1549.52 Q1623.87 1549.52 1621.6 1549.15 Q1619.35 1548.78 1616.95 1548.04 L1616.95 1543.34 Q1619.03 1544.47 1621.25 1545.03 Q1623.47 1545.58 1625.95 1545.58 Q1629.95 1545.58 1632.29 1543.48 Q1634.63 1541.37 1634.63 1537.76 Q1634.63 1534.15 1632.29 1532.04 Q1629.95 1529.94 1625.95 1529.94 Q1624.08 1529.94 1622.2 1530.35 Q1620.35 1530.77 1618.4 1531.65 L1618.4 1514.29 Z\" fill=\"#000000\" fill-rule=\"nonzero\" fill-opacity=\"1\" /><path clip-path=\"url(#clip540)\" d=\"M1965.13 1544.91 L1972.77 1544.91 L1972.77 1518.55 L1964.46 1520.21 L1964.46 1515.95 L1972.72 1514.29 L1977.4 1514.29 L1977.4 1544.91 L1985.04 1544.91 L1985.04 1548.85 L1965.13 1548.85 L1965.13 1544.91 Z\" fill=\"#000000\" fill-rule=\"nonzero\" fill-opacity=\"1\" /><path clip-path=\"url(#clip540)\" d=\"M2004.48 1517.37 Q2000.87 1517.37 1999.04 1520.93 Q1997.23 1524.47 1997.23 1531.6 Q1997.23 1538.71 1999.04 1542.27 Q2000.87 1545.82 2004.48 1545.82 Q2008.11 1545.82 2009.92 1542.27 Q2011.75 1538.71 2011.75 1531.6 Q2011.75 1524.47 2009.92 1520.93 Q2008.11 1517.37 2004.48 1517.37 M2004.48 1513.66 Q2010.29 1513.66 2013.35 1518.27 Q2016.42 1522.85 2016.42 1531.6 Q2016.42 1540.33 2013.35 1544.94 Q2010.29 1549.52 2004.48 1549.52 Q1998.67 1549.52 1995.59 1544.94 Q1992.54 1540.33 1992.54 1531.6 Q1992.54 1522.85 1995.59 1518.27 Q1998.67 1513.66 2004.48 1513.66 Z\" fill=\"#000000\" fill-rule=\"nonzero\" fill-opacity=\"1\" /><path clip-path=\"url(#clip540)\" d=\"M2327.94 1544.91 L2335.58 1544.91 L2335.58 1518.55 L2327.27 1520.21 L2327.27 1515.95 L2335.53 1514.29 L2340.21 1514.29 L2340.21 1544.91 L2347.85 1544.91 L2347.85 1548.85 L2327.94 1548.85 L2327.94 1544.91 Z\" fill=\"#000000\" fill-rule=\"nonzero\" fill-opacity=\"1\" /><path clip-path=\"url(#clip540)\" d=\"M2357.34 1514.29 L2375.7 1514.29 L2375.7 1518.22 L2361.62 1518.22 L2361.62 1526.7 Q2362.64 1526.35 2363.66 1526.19 Q2364.68 1526 2365.7 1526 Q2371.48 1526 2374.86 1529.17 Q2378.24 1532.34 2378.24 1537.76 Q2378.24 1543.34 2374.77 1546.44 Q2371.3 1549.52 2364.98 1549.52 Q2362.8 1549.52 2360.53 1549.15 Q2358.29 1548.78 2355.88 1548.04 L2355.88 1543.34 Q2357.96 1544.47 2360.19 1545.03 Q2362.41 1545.58 2364.89 1545.58 Q2368.89 1545.58 2371.23 1543.48 Q2373.57 1541.37 2373.57 1537.76 Q2373.57 1534.15 2371.23 1532.04 Q2368.89 1529.94 2364.89 1529.94 Q2363.01 1529.94 2361.14 1530.35 Q2359.28 1530.77 2357.34 1531.65 L2357.34 1514.29 Z\" fill=\"#000000\" fill-rule=\"nonzero\" fill-opacity=\"1\" /><polyline clip-path=\"url(#clip542)\" style=\"stroke:#000000; stroke-linecap:round; stroke-linejoin:round; stroke-width:2; stroke-opacity:0.1; fill:none\" points=\"178.867,1486.45 2352.76,1486.45 \"/>\n",
       "<polyline clip-path=\"url(#clip542)\" style=\"stroke:#000000; stroke-linecap:round; stroke-linejoin:round; stroke-width:2; stroke-opacity:0.1; fill:none\" points=\"178.867,1246.58 2352.76,1246.58 \"/>\n",
       "<polyline clip-path=\"url(#clip542)\" style=\"stroke:#000000; stroke-linecap:round; stroke-linejoin:round; stroke-width:2; stroke-opacity:0.1; fill:none\" points=\"178.867,1006.71 2352.76,1006.71 \"/>\n",
       "<polyline clip-path=\"url(#clip542)\" style=\"stroke:#000000; stroke-linecap:round; stroke-linejoin:round; stroke-width:2; stroke-opacity:0.1; fill:none\" points=\"178.867,766.846 2352.76,766.846 \"/>\n",
       "<polyline clip-path=\"url(#clip542)\" style=\"stroke:#000000; stroke-linecap:round; stroke-linejoin:round; stroke-width:2; stroke-opacity:0.1; fill:none\" points=\"178.867,526.979 2352.76,526.979 \"/>\n",
       "<polyline clip-path=\"url(#clip542)\" style=\"stroke:#000000; stroke-linecap:round; stroke-linejoin:round; stroke-width:2; stroke-opacity:0.1; fill:none\" points=\"178.867,287.111 2352.76,287.111 \"/>\n",
       "<polyline clip-path=\"url(#clip542)\" style=\"stroke:#000000; stroke-linecap:round; stroke-linejoin:round; stroke-width:2; stroke-opacity:0.1; fill:none\" points=\"178.867,47.2441 2352.76,47.2441 \"/>\n",
       "<polyline clip-path=\"url(#clip540)\" style=\"stroke:#000000; stroke-linecap:round; stroke-linejoin:round; stroke-width:4; stroke-opacity:1; fill:none\" points=\"178.867,1486.45 178.867,47.2441 \"/>\n",
       "<polyline clip-path=\"url(#clip540)\" style=\"stroke:#000000; stroke-linecap:round; stroke-linejoin:round; stroke-width:4; stroke-opacity:1; fill:none\" points=\"178.867,1486.45 197.764,1486.45 \"/>\n",
       "<polyline clip-path=\"url(#clip540)\" style=\"stroke:#000000; stroke-linecap:round; stroke-linejoin:round; stroke-width:4; stroke-opacity:1; fill:none\" points=\"178.867,1246.58 197.764,1246.58 \"/>\n",
       "<polyline clip-path=\"url(#clip540)\" style=\"stroke:#000000; stroke-linecap:round; stroke-linejoin:round; stroke-width:4; stroke-opacity:1; fill:none\" points=\"178.867,1006.71 197.764,1006.71 \"/>\n",
       "<polyline clip-path=\"url(#clip540)\" style=\"stroke:#000000; stroke-linecap:round; stroke-linejoin:round; stroke-width:4; stroke-opacity:1; fill:none\" points=\"178.867,766.846 197.764,766.846 \"/>\n",
       "<polyline clip-path=\"url(#clip540)\" style=\"stroke:#000000; stroke-linecap:round; stroke-linejoin:round; stroke-width:4; stroke-opacity:1; fill:none\" points=\"178.867,526.979 197.764,526.979 \"/>\n",
       "<polyline clip-path=\"url(#clip540)\" style=\"stroke:#000000; stroke-linecap:round; stroke-linejoin:round; stroke-width:4; stroke-opacity:1; fill:none\" points=\"178.867,287.111 197.764,287.111 \"/>\n",
       "<polyline clip-path=\"url(#clip540)\" style=\"stroke:#000000; stroke-linecap:round; stroke-linejoin:round; stroke-width:4; stroke-opacity:1; fill:none\" points=\"178.867,47.2441 197.764,47.2441 \"/>\n",
       "<path clip-path=\"url(#clip540)\" d=\"M51.9875 1486.9 L81.6633 1486.9 L81.6633 1490.83 L51.9875 1490.83 L51.9875 1486.9 Z\" fill=\"#000000\" fill-rule=\"nonzero\" fill-opacity=\"1\" /><path clip-path=\"url(#clip540)\" d=\"M92.566 1499.79 L100.205 1499.79 L100.205 1473.43 L91.8947 1475.09 L91.8947 1470.83 L100.159 1469.17 L104.834 1469.17 L104.834 1499.79 L112.473 1499.79 L112.473 1503.73 L92.566 1503.73 L92.566 1499.79 Z\" fill=\"#000000\" fill-rule=\"nonzero\" fill-opacity=\"1\" /><path clip-path=\"url(#clip540)\" d=\"M121.964 1469.17 L140.32 1469.17 L140.32 1473.1 L126.246 1473.1 L126.246 1481.58 Q127.265 1481.23 128.283 1481.07 Q129.302 1480.88 130.32 1480.88 Q136.107 1480.88 139.487 1484.05 Q142.867 1487.22 142.867 1492.64 Q142.867 1498.22 139.394 1501.32 Q135.922 1504.4 129.603 1504.4 Q127.427 1504.4 125.158 1504.03 Q122.913 1503.66 120.506 1502.92 L120.506 1498.22 Q122.589 1499.35 124.811 1499.91 Q127.033 1500.46 129.51 1500.46 Q133.515 1500.46 135.853 1498.36 Q138.191 1496.25 138.191 1492.64 Q138.191 1489.03 135.853 1486.92 Q133.515 1484.82 129.51 1484.82 Q127.635 1484.82 125.76 1485.23 Q123.908 1485.65 121.964 1486.53 L121.964 1469.17 Z\" fill=\"#000000\" fill-rule=\"nonzero\" fill-opacity=\"1\" /><path clip-path=\"url(#clip540)\" d=\"M50.9921 1247.03 L80.6679 1247.03 L80.6679 1250.97 L50.9921 1250.97 L50.9921 1247.03 Z\" fill=\"#000000\" fill-rule=\"nonzero\" fill-opacity=\"1\" /><path clip-path=\"url(#clip540)\" d=\"M91.5706 1259.93 L99.2095 1259.93 L99.2095 1233.56 L90.8993 1235.23 L90.8993 1230.97 L99.1632 1229.3 L103.839 1229.3 L103.839 1259.93 L111.478 1259.93 L111.478 1263.86 L91.5706 1263.86 L91.5706 1259.93 Z\" fill=\"#000000\" fill-rule=\"nonzero\" fill-opacity=\"1\" /><path clip-path=\"url(#clip540)\" d=\"M130.922 1232.38 Q127.311 1232.38 125.482 1235.94 Q123.677 1239.49 123.677 1246.62 Q123.677 1253.72 125.482 1257.29 Q127.311 1260.83 130.922 1260.83 Q134.556 1260.83 136.362 1257.29 Q138.191 1253.72 138.191 1246.62 Q138.191 1239.49 136.362 1235.94 Q134.556 1232.38 130.922 1232.38 M130.922 1228.68 Q136.732 1228.68 139.788 1233.28 Q142.867 1237.87 142.867 1246.62 Q142.867 1255.34 139.788 1259.95 Q136.732 1264.53 130.922 1264.53 Q125.112 1264.53 122.033 1259.95 Q118.978 1255.34 118.978 1246.62 Q118.978 1237.87 122.033 1233.28 Q125.112 1228.68 130.922 1228.68 Z\" fill=\"#000000\" fill-rule=\"nonzero\" fill-opacity=\"1\" /><path clip-path=\"url(#clip540)\" d=\"M82.1494 1007.16 L111.825 1007.16 L111.825 1011.1 L82.1494 1011.1 L82.1494 1007.16 Z\" fill=\"#000000\" fill-rule=\"nonzero\" fill-opacity=\"1\" /><path clip-path=\"url(#clip540)\" d=\"M121.964 989.433 L140.32 989.433 L140.32 993.368 L126.246 993.368 L126.246 1001.84 Q127.265 1001.49 128.283 1001.33 Q129.302 1001.15 130.32 1001.15 Q136.107 1001.15 139.487 1004.32 Q142.867 1007.49 142.867 1012.91 Q142.867 1018.48 139.394 1021.59 Q135.922 1024.66 129.603 1024.66 Q127.427 1024.66 125.158 1024.29 Q122.913 1023.92 120.506 1023.18 L120.506 1018.48 Q122.589 1019.62 124.811 1020.17 Q127.033 1020.73 129.51 1020.73 Q133.515 1020.73 135.853 1018.62 Q138.191 1016.52 138.191 1012.91 Q138.191 1009.29 135.853 1007.19 Q133.515 1005.08 129.51 1005.08 Q127.635 1005.08 125.76 1005.5 Q123.908 1005.91 121.964 1006.79 L121.964 989.433 Z\" fill=\"#000000\" fill-rule=\"nonzero\" fill-opacity=\"1\" /><path clip-path=\"url(#clip540)\" d=\"M130.922 752.645 Q127.311 752.645 125.482 756.209 Q123.677 759.751 123.677 766.881 Q123.677 773.987 125.482 777.552 Q127.311 781.094 130.922 781.094 Q134.556 781.094 136.362 777.552 Q138.191 773.987 138.191 766.881 Q138.191 759.751 136.362 756.209 Q134.556 752.645 130.922 752.645 M130.922 748.941 Q136.732 748.941 139.788 753.547 Q142.867 758.131 142.867 766.881 Q142.867 775.608 139.788 780.214 Q136.732 784.797 130.922 784.797 Q125.112 784.797 122.033 780.214 Q118.978 775.608 118.978 766.881 Q118.978 758.131 122.033 753.547 Q125.112 748.941 130.922 748.941 Z\" fill=\"#000000\" fill-rule=\"nonzero\" fill-opacity=\"1\" /><path clip-path=\"url(#clip540)\" d=\"M121.964 509.699 L140.32 509.699 L140.32 513.634 L126.246 513.634 L126.246 522.106 Q127.265 521.759 128.283 521.597 Q129.302 521.412 130.32 521.412 Q136.107 521.412 139.487 524.583 Q142.867 527.754 142.867 533.171 Q142.867 538.749 139.394 541.851 Q135.922 544.93 129.603 544.93 Q127.427 544.93 125.158 544.56 Q122.913 544.189 120.506 543.449 L120.506 538.749 Q122.589 539.884 124.811 540.439 Q127.033 540.995 129.51 540.995 Q133.515 540.995 135.853 538.888 Q138.191 536.782 138.191 533.171 Q138.191 529.56 135.853 527.453 Q133.515 525.347 129.51 525.347 Q127.635 525.347 125.76 525.763 Q123.908 526.18 121.964 527.06 L121.964 509.699 Z\" fill=\"#000000\" fill-rule=\"nonzero\" fill-opacity=\"1\" /><path clip-path=\"url(#clip540)\" d=\"M91.5706 300.456 L99.2095 300.456 L99.2095 274.091 L90.8993 275.757 L90.8993 271.498 L99.1632 269.831 L103.839 269.831 L103.839 300.456 L111.478 300.456 L111.478 304.391 L91.5706 304.391 L91.5706 300.456 Z\" fill=\"#000000\" fill-rule=\"nonzero\" fill-opacity=\"1\" /><path clip-path=\"url(#clip540)\" d=\"M130.922 272.91 Q127.311 272.91 125.482 276.475 Q123.677 280.017 123.677 287.146 Q123.677 294.253 125.482 297.817 Q127.311 301.359 130.922 301.359 Q134.556 301.359 136.362 297.817 Q138.191 294.253 138.191 287.146 Q138.191 280.017 136.362 276.475 Q134.556 272.91 130.922 272.91 M130.922 269.206 Q136.732 269.206 139.788 273.813 Q142.867 278.396 142.867 287.146 Q142.867 295.873 139.788 300.479 Q136.732 305.063 130.922 305.063 Q125.112 305.063 122.033 300.479 Q118.978 295.873 118.978 287.146 Q118.978 278.396 122.033 273.813 Q125.112 269.206 130.922 269.206 Z\" fill=\"#000000\" fill-rule=\"nonzero\" fill-opacity=\"1\" /><path clip-path=\"url(#clip540)\" d=\"M92.566 60.5889 L100.205 60.5889 L100.205 34.2233 L91.8947 35.89 L91.8947 31.6308 L100.159 29.9641 L104.834 29.9641 L104.834 60.5889 L112.473 60.5889 L112.473 64.5241 L92.566 64.5241 L92.566 60.5889 Z\" fill=\"#000000\" fill-rule=\"nonzero\" fill-opacity=\"1\" /><path clip-path=\"url(#clip540)\" d=\"M121.964 29.9641 L140.32 29.9641 L140.32 33.8993 L126.246 33.8993 L126.246 42.3714 Q127.265 42.0242 128.283 41.8622 Q129.302 41.677 130.32 41.677 Q136.107 41.677 139.487 44.8483 Q142.867 48.0196 142.867 53.4362 Q142.867 59.0149 139.394 62.1167 Q135.922 65.1954 129.603 65.1954 Q127.427 65.1954 125.158 64.825 Q122.913 64.4547 120.506 63.7139 L120.506 59.0149 Q122.589 60.1491 124.811 60.7047 Q127.033 61.2602 129.51 61.2602 Q133.515 61.2602 135.853 59.1538 Q138.191 57.0473 138.191 53.4362 Q138.191 49.8251 135.853 47.7186 Q133.515 45.6122 129.51 45.6122 Q127.635 45.6122 125.76 46.0288 Q123.908 46.4455 121.964 47.3251 L121.964 29.9641 Z\" fill=\"#000000\" fill-rule=\"nonzero\" fill-opacity=\"1\" /><polyline clip-path=\"url(#clip542)\" style=\"stroke:#ff0000; stroke-linecap:round; stroke-linejoin:round; stroke-width:8; stroke-opacity:1; fill:none\" points=\"1628.13,526.979 903.496,526.979 903.496,1006.71 1628.13,1006.71 1628.13,526.979 \"/>\n",
       "<circle clip-path=\"url(#clip542)\" cx=\"758.57\" cy=\"1102.66\" r=\"14.4\" fill=\"#000000\" fill-rule=\"evenodd\" fill-opacity=\"1\" stroke=\"none\"/>\n",
       "<circle clip-path=\"url(#clip542)\" cx=\"792.943\" cy=\"1095.07\" r=\"14.4\" fill=\"#000000\" fill-rule=\"evenodd\" fill-opacity=\"1\" stroke=\"none\"/>\n",
       "<circle clip-path=\"url(#clip542)\" cx=\"827.315\" cy=\"1087.49\" r=\"14.4\" fill=\"#000000\" fill-rule=\"evenodd\" fill-opacity=\"1\" stroke=\"none\"/>\n",
       "<circle clip-path=\"url(#clip542)\" cx=\"861.687\" cy=\"1079.9\" r=\"14.4\" fill=\"#000000\" fill-rule=\"evenodd\" fill-opacity=\"1\" stroke=\"none\"/>\n",
       "<circle clip-path=\"url(#clip542)\" cx=\"896.059\" cy=\"1072.32\" r=\"14.4\" fill=\"#000000\" fill-rule=\"evenodd\" fill-opacity=\"1\" stroke=\"none\"/>\n",
       "<circle clip-path=\"url(#clip542)\" cx=\"930.431\" cy=\"1064.73\" r=\"14.4\" fill=\"#000000\" fill-rule=\"evenodd\" fill-opacity=\"1\" stroke=\"none\"/>\n",
       "<circle clip-path=\"url(#clip542)\" cx=\"964.804\" cy=\"1057.15\" r=\"14.4\" fill=\"#000000\" fill-rule=\"evenodd\" fill-opacity=\"1\" stroke=\"none\"/>\n",
       "<circle clip-path=\"url(#clip542)\" cx=\"999.176\" cy=\"1049.56\" r=\"14.4\" fill=\"#000000\" fill-rule=\"evenodd\" fill-opacity=\"1\" stroke=\"none\"/>\n",
       "<circle clip-path=\"url(#clip542)\" cx=\"1033.55\" cy=\"1041.98\" r=\"14.4\" fill=\"#000000\" fill-rule=\"evenodd\" fill-opacity=\"1\" stroke=\"none\"/>\n",
       "<circle clip-path=\"url(#clip542)\" cx=\"1067.92\" cy=\"1034.39\" r=\"14.4\" fill=\"#000000\" fill-rule=\"evenodd\" fill-opacity=\"1\" stroke=\"none\"/>\n",
       "<circle clip-path=\"url(#clip542)\" cx=\"1102.29\" cy=\"1026.81\" r=\"14.4\" fill=\"#000000\" fill-rule=\"evenodd\" fill-opacity=\"1\" stroke=\"none\"/>\n",
       "<circle clip-path=\"url(#clip542)\" cx=\"1136.66\" cy=\"1019.22\" r=\"14.4\" fill=\"#000000\" fill-rule=\"evenodd\" fill-opacity=\"1\" stroke=\"none\"/>\n",
       "<circle clip-path=\"url(#clip542)\" cx=\"1171.04\" cy=\"1011.64\" r=\"14.4\" fill=\"#000000\" fill-rule=\"evenodd\" fill-opacity=\"1\" stroke=\"none\"/>\n",
       "<circle clip-path=\"url(#clip542)\" cx=\"1205.41\" cy=\"1009.37\" r=\"14.4\" fill=\"#000000\" fill-rule=\"evenodd\" fill-opacity=\"1\" stroke=\"none\"/>\n",
       "<circle clip-path=\"url(#clip542)\" cx=\"1239.78\" cy=\"1016.96\" r=\"14.4\" fill=\"#000000\" fill-rule=\"evenodd\" fill-opacity=\"1\" stroke=\"none\"/>\n",
       "<circle clip-path=\"url(#clip542)\" cx=\"1274.15\" cy=\"1024.55\" r=\"14.4\" fill=\"#000000\" fill-rule=\"evenodd\" fill-opacity=\"1\" stroke=\"none\"/>\n",
       "<circle clip-path=\"url(#clip542)\" cx=\"1308.53\" cy=\"1032.13\" r=\"14.4\" fill=\"#000000\" fill-rule=\"evenodd\" fill-opacity=\"1\" stroke=\"none\"/>\n",
       "<circle clip-path=\"url(#clip542)\" cx=\"1342.9\" cy=\"1039.72\" r=\"14.4\" fill=\"#000000\" fill-rule=\"evenodd\" fill-opacity=\"1\" stroke=\"none\"/>\n",
       "<circle clip-path=\"url(#clip542)\" cx=\"1377.27\" cy=\"1047.3\" r=\"14.4\" fill=\"#000000\" fill-rule=\"evenodd\" fill-opacity=\"1\" stroke=\"none\"/>\n",
       "<circle clip-path=\"url(#clip542)\" cx=\"1411.64\" cy=\"1054.89\" r=\"14.4\" fill=\"#000000\" fill-rule=\"evenodd\" fill-opacity=\"1\" stroke=\"none\"/>\n",
       "<circle clip-path=\"url(#clip542)\" cx=\"1446.01\" cy=\"1062.47\" r=\"14.4\" fill=\"#000000\" fill-rule=\"evenodd\" fill-opacity=\"1\" stroke=\"none\"/>\n",
       "<path clip-path=\"url(#clip540)\" d=\"M1912.3 198.898 L2280.29 198.898 L2280.29 95.2176 L1912.3 95.2176  Z\" fill=\"#ffffff\" fill-rule=\"evenodd\" fill-opacity=\"1\"/>\n",
       "<polyline clip-path=\"url(#clip540)\" style=\"stroke:#000000; stroke-linecap:round; stroke-linejoin:round; stroke-width:4; stroke-opacity:1; fill:none\" points=\"1912.3,198.898 2280.29,198.898 2280.29,95.2176 1912.3,95.2176 1912.3,198.898 \"/>\n",
       "<polyline clip-path=\"url(#clip540)\" style=\"stroke:#ff0000; stroke-linecap:round; stroke-linejoin:round; stroke-width:8; stroke-opacity:1; fill:none\" points=\"1936.46,147.058 2081.38,147.058 \"/>\n",
       "<path clip-path=\"url(#clip540)\" d=\"M2121.56 132.949 Q2116.46 132.949 2113.45 136.745 Q2110.47 140.541 2110.47 147.092 Q2110.47 153.62 2113.45 157.416 Q2116.46 161.213 2121.56 161.213 Q2126.65 161.213 2129.61 157.416 Q2132.6 153.62 2132.6 147.092 Q2132.6 140.541 2129.61 136.745 Q2126.65 132.949 2121.56 132.949 M2121.56 129.153 Q2128.82 129.153 2133.18 134.037 Q2137.53 138.898 2137.53 147.092 Q2137.53 155.264 2133.18 160.148 Q2128.82 165.009 2121.56 165.009 Q2114.26 165.009 2109.89 160.148 Q2105.54 155.287 2105.54 147.092 Q2105.54 138.898 2109.89 134.037 Q2114.26 129.153 2121.56 129.153 Z\" fill=\"#000000\" fill-rule=\"nonzero\" fill-opacity=\"1\" /><path clip-path=\"url(#clip540)\" d=\"M2163.27 151.398 Q2163.27 146.699 2161.32 144.037 Q2159.4 141.352 2156.02 141.352 Q2152.64 141.352 2150.7 144.037 Q2148.78 146.699 2148.78 151.398 Q2148.78 156.097 2150.7 158.782 Q2152.64 161.444 2156.02 161.444 Q2159.4 161.444 2161.32 158.782 Q2163.27 156.097 2163.27 151.398 M2148.78 142.347 Q2150.12 140.032 2152.16 138.921 Q2154.22 137.787 2157.07 137.787 Q2161.79 137.787 2164.73 141.537 Q2167.69 145.287 2167.69 151.398 Q2167.69 157.509 2164.73 161.259 Q2161.79 165.009 2157.07 165.009 Q2154.22 165.009 2152.16 163.898 Q2150.12 162.763 2148.78 160.449 L2148.78 164.338 L2144.5 164.338 L2144.5 128.319 L2148.78 128.319 L2148.78 142.347 Z\" fill=\"#000000\" fill-rule=\"nonzero\" fill-opacity=\"1\" /><path clip-path=\"url(#clip540)\" d=\"M2174.75 138.412 L2179.01 138.412 L2179.01 164.801 Q2179.01 169.754 2177.11 171.976 Q2175.24 174.199 2171.05 174.199 L2169.43 174.199 L2169.43 170.588 L2170.56 170.588 Q2172.99 170.588 2173.87 169.453 Q2174.75 168.342 2174.75 164.801 L2174.75 138.412 M2174.75 128.319 L2179.01 128.319 L2179.01 133.713 L2174.75 133.713 L2174.75 128.319 Z\" fill=\"#000000\" fill-rule=\"nonzero\" fill-opacity=\"1\" /><path clip-path=\"url(#clip540)\" d=\"M2210.1 150.31 L2210.1 152.393 L2190.51 152.393 Q2190.79 156.791 2193.15 159.106 Q2195.54 161.398 2199.77 161.398 Q2202.23 161.398 2204.52 160.796 Q2206.83 160.194 2209.1 158.99 L2209.1 163.018 Q2206.81 163.99 2204.4 164.5 Q2202 165.009 2199.52 165.009 Q2193.31 165.009 2189.68 161.398 Q2186.07 157.787 2186.07 151.629 Q2186.07 145.264 2189.5 141.537 Q2192.94 137.787 2198.78 137.787 Q2204.01 137.787 2207.04 141.166 Q2210.1 144.523 2210.1 150.31 M2205.84 149.06 Q2205.79 145.565 2203.87 143.481 Q2201.97 141.398 2198.82 141.398 Q2195.26 141.398 2193.11 143.412 Q2190.98 145.426 2190.65 149.083 L2205.84 149.06 Z\" fill=\"#000000\" fill-rule=\"nonzero\" fill-opacity=\"1\" /><path clip-path=\"url(#clip540)\" d=\"M2235.75 139.407 L2235.75 143.389 Q2233.94 142.393 2232.11 141.907 Q2230.31 141.398 2228.45 141.398 Q2224.31 141.398 2222.02 144.037 Q2219.73 146.652 2219.73 151.398 Q2219.73 156.143 2222.02 158.782 Q2224.31 161.398 2228.45 161.398 Q2230.31 161.398 2232.11 160.912 Q2233.94 160.402 2235.75 159.407 L2235.75 163.342 Q2233.96 164.176 2232.04 164.592 Q2230.14 165.009 2227.99 165.009 Q2222.13 165.009 2218.69 161.328 Q2215.24 157.648 2215.24 151.398 Q2215.24 145.055 2218.71 141.421 Q2222.2 137.787 2228.27 137.787 Q2230.24 137.787 2232.11 138.203 Q2233.99 138.597 2235.75 139.407 Z\" fill=\"#000000\" fill-rule=\"nonzero\" fill-opacity=\"1\" /><path clip-path=\"url(#clip540)\" d=\"M2247.37 131.051 L2247.37 138.412 L2256.14 138.412 L2256.14 141.722 L2247.37 141.722 L2247.37 155.796 Q2247.37 158.967 2248.22 159.87 Q2249.1 160.773 2251.76 160.773 L2256.14 160.773 L2256.14 164.338 L2251.76 164.338 Q2246.83 164.338 2244.96 162.509 Q2243.08 160.657 2243.08 155.796 L2243.08 141.722 L2239.96 141.722 L2239.96 138.412 L2243.08 138.412 L2243.08 131.051 L2247.37 131.051 Z\" fill=\"#000000\" fill-rule=\"nonzero\" fill-opacity=\"1\" /></svg>\n"
      ],
      "text/html": [
       "<?xml version=\"1.0\" encoding=\"utf-8\"?>\n",
       "<svg xmlns=\"http://www.w3.org/2000/svg\" xmlns:xlink=\"http://www.w3.org/1999/xlink\" width=\"600\" height=\"400\" viewBox=\"0 0 2400 1600\">\n",
       "<defs>\n",
       "  <clipPath id=\"clip590\">\n",
       "    <rect x=\"0\" y=\"0\" width=\"2400\" height=\"1600\"/>\n",
       "  </clipPath>\n",
       "</defs>\n",
       "<path clip-path=\"url(#clip590)\" d=\"M0 1600 L2400 1600 L2400 0 L0 0  Z\" fill=\"#ffffff\" fill-rule=\"evenodd\" fill-opacity=\"1\"/>\n",
       "<defs>\n",
       "  <clipPath id=\"clip591\">\n",
       "    <rect x=\"480\" y=\"0\" width=\"1681\" height=\"1600\"/>\n",
       "  </clipPath>\n",
       "</defs>\n",
       "<path clip-path=\"url(#clip590)\" d=\"M178.867 1486.45 L2352.76 1486.45 L2352.76 47.2441 L178.867 47.2441  Z\" fill=\"#ffffff\" fill-rule=\"evenodd\" fill-opacity=\"1\"/>\n",
       "<defs>\n",
       "  <clipPath id=\"clip592\">\n",
       "    <rect x=\"178\" y=\"47\" width=\"2175\" height=\"1440\"/>\n",
       "  </clipPath>\n",
       "</defs>\n",
       "<polyline clip-path=\"url(#clip592)\" style=\"stroke:#000000; stroke-linecap:round; stroke-linejoin:round; stroke-width:2; stroke-opacity:0.1; fill:none\" points=\"178.867,1486.45 178.867,47.2441 \"/>\n",
       "<polyline clip-path=\"url(#clip592)\" style=\"stroke:#000000; stroke-linecap:round; stroke-linejoin:round; stroke-width:2; stroke-opacity:0.1; fill:none\" points=\"541.182,1486.45 541.182,47.2441 \"/>\n",
       "<polyline clip-path=\"url(#clip592)\" style=\"stroke:#000000; stroke-linecap:round; stroke-linejoin:round; stroke-width:2; stroke-opacity:0.1; fill:none\" points=\"903.496,1486.45 903.496,47.2441 \"/>\n",
       "<polyline clip-path=\"url(#clip592)\" style=\"stroke:#000000; stroke-linecap:round; stroke-linejoin:round; stroke-width:2; stroke-opacity:0.1; fill:none\" points=\"1265.81,1486.45 1265.81,47.2441 \"/>\n",
       "<polyline clip-path=\"url(#clip592)\" style=\"stroke:#000000; stroke-linecap:round; stroke-linejoin:round; stroke-width:2; stroke-opacity:0.1; fill:none\" points=\"1628.13,1486.45 1628.13,47.2441 \"/>\n",
       "<polyline clip-path=\"url(#clip592)\" style=\"stroke:#000000; stroke-linecap:round; stroke-linejoin:round; stroke-width:2; stroke-opacity:0.1; fill:none\" points=\"1990.44,1486.45 1990.44,47.2441 \"/>\n",
       "<polyline clip-path=\"url(#clip592)\" style=\"stroke:#000000; stroke-linecap:round; stroke-linejoin:round; stroke-width:2; stroke-opacity:0.1; fill:none\" points=\"2352.76,1486.45 2352.76,47.2441 \"/>\n",
       "<polyline clip-path=\"url(#clip590)\" style=\"stroke:#000000; stroke-linecap:round; stroke-linejoin:round; stroke-width:4; stroke-opacity:1; fill:none\" points=\"178.867,1486.45 2352.76,1486.45 \"/>\n",
       "<polyline clip-path=\"url(#clip590)\" style=\"stroke:#000000; stroke-linecap:round; stroke-linejoin:round; stroke-width:4; stroke-opacity:1; fill:none\" points=\"178.867,1486.45 178.867,1467.55 \"/>\n",
       "<polyline clip-path=\"url(#clip590)\" style=\"stroke:#000000; stroke-linecap:round; stroke-linejoin:round; stroke-width:4; stroke-opacity:1; fill:none\" points=\"541.182,1486.45 541.182,1467.55 \"/>\n",
       "<polyline clip-path=\"url(#clip590)\" style=\"stroke:#000000; stroke-linecap:round; stroke-linejoin:round; stroke-width:4; stroke-opacity:1; fill:none\" points=\"903.496,1486.45 903.496,1467.55 \"/>\n",
       "<polyline clip-path=\"url(#clip590)\" style=\"stroke:#000000; stroke-linecap:round; stroke-linejoin:round; stroke-width:4; stroke-opacity:1; fill:none\" points=\"1265.81,1486.45 1265.81,1467.55 \"/>\n",
       "<polyline clip-path=\"url(#clip590)\" style=\"stroke:#000000; stroke-linecap:round; stroke-linejoin:round; stroke-width:4; stroke-opacity:1; fill:none\" points=\"1628.13,1486.45 1628.13,1467.55 \"/>\n",
       "<polyline clip-path=\"url(#clip590)\" style=\"stroke:#000000; stroke-linecap:round; stroke-linejoin:round; stroke-width:4; stroke-opacity:1; fill:none\" points=\"1990.44,1486.45 1990.44,1467.55 \"/>\n",
       "<polyline clip-path=\"url(#clip590)\" style=\"stroke:#000000; stroke-linecap:round; stroke-linejoin:round; stroke-width:4; stroke-opacity:1; fill:none\" points=\"2352.76,1486.45 2352.76,1467.55 \"/>\n",
       "<path clip-path=\"url(#clip590)\" d=\"M133.427 1532.02 L163.103 1532.02 L163.103 1535.95 L133.427 1535.95 L133.427 1532.02 Z\" fill=\"#000000\" fill-rule=\"nonzero\" fill-opacity=\"1\" /><path clip-path=\"url(#clip590)\" d=\"M174.006 1544.91 L181.644 1544.91 L181.644 1518.55 L173.334 1520.21 L173.334 1515.95 L181.598 1514.29 L186.274 1514.29 L186.274 1544.91 L193.913 1544.91 L193.913 1548.85 L174.006 1548.85 L174.006 1544.91 Z\" fill=\"#000000\" fill-rule=\"nonzero\" fill-opacity=\"1\" /><path clip-path=\"url(#clip590)\" d=\"M203.404 1514.29 L221.76 1514.29 L221.76 1518.22 L207.686 1518.22 L207.686 1526.7 Q208.704 1526.35 209.723 1526.19 Q210.741 1526 211.76 1526 Q217.547 1526 220.927 1529.17 Q224.306 1532.34 224.306 1537.76 Q224.306 1543.34 220.834 1546.44 Q217.362 1549.52 211.042 1549.52 Q208.866 1549.52 206.598 1549.15 Q204.353 1548.78 201.945 1548.04 L201.945 1543.34 Q204.029 1544.47 206.251 1545.03 Q208.473 1545.58 210.95 1545.58 Q214.954 1545.58 217.292 1543.48 Q219.63 1541.37 219.63 1537.76 Q219.63 1534.15 217.292 1532.04 Q214.954 1529.94 210.95 1529.94 Q209.075 1529.94 207.2 1530.35 Q205.348 1530.77 203.404 1531.65 L203.404 1514.29 Z\" fill=\"#000000\" fill-rule=\"nonzero\" fill-opacity=\"1\" /><path clip-path=\"url(#clip590)\" d=\"M495.244 1532.02 L524.92 1532.02 L524.92 1535.95 L495.244 1535.95 L495.244 1532.02 Z\" fill=\"#000000\" fill-rule=\"nonzero\" fill-opacity=\"1\" /><path clip-path=\"url(#clip590)\" d=\"M535.823 1544.91 L543.462 1544.91 L543.462 1518.55 L535.151 1520.21 L535.151 1515.95 L543.415 1514.29 L548.091 1514.29 L548.091 1544.91 L555.73 1544.91 L555.73 1548.85 L535.823 1548.85 L535.823 1544.91 Z\" fill=\"#000000\" fill-rule=\"nonzero\" fill-opacity=\"1\" /><path clip-path=\"url(#clip590)\" d=\"M575.174 1517.37 Q571.563 1517.37 569.735 1520.93 Q567.929 1524.47 567.929 1531.6 Q567.929 1538.71 569.735 1542.27 Q571.563 1545.82 575.174 1545.82 Q578.809 1545.82 580.614 1542.27 Q582.443 1538.71 582.443 1531.6 Q582.443 1524.47 580.614 1520.93 Q578.809 1517.37 575.174 1517.37 M575.174 1513.66 Q580.985 1513.66 584.04 1518.27 Q587.119 1522.85 587.119 1531.6 Q587.119 1540.33 584.04 1544.94 Q580.985 1549.52 575.174 1549.52 Q569.364 1549.52 566.286 1544.94 Q563.23 1540.33 563.23 1531.6 Q563.23 1522.85 566.286 1518.27 Q569.364 1513.66 575.174 1513.66 Z\" fill=\"#000000\" fill-rule=\"nonzero\" fill-opacity=\"1\" /><path clip-path=\"url(#clip590)\" d=\"M873.138 1532.02 L902.814 1532.02 L902.814 1535.95 L873.138 1535.95 L873.138 1532.02 Z\" fill=\"#000000\" fill-rule=\"nonzero\" fill-opacity=\"1\" /><path clip-path=\"url(#clip590)\" d=\"M912.952 1514.29 L931.309 1514.29 L931.309 1518.22 L917.235 1518.22 L917.235 1526.7 Q918.253 1526.35 919.272 1526.19 Q920.29 1526 921.309 1526 Q927.096 1526 930.475 1529.17 Q933.855 1532.34 933.855 1537.76 Q933.855 1543.34 930.383 1546.44 Q926.911 1549.52 920.591 1549.52 Q918.415 1549.52 916.147 1549.15 Q913.901 1548.78 911.494 1548.04 L911.494 1543.34 Q913.577 1544.47 915.8 1545.03 Q918.022 1545.58 920.499 1545.58 Q924.503 1545.58 926.841 1543.48 Q929.179 1541.37 929.179 1537.76 Q929.179 1534.15 926.841 1532.04 Q924.503 1529.94 920.499 1529.94 Q918.624 1529.94 916.749 1530.35 Q914.897 1530.77 912.952 1531.65 L912.952 1514.29 Z\" fill=\"#000000\" fill-rule=\"nonzero\" fill-opacity=\"1\" /><path clip-path=\"url(#clip590)\" d=\"M1265.81 1517.37 Q1262.2 1517.37 1260.37 1520.93 Q1258.57 1524.47 1258.57 1531.6 Q1258.57 1538.71 1260.37 1542.27 Q1262.2 1545.82 1265.81 1545.82 Q1269.45 1545.82 1271.25 1542.27 Q1273.08 1538.71 1273.08 1531.6 Q1273.08 1524.47 1271.25 1520.93 Q1269.45 1517.37 1265.81 1517.37 M1265.81 1513.66 Q1271.62 1513.66 1274.68 1518.27 Q1277.76 1522.85 1277.76 1531.6 Q1277.76 1540.33 1274.68 1544.94 Q1271.62 1549.52 1265.81 1549.52 Q1260 1549.52 1256.92 1544.94 Q1253.87 1540.33 1253.87 1531.6 Q1253.87 1522.85 1256.92 1518.27 Q1260 1513.66 1265.81 1513.66 Z\" fill=\"#000000\" fill-rule=\"nonzero\" fill-opacity=\"1\" /><path clip-path=\"url(#clip590)\" d=\"M1618.4 1514.29 L1636.76 1514.29 L1636.76 1518.22 L1622.69 1518.22 L1622.69 1526.7 Q1623.7 1526.35 1624.72 1526.19 Q1625.74 1526 1626.76 1526 Q1632.55 1526 1635.93 1529.17 Q1639.31 1532.34 1639.31 1537.76 Q1639.31 1543.34 1635.83 1546.44 Q1632.36 1549.52 1626.04 1549.52 Q1623.87 1549.52 1621.6 1549.15 Q1619.35 1548.78 1616.95 1548.04 L1616.95 1543.34 Q1619.03 1544.47 1621.25 1545.03 Q1623.47 1545.58 1625.95 1545.58 Q1629.95 1545.58 1632.29 1543.48 Q1634.63 1541.37 1634.63 1537.76 Q1634.63 1534.15 1632.29 1532.04 Q1629.95 1529.94 1625.95 1529.94 Q1624.08 1529.94 1622.2 1530.35 Q1620.35 1530.77 1618.4 1531.65 L1618.4 1514.29 Z\" fill=\"#000000\" fill-rule=\"nonzero\" fill-opacity=\"1\" /><path clip-path=\"url(#clip590)\" d=\"M1965.13 1544.91 L1972.77 1544.91 L1972.77 1518.55 L1964.46 1520.21 L1964.46 1515.95 L1972.72 1514.29 L1977.4 1514.29 L1977.4 1544.91 L1985.04 1544.91 L1985.04 1548.85 L1965.13 1548.85 L1965.13 1544.91 Z\" fill=\"#000000\" fill-rule=\"nonzero\" fill-opacity=\"1\" /><path clip-path=\"url(#clip590)\" d=\"M2004.48 1517.37 Q2000.87 1517.37 1999.04 1520.93 Q1997.23 1524.47 1997.23 1531.6 Q1997.23 1538.71 1999.04 1542.27 Q2000.87 1545.82 2004.48 1545.82 Q2008.11 1545.82 2009.92 1542.27 Q2011.75 1538.71 2011.75 1531.6 Q2011.75 1524.47 2009.92 1520.93 Q2008.11 1517.37 2004.48 1517.37 M2004.48 1513.66 Q2010.29 1513.66 2013.35 1518.27 Q2016.42 1522.85 2016.42 1531.6 Q2016.42 1540.33 2013.35 1544.94 Q2010.29 1549.52 2004.48 1549.52 Q1998.67 1549.52 1995.59 1544.94 Q1992.54 1540.33 1992.54 1531.6 Q1992.54 1522.85 1995.59 1518.27 Q1998.67 1513.66 2004.48 1513.66 Z\" fill=\"#000000\" fill-rule=\"nonzero\" fill-opacity=\"1\" /><path clip-path=\"url(#clip590)\" d=\"M2327.94 1544.91 L2335.58 1544.91 L2335.58 1518.55 L2327.27 1520.21 L2327.27 1515.95 L2335.53 1514.29 L2340.21 1514.29 L2340.21 1544.91 L2347.85 1544.91 L2347.85 1548.85 L2327.94 1548.85 L2327.94 1544.91 Z\" fill=\"#000000\" fill-rule=\"nonzero\" fill-opacity=\"1\" /><path clip-path=\"url(#clip590)\" d=\"M2357.34 1514.29 L2375.7 1514.29 L2375.7 1518.22 L2361.62 1518.22 L2361.62 1526.7 Q2362.64 1526.35 2363.66 1526.19 Q2364.68 1526 2365.7 1526 Q2371.48 1526 2374.86 1529.17 Q2378.24 1532.34 2378.24 1537.76 Q2378.24 1543.34 2374.77 1546.44 Q2371.3 1549.52 2364.98 1549.52 Q2362.8 1549.52 2360.53 1549.15 Q2358.29 1548.78 2355.88 1548.04 L2355.88 1543.34 Q2357.96 1544.47 2360.19 1545.03 Q2362.41 1545.58 2364.89 1545.58 Q2368.89 1545.58 2371.23 1543.48 Q2373.57 1541.37 2373.57 1537.76 Q2373.57 1534.15 2371.23 1532.04 Q2368.89 1529.94 2364.89 1529.94 Q2363.01 1529.94 2361.14 1530.35 Q2359.28 1530.77 2357.34 1531.65 L2357.34 1514.29 Z\" fill=\"#000000\" fill-rule=\"nonzero\" fill-opacity=\"1\" /><polyline clip-path=\"url(#clip592)\" style=\"stroke:#000000; stroke-linecap:round; stroke-linejoin:round; stroke-width:2; stroke-opacity:0.1; fill:none\" points=\"178.867,1486.45 2352.76,1486.45 \"/>\n",
       "<polyline clip-path=\"url(#clip592)\" style=\"stroke:#000000; stroke-linecap:round; stroke-linejoin:round; stroke-width:2; stroke-opacity:0.1; fill:none\" points=\"178.867,1246.58 2352.76,1246.58 \"/>\n",
       "<polyline clip-path=\"url(#clip592)\" style=\"stroke:#000000; stroke-linecap:round; stroke-linejoin:round; stroke-width:2; stroke-opacity:0.1; fill:none\" points=\"178.867,1006.71 2352.76,1006.71 \"/>\n",
       "<polyline clip-path=\"url(#clip592)\" style=\"stroke:#000000; stroke-linecap:round; stroke-linejoin:round; stroke-width:2; stroke-opacity:0.1; fill:none\" points=\"178.867,766.846 2352.76,766.846 \"/>\n",
       "<polyline clip-path=\"url(#clip592)\" style=\"stroke:#000000; stroke-linecap:round; stroke-linejoin:round; stroke-width:2; stroke-opacity:0.1; fill:none\" points=\"178.867,526.979 2352.76,526.979 \"/>\n",
       "<polyline clip-path=\"url(#clip592)\" style=\"stroke:#000000; stroke-linecap:round; stroke-linejoin:round; stroke-width:2; stroke-opacity:0.1; fill:none\" points=\"178.867,287.111 2352.76,287.111 \"/>\n",
       "<polyline clip-path=\"url(#clip592)\" style=\"stroke:#000000; stroke-linecap:round; stroke-linejoin:round; stroke-width:2; stroke-opacity:0.1; fill:none\" points=\"178.867,47.2441 2352.76,47.2441 \"/>\n",
       "<polyline clip-path=\"url(#clip590)\" style=\"stroke:#000000; stroke-linecap:round; stroke-linejoin:round; stroke-width:4; stroke-opacity:1; fill:none\" points=\"178.867,1486.45 178.867,47.2441 \"/>\n",
       "<polyline clip-path=\"url(#clip590)\" style=\"stroke:#000000; stroke-linecap:round; stroke-linejoin:round; stroke-width:4; stroke-opacity:1; fill:none\" points=\"178.867,1486.45 197.764,1486.45 \"/>\n",
       "<polyline clip-path=\"url(#clip590)\" style=\"stroke:#000000; stroke-linecap:round; stroke-linejoin:round; stroke-width:4; stroke-opacity:1; fill:none\" points=\"178.867,1246.58 197.764,1246.58 \"/>\n",
       "<polyline clip-path=\"url(#clip590)\" style=\"stroke:#000000; stroke-linecap:round; stroke-linejoin:round; stroke-width:4; stroke-opacity:1; fill:none\" points=\"178.867,1006.71 197.764,1006.71 \"/>\n",
       "<polyline clip-path=\"url(#clip590)\" style=\"stroke:#000000; stroke-linecap:round; stroke-linejoin:round; stroke-width:4; stroke-opacity:1; fill:none\" points=\"178.867,766.846 197.764,766.846 \"/>\n",
       "<polyline clip-path=\"url(#clip590)\" style=\"stroke:#000000; stroke-linecap:round; stroke-linejoin:round; stroke-width:4; stroke-opacity:1; fill:none\" points=\"178.867,526.979 197.764,526.979 \"/>\n",
       "<polyline clip-path=\"url(#clip590)\" style=\"stroke:#000000; stroke-linecap:round; stroke-linejoin:round; stroke-width:4; stroke-opacity:1; fill:none\" points=\"178.867,287.111 197.764,287.111 \"/>\n",
       "<polyline clip-path=\"url(#clip590)\" style=\"stroke:#000000; stroke-linecap:round; stroke-linejoin:round; stroke-width:4; stroke-opacity:1; fill:none\" points=\"178.867,47.2441 197.764,47.2441 \"/>\n",
       "<path clip-path=\"url(#clip590)\" d=\"M51.9875 1486.9 L81.6633 1486.9 L81.6633 1490.83 L51.9875 1490.83 L51.9875 1486.9 Z\" fill=\"#000000\" fill-rule=\"nonzero\" fill-opacity=\"1\" /><path clip-path=\"url(#clip590)\" d=\"M92.566 1499.79 L100.205 1499.79 L100.205 1473.43 L91.8947 1475.09 L91.8947 1470.83 L100.159 1469.17 L104.834 1469.17 L104.834 1499.79 L112.473 1499.79 L112.473 1503.73 L92.566 1503.73 L92.566 1499.79 Z\" fill=\"#000000\" fill-rule=\"nonzero\" fill-opacity=\"1\" /><path clip-path=\"url(#clip590)\" d=\"M121.964 1469.17 L140.32 1469.17 L140.32 1473.1 L126.246 1473.1 L126.246 1481.58 Q127.265 1481.23 128.283 1481.07 Q129.302 1480.88 130.32 1480.88 Q136.107 1480.88 139.487 1484.05 Q142.867 1487.22 142.867 1492.64 Q142.867 1498.22 139.394 1501.32 Q135.922 1504.4 129.603 1504.4 Q127.427 1504.4 125.158 1504.03 Q122.913 1503.66 120.506 1502.92 L120.506 1498.22 Q122.589 1499.35 124.811 1499.91 Q127.033 1500.46 129.51 1500.46 Q133.515 1500.46 135.853 1498.36 Q138.191 1496.25 138.191 1492.64 Q138.191 1489.03 135.853 1486.92 Q133.515 1484.82 129.51 1484.82 Q127.635 1484.82 125.76 1485.23 Q123.908 1485.65 121.964 1486.53 L121.964 1469.17 Z\" fill=\"#000000\" fill-rule=\"nonzero\" fill-opacity=\"1\" /><path clip-path=\"url(#clip590)\" d=\"M50.9921 1247.03 L80.6679 1247.03 L80.6679 1250.97 L50.9921 1250.97 L50.9921 1247.03 Z\" fill=\"#000000\" fill-rule=\"nonzero\" fill-opacity=\"1\" /><path clip-path=\"url(#clip590)\" d=\"M91.5706 1259.93 L99.2095 1259.93 L99.2095 1233.56 L90.8993 1235.23 L90.8993 1230.97 L99.1632 1229.3 L103.839 1229.3 L103.839 1259.93 L111.478 1259.93 L111.478 1263.86 L91.5706 1263.86 L91.5706 1259.93 Z\" fill=\"#000000\" fill-rule=\"nonzero\" fill-opacity=\"1\" /><path clip-path=\"url(#clip590)\" d=\"M130.922 1232.38 Q127.311 1232.38 125.482 1235.94 Q123.677 1239.49 123.677 1246.62 Q123.677 1253.72 125.482 1257.29 Q127.311 1260.83 130.922 1260.83 Q134.556 1260.83 136.362 1257.29 Q138.191 1253.72 138.191 1246.62 Q138.191 1239.49 136.362 1235.94 Q134.556 1232.38 130.922 1232.38 M130.922 1228.68 Q136.732 1228.68 139.788 1233.28 Q142.867 1237.87 142.867 1246.62 Q142.867 1255.34 139.788 1259.95 Q136.732 1264.53 130.922 1264.53 Q125.112 1264.53 122.033 1259.95 Q118.978 1255.34 118.978 1246.62 Q118.978 1237.87 122.033 1233.28 Q125.112 1228.68 130.922 1228.68 Z\" fill=\"#000000\" fill-rule=\"nonzero\" fill-opacity=\"1\" /><path clip-path=\"url(#clip590)\" d=\"M82.1494 1007.16 L111.825 1007.16 L111.825 1011.1 L82.1494 1011.1 L82.1494 1007.16 Z\" fill=\"#000000\" fill-rule=\"nonzero\" fill-opacity=\"1\" /><path clip-path=\"url(#clip590)\" d=\"M121.964 989.433 L140.32 989.433 L140.32 993.368 L126.246 993.368 L126.246 1001.84 Q127.265 1001.49 128.283 1001.33 Q129.302 1001.15 130.32 1001.15 Q136.107 1001.15 139.487 1004.32 Q142.867 1007.49 142.867 1012.91 Q142.867 1018.48 139.394 1021.59 Q135.922 1024.66 129.603 1024.66 Q127.427 1024.66 125.158 1024.29 Q122.913 1023.92 120.506 1023.18 L120.506 1018.48 Q122.589 1019.62 124.811 1020.17 Q127.033 1020.73 129.51 1020.73 Q133.515 1020.73 135.853 1018.62 Q138.191 1016.52 138.191 1012.91 Q138.191 1009.29 135.853 1007.19 Q133.515 1005.08 129.51 1005.08 Q127.635 1005.08 125.76 1005.5 Q123.908 1005.91 121.964 1006.79 L121.964 989.433 Z\" fill=\"#000000\" fill-rule=\"nonzero\" fill-opacity=\"1\" /><path clip-path=\"url(#clip590)\" d=\"M130.922 752.645 Q127.311 752.645 125.482 756.209 Q123.677 759.751 123.677 766.881 Q123.677 773.987 125.482 777.552 Q127.311 781.094 130.922 781.094 Q134.556 781.094 136.362 777.552 Q138.191 773.987 138.191 766.881 Q138.191 759.751 136.362 756.209 Q134.556 752.645 130.922 752.645 M130.922 748.941 Q136.732 748.941 139.788 753.547 Q142.867 758.131 142.867 766.881 Q142.867 775.608 139.788 780.214 Q136.732 784.797 130.922 784.797 Q125.112 784.797 122.033 780.214 Q118.978 775.608 118.978 766.881 Q118.978 758.131 122.033 753.547 Q125.112 748.941 130.922 748.941 Z\" fill=\"#000000\" fill-rule=\"nonzero\" fill-opacity=\"1\" /><path clip-path=\"url(#clip590)\" d=\"M121.964 509.699 L140.32 509.699 L140.32 513.634 L126.246 513.634 L126.246 522.106 Q127.265 521.759 128.283 521.597 Q129.302 521.412 130.32 521.412 Q136.107 521.412 139.487 524.583 Q142.867 527.754 142.867 533.171 Q142.867 538.749 139.394 541.851 Q135.922 544.93 129.603 544.93 Q127.427 544.93 125.158 544.56 Q122.913 544.189 120.506 543.449 L120.506 538.749 Q122.589 539.884 124.811 540.439 Q127.033 540.995 129.51 540.995 Q133.515 540.995 135.853 538.888 Q138.191 536.782 138.191 533.171 Q138.191 529.56 135.853 527.453 Q133.515 525.347 129.51 525.347 Q127.635 525.347 125.76 525.763 Q123.908 526.18 121.964 527.06 L121.964 509.699 Z\" fill=\"#000000\" fill-rule=\"nonzero\" fill-opacity=\"1\" /><path clip-path=\"url(#clip590)\" d=\"M91.5706 300.456 L99.2095 300.456 L99.2095 274.091 L90.8993 275.757 L90.8993 271.498 L99.1632 269.831 L103.839 269.831 L103.839 300.456 L111.478 300.456 L111.478 304.391 L91.5706 304.391 L91.5706 300.456 Z\" fill=\"#000000\" fill-rule=\"nonzero\" fill-opacity=\"1\" /><path clip-path=\"url(#clip590)\" d=\"M130.922 272.91 Q127.311 272.91 125.482 276.475 Q123.677 280.017 123.677 287.146 Q123.677 294.253 125.482 297.817 Q127.311 301.359 130.922 301.359 Q134.556 301.359 136.362 297.817 Q138.191 294.253 138.191 287.146 Q138.191 280.017 136.362 276.475 Q134.556 272.91 130.922 272.91 M130.922 269.206 Q136.732 269.206 139.788 273.813 Q142.867 278.396 142.867 287.146 Q142.867 295.873 139.788 300.479 Q136.732 305.063 130.922 305.063 Q125.112 305.063 122.033 300.479 Q118.978 295.873 118.978 287.146 Q118.978 278.396 122.033 273.813 Q125.112 269.206 130.922 269.206 Z\" fill=\"#000000\" fill-rule=\"nonzero\" fill-opacity=\"1\" /><path clip-path=\"url(#clip590)\" d=\"M92.566 60.5889 L100.205 60.5889 L100.205 34.2233 L91.8947 35.89 L91.8947 31.6308 L100.159 29.9641 L104.834 29.9641 L104.834 60.5889 L112.473 60.5889 L112.473 64.5241 L92.566 64.5241 L92.566 60.5889 Z\" fill=\"#000000\" fill-rule=\"nonzero\" fill-opacity=\"1\" /><path clip-path=\"url(#clip590)\" d=\"M121.964 29.9641 L140.32 29.9641 L140.32 33.8993 L126.246 33.8993 L126.246 42.3714 Q127.265 42.0242 128.283 41.8622 Q129.302 41.677 130.32 41.677 Q136.107 41.677 139.487 44.8483 Q142.867 48.0196 142.867 53.4362 Q142.867 59.0149 139.394 62.1167 Q135.922 65.1954 129.603 65.1954 Q127.427 65.1954 125.158 64.825 Q122.913 64.4547 120.506 63.7139 L120.506 59.0149 Q122.589 60.1491 124.811 60.7047 Q127.033 61.2602 129.51 61.2602 Q133.515 61.2602 135.853 59.1538 Q138.191 57.0473 138.191 53.4362 Q138.191 49.8251 135.853 47.7186 Q133.515 45.6122 129.51 45.6122 Q127.635 45.6122 125.76 46.0288 Q123.908 46.4455 121.964 47.3251 L121.964 29.9641 Z\" fill=\"#000000\" fill-rule=\"nonzero\" fill-opacity=\"1\" /><polyline clip-path=\"url(#clip592)\" style=\"stroke:#ff0000; stroke-linecap:round; stroke-linejoin:round; stroke-width:8; stroke-opacity:1; fill:none\" points=\"1628.13,526.979 903.496,526.979 903.496,1006.71 1628.13,1006.71 1628.13,526.979 \"/>\n",
       "<circle clip-path=\"url(#clip592)\" cx=\"758.57\" cy=\"1102.66\" r=\"14.4\" fill=\"#000000\" fill-rule=\"evenodd\" fill-opacity=\"1\" stroke=\"none\"/>\n",
       "<circle clip-path=\"url(#clip592)\" cx=\"792.943\" cy=\"1095.07\" r=\"14.4\" fill=\"#000000\" fill-rule=\"evenodd\" fill-opacity=\"1\" stroke=\"none\"/>\n",
       "<circle clip-path=\"url(#clip592)\" cx=\"827.315\" cy=\"1087.49\" r=\"14.4\" fill=\"#000000\" fill-rule=\"evenodd\" fill-opacity=\"1\" stroke=\"none\"/>\n",
       "<circle clip-path=\"url(#clip592)\" cx=\"861.687\" cy=\"1079.9\" r=\"14.4\" fill=\"#000000\" fill-rule=\"evenodd\" fill-opacity=\"1\" stroke=\"none\"/>\n",
       "<circle clip-path=\"url(#clip592)\" cx=\"896.059\" cy=\"1072.32\" r=\"14.4\" fill=\"#000000\" fill-rule=\"evenodd\" fill-opacity=\"1\" stroke=\"none\"/>\n",
       "<circle clip-path=\"url(#clip592)\" cx=\"930.431\" cy=\"1064.73\" r=\"14.4\" fill=\"#000000\" fill-rule=\"evenodd\" fill-opacity=\"1\" stroke=\"none\"/>\n",
       "<circle clip-path=\"url(#clip592)\" cx=\"964.804\" cy=\"1057.15\" r=\"14.4\" fill=\"#000000\" fill-rule=\"evenodd\" fill-opacity=\"1\" stroke=\"none\"/>\n",
       "<circle clip-path=\"url(#clip592)\" cx=\"999.176\" cy=\"1049.56\" r=\"14.4\" fill=\"#000000\" fill-rule=\"evenodd\" fill-opacity=\"1\" stroke=\"none\"/>\n",
       "<circle clip-path=\"url(#clip592)\" cx=\"1033.55\" cy=\"1041.98\" r=\"14.4\" fill=\"#000000\" fill-rule=\"evenodd\" fill-opacity=\"1\" stroke=\"none\"/>\n",
       "<circle clip-path=\"url(#clip592)\" cx=\"1067.92\" cy=\"1034.39\" r=\"14.4\" fill=\"#000000\" fill-rule=\"evenodd\" fill-opacity=\"1\" stroke=\"none\"/>\n",
       "<circle clip-path=\"url(#clip592)\" cx=\"1102.29\" cy=\"1026.81\" r=\"14.4\" fill=\"#000000\" fill-rule=\"evenodd\" fill-opacity=\"1\" stroke=\"none\"/>\n",
       "<circle clip-path=\"url(#clip592)\" cx=\"1136.66\" cy=\"1019.22\" r=\"14.4\" fill=\"#000000\" fill-rule=\"evenodd\" fill-opacity=\"1\" stroke=\"none\"/>\n",
       "<circle clip-path=\"url(#clip592)\" cx=\"1171.04\" cy=\"1011.64\" r=\"14.4\" fill=\"#000000\" fill-rule=\"evenodd\" fill-opacity=\"1\" stroke=\"none\"/>\n",
       "<circle clip-path=\"url(#clip592)\" cx=\"1205.41\" cy=\"1009.37\" r=\"14.4\" fill=\"#000000\" fill-rule=\"evenodd\" fill-opacity=\"1\" stroke=\"none\"/>\n",
       "<circle clip-path=\"url(#clip592)\" cx=\"1239.78\" cy=\"1016.96\" r=\"14.4\" fill=\"#000000\" fill-rule=\"evenodd\" fill-opacity=\"1\" stroke=\"none\"/>\n",
       "<circle clip-path=\"url(#clip592)\" cx=\"1274.15\" cy=\"1024.55\" r=\"14.4\" fill=\"#000000\" fill-rule=\"evenodd\" fill-opacity=\"1\" stroke=\"none\"/>\n",
       "<circle clip-path=\"url(#clip592)\" cx=\"1308.53\" cy=\"1032.13\" r=\"14.4\" fill=\"#000000\" fill-rule=\"evenodd\" fill-opacity=\"1\" stroke=\"none\"/>\n",
       "<circle clip-path=\"url(#clip592)\" cx=\"1342.9\" cy=\"1039.72\" r=\"14.4\" fill=\"#000000\" fill-rule=\"evenodd\" fill-opacity=\"1\" stroke=\"none\"/>\n",
       "<circle clip-path=\"url(#clip592)\" cx=\"1377.27\" cy=\"1047.3\" r=\"14.4\" fill=\"#000000\" fill-rule=\"evenodd\" fill-opacity=\"1\" stroke=\"none\"/>\n",
       "<circle clip-path=\"url(#clip592)\" cx=\"1411.64\" cy=\"1054.89\" r=\"14.4\" fill=\"#000000\" fill-rule=\"evenodd\" fill-opacity=\"1\" stroke=\"none\"/>\n",
       "<circle clip-path=\"url(#clip592)\" cx=\"1446.01\" cy=\"1062.47\" r=\"14.4\" fill=\"#000000\" fill-rule=\"evenodd\" fill-opacity=\"1\" stroke=\"none\"/>\n",
       "<path clip-path=\"url(#clip590)\" d=\"M1912.3 198.898 L2280.29 198.898 L2280.29 95.2176 L1912.3 95.2176  Z\" fill=\"#ffffff\" fill-rule=\"evenodd\" fill-opacity=\"1\"/>\n",
       "<polyline clip-path=\"url(#clip590)\" style=\"stroke:#000000; stroke-linecap:round; stroke-linejoin:round; stroke-width:4; stroke-opacity:1; fill:none\" points=\"1912.3,198.898 2280.29,198.898 2280.29,95.2176 1912.3,95.2176 1912.3,198.898 \"/>\n",
       "<polyline clip-path=\"url(#clip590)\" style=\"stroke:#ff0000; stroke-linecap:round; stroke-linejoin:round; stroke-width:8; stroke-opacity:1; fill:none\" points=\"1936.46,147.058 2081.38,147.058 \"/>\n",
       "<path clip-path=\"url(#clip590)\" d=\"M2121.56 132.949 Q2116.46 132.949 2113.45 136.745 Q2110.47 140.541 2110.47 147.092 Q2110.47 153.62 2113.45 157.416 Q2116.46 161.213 2121.56 161.213 Q2126.65 161.213 2129.61 157.416 Q2132.6 153.62 2132.6 147.092 Q2132.6 140.541 2129.61 136.745 Q2126.65 132.949 2121.56 132.949 M2121.56 129.153 Q2128.82 129.153 2133.18 134.037 Q2137.53 138.898 2137.53 147.092 Q2137.53 155.264 2133.18 160.148 Q2128.82 165.009 2121.56 165.009 Q2114.26 165.009 2109.89 160.148 Q2105.54 155.287 2105.54 147.092 Q2105.54 138.898 2109.89 134.037 Q2114.26 129.153 2121.56 129.153 Z\" fill=\"#000000\" fill-rule=\"nonzero\" fill-opacity=\"1\" /><path clip-path=\"url(#clip590)\" d=\"M2163.27 151.398 Q2163.27 146.699 2161.32 144.037 Q2159.4 141.352 2156.02 141.352 Q2152.64 141.352 2150.7 144.037 Q2148.78 146.699 2148.78 151.398 Q2148.78 156.097 2150.7 158.782 Q2152.64 161.444 2156.02 161.444 Q2159.4 161.444 2161.32 158.782 Q2163.27 156.097 2163.27 151.398 M2148.78 142.347 Q2150.12 140.032 2152.16 138.921 Q2154.22 137.787 2157.07 137.787 Q2161.79 137.787 2164.73 141.537 Q2167.69 145.287 2167.69 151.398 Q2167.69 157.509 2164.73 161.259 Q2161.79 165.009 2157.07 165.009 Q2154.22 165.009 2152.16 163.898 Q2150.12 162.763 2148.78 160.449 L2148.78 164.338 L2144.5 164.338 L2144.5 128.319 L2148.78 128.319 L2148.78 142.347 Z\" fill=\"#000000\" fill-rule=\"nonzero\" fill-opacity=\"1\" /><path clip-path=\"url(#clip590)\" d=\"M2174.75 138.412 L2179.01 138.412 L2179.01 164.801 Q2179.01 169.754 2177.11 171.976 Q2175.24 174.199 2171.05 174.199 L2169.43 174.199 L2169.43 170.588 L2170.56 170.588 Q2172.99 170.588 2173.87 169.453 Q2174.75 168.342 2174.75 164.801 L2174.75 138.412 M2174.75 128.319 L2179.01 128.319 L2179.01 133.713 L2174.75 133.713 L2174.75 128.319 Z\" fill=\"#000000\" fill-rule=\"nonzero\" fill-opacity=\"1\" /><path clip-path=\"url(#clip590)\" d=\"M2210.1 150.31 L2210.1 152.393 L2190.51 152.393 Q2190.79 156.791 2193.15 159.106 Q2195.54 161.398 2199.77 161.398 Q2202.23 161.398 2204.52 160.796 Q2206.83 160.194 2209.1 158.99 L2209.1 163.018 Q2206.81 163.99 2204.4 164.5 Q2202 165.009 2199.52 165.009 Q2193.31 165.009 2189.68 161.398 Q2186.07 157.787 2186.07 151.629 Q2186.07 145.264 2189.5 141.537 Q2192.94 137.787 2198.78 137.787 Q2204.01 137.787 2207.04 141.166 Q2210.1 144.523 2210.1 150.31 M2205.84 149.06 Q2205.79 145.565 2203.87 143.481 Q2201.97 141.398 2198.82 141.398 Q2195.26 141.398 2193.11 143.412 Q2190.98 145.426 2190.65 149.083 L2205.84 149.06 Z\" fill=\"#000000\" fill-rule=\"nonzero\" fill-opacity=\"1\" /><path clip-path=\"url(#clip590)\" d=\"M2235.75 139.407 L2235.75 143.389 Q2233.94 142.393 2232.11 141.907 Q2230.31 141.398 2228.45 141.398 Q2224.31 141.398 2222.02 144.037 Q2219.73 146.652 2219.73 151.398 Q2219.73 156.143 2222.02 158.782 Q2224.31 161.398 2228.45 161.398 Q2230.31 161.398 2232.11 160.912 Q2233.94 160.402 2235.75 159.407 L2235.75 163.342 Q2233.96 164.176 2232.04 164.592 Q2230.14 165.009 2227.99 165.009 Q2222.13 165.009 2218.69 161.328 Q2215.24 157.648 2215.24 151.398 Q2215.24 145.055 2218.71 141.421 Q2222.2 137.787 2228.27 137.787 Q2230.24 137.787 2232.11 138.203 Q2233.99 138.597 2235.75 139.407 Z\" fill=\"#000000\" fill-rule=\"nonzero\" fill-opacity=\"1\" /><path clip-path=\"url(#clip590)\" d=\"M2247.37 131.051 L2247.37 138.412 L2256.14 138.412 L2256.14 141.722 L2247.37 141.722 L2247.37 155.796 Q2247.37 158.967 2248.22 159.87 Q2249.1 160.773 2251.76 160.773 L2256.14 160.773 L2256.14 164.338 L2251.76 164.338 Q2246.83 164.338 2244.96 162.509 Q2243.08 160.657 2243.08 155.796 L2243.08 141.722 L2239.96 141.722 L2239.96 138.412 L2243.08 138.412 L2243.08 131.051 L2247.37 131.051 Z\" fill=\"#000000\" fill-rule=\"nonzero\" fill-opacity=\"1\" /></svg>\n"
      ]
     },
     "execution_count": 309,
     "metadata": {},
     "output_type": "execute_result"
    }
   ],
   "source": [
    "scale = 5\n",
    "theta = 0.0\n",
    "box = makeBox(theta,scale) \n",
    "O_in = [-7.0;-7.0]\n",
    "V_in = normalize([3.0,1.0])\n",
    "O_out, V_out, t_out = getTrajectory(box, scale, O_in, V_in)\n",
    "\n",
    "ts = [0:0.5:10;]\n",
    "jitter_x = 0.0\n",
    "jitter_y = 0.0\n",
    "line_model(O_in, V_in, t_out, O_out, V_out, ts, jitter_x, jitter_y)\n",
    "trace = Gen.simulate(line_model, (O_in, V_in, t_out, O_out, V_out, ts, jitter_x, jitter_y));\n",
    "choices = Gen.get_choices(trace);\n",
    "render_trace(trace,box)"
   ]
  },
  {
   "cell_type": "code",
   "execution_count": 304,
   "id": "b1978fed-eeb1-47df-9d56-66f34f18538b",
   "metadata": {},
   "outputs": [
    {
     "data": {
      "text/plain": [
       "Inf"
      ]
     },
     "execution_count": 304,
     "metadata": {},
     "output_type": "execute_result"
    }
   ],
   "source": [
    "t_out"
   ]
  },
  {
   "cell_type": "code",
   "execution_count": null,
   "id": "5a2b2812-f72b-4623-831f-09622c77bf07",
   "metadata": {},
   "outputs": [],
   "source": []
  }
 ],
 "metadata": {
  "kernelspec": {
   "display_name": "Julia 1.9.3",
   "language": "julia",
   "name": "julia-1.9"
  },
  "language_info": {
   "file_extension": ".jl",
   "mimetype": "application/julia",
   "name": "julia",
   "version": "1.9.3"
  }
 },
 "nbformat": 4,
 "nbformat_minor": 5
}
