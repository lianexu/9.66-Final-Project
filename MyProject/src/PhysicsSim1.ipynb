{
 "cells": [
  {
   "cell_type": "code",
   "execution_count": 5,
   "id": "7017bde0-1b5c-415a-b9b7-ba9cb96908c8",
   "metadata": {},
   "outputs": [
    {
     "name": "stderr",
     "output_type": "stream",
     "text": [
      "\u001b[36m\u001b[1m[ \u001b[22m\u001b[39m\u001b[36m\u001b[1mInfo: \u001b[22m\u001b[39mPrecompiling SpecialFunctionsExt [997ecda8-951a-5f50-90ea-61382e97704b]\n"
     ]
    }
   ],
   "source": [
    "using Gen, Plots, LinearAlgebra"
   ]
  },
  {
   "cell_type": "code",
   "execution_count": 6,
   "id": "637f5d4e-d770-43b9-b4d1-01f9a24ca431",
   "metadata": {},
   "outputs": [
    {
     "data": {
      "text/plain": [
       "getRotationMatrix (generic function with 1 method)"
      ]
     },
     "execution_count": 6,
     "metadata": {},
     "output_type": "execute_result"
    }
   ],
   "source": [
    "function getRotationMatrix(theta::Float64)\n",
    "    return [cos(theta) -sin(theta); sin(theta) cos(theta)]\n",
    "end"
   ]
  },
  {
   "cell_type": "code",
   "execution_count": 7,
   "id": "1fcfd286-d045-4a8f-aeef-5b35803dbb55",
   "metadata": {},
   "outputs": [
    {
     "data": {
      "text/plain": [
       "4"
      ]
     },
     "execution_count": 7,
     "metadata": {},
     "output_type": "execute_result"
    }
   ],
   "source": [
    "# How to index into Matrix\n",
    "A = [1 2; 3 4]\n",
    "A[2,2]"
   ]
  },
  {
   "cell_type": "code",
   "execution_count": 8,
   "id": "a1a141c6-466f-442b-9ba0-d346f3e05dc5",
   "metadata": {},
   "outputs": [
    {
     "data": {
      "text/plain": [
       "isInBox (generic function with 1 method)"
      ]
     },
     "execution_count": 8,
     "metadata": {},
     "output_type": "execute_result"
    }
   ],
   "source": [
    "function isInBox(box::Matrix{Float64}, point::Vector{Float64})\n",
    "    ABn = [box[1,1]; box[2,1]] # normal defining AB\n",
    "    BCn = [box[1,2]; box[2,2]]\n",
    "    CDn = [box[1,3]; box[2,3]]\n",
    "    DAn = [box[1,4]; box[2,4]]\n",
    "\n",
    "    if Transpose(ABn) * point + 1 < 0 # assumes that the box is side length 2, centered at (0,0)\n",
    "        return false\n",
    "    end\n",
    "     if Transpose(BCn) * point + 1 < 0\n",
    "        return false\n",
    "    end\n",
    "    if Transpose(CDn) * point + 1 < 0\n",
    "        return false\n",
    "    end\n",
    "    if Transpose(DAn) * point + 1 < 0\n",
    "        return false\n",
    "    end\n",
    "    return true\n",
    "    \n",
    "end"
   ]
  },
  {
   "cell_type": "code",
   "execution_count": 9,
   "id": "b419abbf-f4c9-4da6-8408-aced1df85f8c",
   "metadata": {},
   "outputs": [],
   "source": [
    "## DONT USE THIS FUNCTION\n",
    "# function isOnBox(box::Matrix{Float64}, point::Vector{Float64})\n",
    "#     ABn = [box[1,1]; box[2,1]]\n",
    "#     BCn = [box[1,2]; box[2,2]]\n",
    "#     CDn = [box[1,3]; box[2,3]]\n",
    "#     DAn = [box[1,4]; box[2,4]]\n",
    "\n",
    "#     epsilon = 0.00000005\n",
    "#     if abs(Transpose(ABn) * point + 1) == 0.0\n",
    "#         return \"AB\"\n",
    "#     end\n",
    "#      if abs(Transpose(BCn) * point + 1) == 0.0\n",
    "#         return \"BC\"\n",
    "#     end\n",
    "#     if abs(Transpose(CDn) * point + 1) == 0.0\n",
    "#         return \"CD\"\n",
    "#     end\n",
    "#     if abs(Transpose(DAn) * point + 1) == 0.0\n",
    "#         return \"DA\"\n",
    "#     end\n",
    "#     return \"None\"\n",
    "    \n",
    "# end"
   ]
  },
  {
   "cell_type": "code",
   "execution_count": 284,
   "id": "7718c333-034a-49d8-9ecd-618b766ef4b3",
   "metadata": {},
   "outputs": [
    {
     "data": {
      "text/plain": [
       "findIntersectionWithTrajectory (generic function with 1 method)"
      ]
     },
     "execution_count": 284,
     "metadata": {},
     "output_type": "execute_result"
    }
   ],
   "source": [
    "function findIntersectionWithTrajectory(box::Matrix{Float64}, O::Vector{Float64}, V::Vector{Float64})\n",
    "    ABn = [box[1,1]; box[2,1]]\n",
    "    BCn = [box[1,2]; box[2,2]]\n",
    "    CDn = [box[1,3]; box[2,3]]\n",
    "    DAn = [box[1,4]; box[2,4]]\n",
    "\n",
    "    tAB = Inf\n",
    "    tBC = Inf\n",
    "    tBC = Inf\n",
    "    tDA = Inf\n",
    "    \n",
    "    tAB = (-1.0 - (ABn[1]* O[1]) - (ABn[2]* O[2]))/(ABn[1]*V[1] + ABn[2]*V[2])\n",
    "    tBC = (-1.0 - (BCn[1]* O[1]) - (BCn[2]* O[2]))/(BCn[1]*V[1] + BCn[2]*V[2])\n",
    "    tCD = (-1.0 - (CDn[1]* O[1]) - (CDn[2]* O[2]))/(CDn[1]*V[1] + CDn[2]*V[2])\n",
    "    tDA = (-1.0 - (DAn[1]* O[1]) - (DAn[2]* O[2]))/(DAn[1]*V[1] + DAn[2]*V[2])\n",
    "\n",
    "    if tAB == -Inf || tAB < 0\n",
    "        tAB = Inf\n",
    "    end\n",
    "    if tBC == -Inf || tBC < 0\n",
    "        tBC = Inf\n",
    "    end\n",
    "    if tCD == -Inf || tCD < 0\n",
    "        tCD = Inf\n",
    "    end\n",
    "    if tDA == -Inf || tDA < 0\n",
    "        tDA = Inf\n",
    "    end\n",
    "    \n",
    "    current = Inf\n",
    "    p = [Inf;Inf]\n",
    "    n = [Inf;Inf]\n",
    "    if tAB < current\n",
    "        temp_p = O + V*tAB\n",
    "        if isInBox(box, temp_p)\n",
    "            current = tAB\n",
    "            p = O + V*tAB\n",
    "            n = ABn\n",
    "        end\n",
    "    end\n",
    "    if tBC < tAB\n",
    "        temp_p = O + V*tBC\n",
    "        if isInBox(box, temp_p)\n",
    "            current = tBC\n",
    "            p = O + V*tBC\n",
    "            n = BCn\n",
    "        end\n",
    "    end\n",
    "    if tCD < current\n",
    "        temp_p = O + V*tCD\n",
    "        if isInBox(box, p)\n",
    "            current = tCD\n",
    "            p = O + V*tCD\n",
    "            n = CDn\n",
    "        end\n",
    "    end\n",
    "    if tDA < current\n",
    "        temp_p = O + V*tDA\n",
    "        if isInBox(box, temp_p)\n",
    "            current = tCD\n",
    "            p = O + V*tCD\n",
    "            n = DAn\n",
    "        end\n",
    "    end\n",
    "    return (p, -n, current) #(point of intersection, -n so the n points outward, time of intersection)\n",
    "end"
   ]
  },
  {
   "cell_type": "code",
   "execution_count": 438,
   "id": "bc4787a5-69f7-45a6-98b4-ff2f5b01ba1d",
   "metadata": {},
   "outputs": [
    {
     "data": {
      "text/plain": [
       "2×4 Matrix{Float64}:\n",
       "  0.5       0.866025  -0.5       -0.866025\n",
       " -0.866025  0.5        0.866025  -0.5"
      ]
     },
     "execution_count": 438,
     "metadata": {},
     "output_type": "execute_result"
    }
   ],
   "source": [
    "# box of side length 2 centered at (0,0)\n",
    "box = [0.0 1.0 0.0 -1.0;\n",
    "       -1.0 0.0 1.0 0.0]\n",
    "box = getRotationMatrix(pi/6) * box #rotate by 45 degrees"
   ]
  },
  {
   "cell_type": "code",
   "execution_count": 439,
   "id": "73633e03-af11-4a38-b8b9-43cf34d47bf6",
   "metadata": {},
   "outputs": [
    {
     "data": {
      "text/plain": [
       "getOutVector (generic function with 1 method)"
      ]
     },
     "execution_count": 439,
     "metadata": {},
     "output_type": "execute_result"
    }
   ],
   "source": [
    "function getOutVector(V_in::Vector{Float64}, p::Vector{Float64}, n::Vector{Float64})\n",
    "    O_out = p \n",
    "    V_out = V_in - 2 * (Transpose(V_in) * n) * n # velocity after hitting the object\n",
    "    return O_out, V_out\n",
    "end"
   ]
  },
  {
   "cell_type": "code",
   "execution_count": 440,
   "id": "ee9b2709-4831-417f-9729-b00b3ca89e1a",
   "metadata": {},
   "outputs": [
    {
     "data": {
      "text/plain": [
       "([Inf, Inf], [NaN, NaN])"
      ]
     },
     "execution_count": 440,
     "metadata": {},
     "output_type": "execute_result"
    }
   ],
   "source": [
    "O_in = [2.0;-2.0]\n",
    "V_in = [-1.0,1.0]\n",
    "p,n,t_out = findIntersectionWithTrajectory(box, O_in, V_in)\n",
    "# TODO: do checks on p,n,t_out not being Inf\n",
    "\n",
    "O_out, V_out = getOutVector(V_in, p, n)\n",
    "# O_out + V_out * t_out"
   ]
  },
  {
   "cell_type": "code",
   "execution_count": 441,
   "id": "6d8ee069-a2ce-425b-8e51-c8f1ceb550d6",
   "metadata": {},
   "outputs": [],
   "source": [
    "@gen function line_model(O_in::Vector{Float64}, V_in::Vector{Float64}, t_out::Float64, O_out::Vector{Float64}, V_out::Vector{Float64}, xs::Vector{Float64})\n",
    "\n",
    "    function y_in(t)\n",
    "        return O_in + V_in * t\n",
    "    end\n",
    "\n",
    "    function y_out(t)\n",
    "        return O_out + V_out * (t - t_out)\n",
    "    end\n",
    "\n",
    "    # function y(t)\n",
    "    #     return V_in[2]/V_in[1] * t + (O[2] - V_in[2]/V_in[1]*O[1])\n",
    "    # endz\n",
    "\n",
    "    # function y_out(t)\n",
    "    #     return O_in + V_in * (t - t_out)\n",
    "    # end\n",
    "    # function f(x)\n",
    "    #     return 2.0 + 2.0*x\n",
    "    # end\n",
    "\n",
    "\n",
    "    for (i, t) in enumerate(ts)\n",
    "        if t <= t_out\n",
    "            ({(:x, i)} ~ normal(y_in(t)[1], 0.01))\n",
    "            ({(:y, i)} ~ normal(y_in(t)[2], 0.01))\n",
    "        else\n",
    "            ({(:x, i)} ~ normal(y_out(t)[1], 0.01))\n",
    "            ({(:y, i)} ~ normal(y_out(t)[2], 0.01))\n",
    "        end\n",
    "    end\n",
    "    \n",
    "    # function y(x)\n",
    "    #     return 2.0 * x + 2.0\n",
    "    # end\n",
    "\n",
    "    # # Given the slope and intercept, we can sample y coordinates\n",
    "    # # for each of the x coordinates in our input vector.\n",
    "    # for (i, x) in enumerate(xs)\n",
    "    #     # Note that we name each random choice in this loop\n",
    "    #     # slightly differently: the first time through,\n",
    "    #     # the name (:y, 1) will be used, then (:y, 2) for\n",
    "    #     # the second point, and so on.\n",
    "    #     ({(:y, i)} ~ normal(y(x), 0.1))\n",
    "    # end\n",
    "\n",
    "    # Most of the time, we don't care about the return\n",
    "    # value of a model, only the random choices it makes.\n",
    "    # It can sometimems be useful to return something\n",
    "    # meaningful, however; here, we return the function `y`.\n",
    "    return y\n",
    "end;"
   ]
  },
  {
   "cell_type": "code",
   "execution_count": 442,
   "id": "e032170c-d992-436e-95fe-d3450c5dcf36",
   "metadata": {},
   "outputs": [],
   "source": [
    "ts = [0:0.1:2;];"
   ]
  },
  {
   "cell_type": "code",
   "execution_count": 453,
   "id": "1a03a2c7-9cd6-4233-a3e8-44b9d6423783",
   "metadata": {},
   "outputs": [
    {
     "data": {
      "text/plain": [
       "y (generic function with 1 method)"
      ]
     },
     "execution_count": 453,
     "metadata": {},
     "output_type": "execute_result"
    }
   ],
   "source": [
    "ts = [0:0.1:2;];\n",
    "box = [0.0 1.0 0.0 -1.0;\n",
    "       -1.0 0.0 1.0 0.0]\n",
    "r = pi/3\n",
    "box = getRotationMatrix(r) * box #rotate by 45 degrees\n",
    "O_in = [-5.0;0.0]\n",
    "V_in = [5.0;0.5]\n",
    "p,n,t_out = findIntersectionWithTrajectory(box, O_in, V_in)\n",
    "O_out, V_out = getOutVector(V_in, p, n)\n",
    "\n",
    "y = line_model(O_in, V_in, t_out, O_out, V_out, ts)"
   ]
  },
  {
   "cell_type": "code",
   "execution_count": 444,
   "id": "aabd4f63-f790-439b-b4be-7f7f5964dc11",
   "metadata": {},
   "outputs": [
    {
     "data": {
      "text/plain": [
       "0.816182193220514"
      ]
     },
     "execution_count": 444,
     "metadata": {},
     "output_type": "execute_result"
    }
   ],
   "source": [
    "t_out"
   ]
  },
  {
   "cell_type": "code",
   "execution_count": 445,
   "id": "780c8438-9a72-46f3-9361-fc9e2749d984",
   "metadata": {},
   "outputs": [],
   "source": [
    "trace = Gen.simulate(line_model, (O_in, V_in, t_out, O_out, V_out, ts));"
   ]
  },
  {
   "cell_type": "code",
   "execution_count": 446,
   "id": "a56a92d6-f929-4879-a800-b2cfb1a88eb6",
   "metadata": {},
   "outputs": [],
   "source": [
    "choices = Gen.get_choices(trace);"
   ]
  },
  {
   "cell_type": "code",
   "execution_count": 447,
   "id": "b4806575-9101-458c-9f9a-e87a2aebc26b",
   "metadata": {},
   "outputs": [],
   "source": [
    "Gen.get_args(trace);"
   ]
  },
  {
   "cell_type": "code",
   "execution_count": 448,
   "id": "5559630e-c303-4772-b325-84a2b4f793af",
   "metadata": {},
   "outputs": [
    {
     "data": {
      "text/plain": [
       "y (generic function with 1 method)"
      ]
     },
     "execution_count": 448,
     "metadata": {},
     "output_type": "execute_result"
    }
   ],
   "source": [
    "get_retval(trace)"
   ]
  },
  {
   "cell_type": "code",
   "execution_count": 449,
   "id": "f1f7ca39-3e70-4342-8930-a61f852700c9",
   "metadata": {},
   "outputs": [],
   "source": [
    "choices;"
   ]
  },
  {
   "cell_type": "code",
   "execution_count": 450,
   "id": "adb12930-a7be-425d-8822-c55158f3b21d",
   "metadata": {},
   "outputs": [
    {
     "data": {
      "text/plain": [
       "-1.10341391463219"
      ]
     },
     "execution_count": 450,
     "metadata": {},
     "output_type": "execute_result"
    }
   ],
   "source": [
    "trace[(:x, 10)]"
   ]
  },
  {
   "cell_type": "code",
   "execution_count": 451,
   "id": "c1074db4-9d1a-4bf9-80b6-b69668e7cfad",
   "metadata": {},
   "outputs": [],
   "source": [
    "function render_trace(trace, r; show_data=true)\n",
    "    \n",
    "    # Pull out xs from the trace\n",
    "    O_in, V_in, t_out, O_out, V_out, ts = get_args(trace)\n",
    "    \n",
    "    tmin = minimum(ts)\n",
    "    tmax = maximum(ts)\n",
    "\n",
    "    # Pull out the return value, useful for plotting\n",
    "    y = get_retval(trace)\n",
    "    \n",
    "    # Draw the line\n",
    "    # test_xs = collect(range(-5, stop=5, length=1000))\n",
    "    fig = plot(color=\"black\", label=nothing,\n",
    "                xlim=(-10, 10), ylim=(-10, 10))\n",
    "    box_plot = ([1.0, 1.0], [-1.0, 1.0], [-1.0, -1.0], [1.0, -1.0], [1.0, 1.0])\n",
    "    A = getRotationMatrix(r)*box_plot[1]\n",
    "    B = getRotationMatrix(r)* box_plot[2]\n",
    "    C = getRotationMatrix(r)* box_plot[3]\n",
    "    D = getRotationMatrix(r)* box_plot[4]\n",
    "    E = getRotationMatrix(r)* box_plot[5]\n",
    "    plot!([A[1],B[1],C[1],D[1],E[1]],[A[2],B[2],C[2],D[2],E[2]],\n",
    "      color=:red, linewidth=2, linestyle=:solid, label=\"Object\")\n",
    "\n",
    "    if show_data\n",
    "        xs = [trace[(:x, i)] for i=1:length(ts)]\n",
    "        ys = [trace[(:y, i)] for i=1:length(ts)]\n",
    "        \n",
    "        # Plot the data set\n",
    "        scatter!(xs, ys, c=\"black\", label=nothing)\n",
    "    end\n",
    "    \n",
    "    return fig\n",
    "end;"
   ]
  },
  {
   "cell_type": "code",
   "execution_count": 452,
   "id": "d6cdd08c-b506-4fbf-a4ed-742f682aa32d",
   "metadata": {},
   "outputs": [
    {
     "data": {
      "image/png": "[encoded data removed]",
      "image/svg+xml": [
       "<?xml version=\"1.0\" encoding=\"utf-8\"?>\n",
       "<svg xmlns=\"http://www.w3.org/2000/svg\" xmlns:xlink=\"http://www.w3.org/1999/xlink\" width=\"600\" height=\"400\" viewBox=\"0 0 2400 1600\">\n",
       "<defs>\n",
       "  <clipPath id=\"clip370\">\n",
       "    <rect x=\"0\" y=\"0\" width=\"2400\" height=\"1600\"/>\n",
       "  </clipPath>\n",
       "</defs>\n",
       "<path clip-path=\"url(#clip370)\" d=\"M0 1600 L2400 1600 L2400 0 L0 0  Z\" fill=\"#ffffff\" fill-rule=\"evenodd\" fill-opacity=\"1\"/>\n",
       "<defs>\n",
       "  <clipPath id=\"clip371\">\n",
       "    <rect x=\"480\" y=\"0\" width=\"1681\" height=\"1600\"/>\n",
       "  </clipPath>\n",
       "</defs>\n",
       "<path clip-path=\"url(#clip370)\" d=\"M178.867 1486.45 L2352.76 1486.45 L2352.76 47.2441 L178.867 47.2441  Z\" fill=\"#ffffff\" fill-rule=\"evenodd\" fill-opacity=\"1\"/>\n",
       "<defs>\n",
       "  <clipPath id=\"clip372\">\n",
       "    <rect x=\"178\" y=\"47\" width=\"2175\" height=\"1440\"/>\n",
       "  </clipPath>\n",
       "</defs>\n",
       "<polyline clip-path=\"url(#clip372)\" style=\"stroke:#000000; stroke-linecap:round; stroke-linejoin:round; stroke-width:2; stroke-opacity:0.1; fill:none\" points=\"178.867,1486.45 178.867,47.2441 \"/>\n",
       "<polyline clip-path=\"url(#clip372)\" style=\"stroke:#000000; stroke-linecap:round; stroke-linejoin:round; stroke-width:2; stroke-opacity:0.1; fill:none\" points=\"722.339,1486.45 722.339,47.2441 \"/>\n",
       "<polyline clip-path=\"url(#clip372)\" style=\"stroke:#000000; stroke-linecap:round; stroke-linejoin:round; stroke-width:2; stroke-opacity:0.1; fill:none\" points=\"1265.81,1486.45 1265.81,47.2441 \"/>\n",
       "<polyline clip-path=\"url(#clip372)\" style=\"stroke:#000000; stroke-linecap:round; stroke-linejoin:round; stroke-width:2; stroke-opacity:0.1; fill:none\" points=\"1809.28,1486.45 1809.28,47.2441 \"/>\n",
       "<polyline clip-path=\"url(#clip372)\" style=\"stroke:#000000; stroke-linecap:round; stroke-linejoin:round; stroke-width:2; stroke-opacity:0.1; fill:none\" points=\"2352.76,1486.45 2352.76,47.2441 \"/>\n",
       "<polyline clip-path=\"url(#clip370)\" style=\"stroke:#000000; stroke-linecap:round; stroke-linejoin:round; stroke-width:4; stroke-opacity:1; fill:none\" points=\"178.867,1486.45 2352.76,1486.45 \"/>\n",
       "<polyline clip-path=\"url(#clip370)\" style=\"stroke:#000000; stroke-linecap:round; stroke-linejoin:round; stroke-width:4; stroke-opacity:1; fill:none\" points=\"178.867,1486.45 178.867,1467.55 \"/>\n",
       "<polyline clip-path=\"url(#clip370)\" style=\"stroke:#000000; stroke-linecap:round; stroke-linejoin:round; stroke-width:4; stroke-opacity:1; fill:none\" points=\"722.339,1486.45 722.339,1467.55 \"/>\n",
       "<polyline clip-path=\"url(#clip370)\" style=\"stroke:#000000; stroke-linecap:round; stroke-linejoin:round; stroke-width:4; stroke-opacity:1; fill:none\" points=\"1265.81,1486.45 1265.81,1467.55 \"/>\n",
       "<polyline clip-path=\"url(#clip370)\" style=\"stroke:#000000; stroke-linecap:round; stroke-linejoin:round; stroke-width:4; stroke-opacity:1; fill:none\" points=\"1809.28,1486.45 1809.28,1467.55 \"/>\n",
       "<polyline clip-path=\"url(#clip370)\" style=\"stroke:#000000; stroke-linecap:round; stroke-linejoin:round; stroke-width:4; stroke-opacity:1; fill:none\" points=\"2352.76,1486.45 2352.76,1467.55 \"/>\n",
       "<path clip-path=\"url(#clip370)\" d=\"M132.929 1532.02 L162.605 1532.02 L162.605 1535.95 L132.929 1535.95 L132.929 1532.02 Z\" fill=\"#000000\" fill-rule=\"nonzero\" fill-opacity=\"1\" /><path clip-path=\"url(#clip370)\" d=\"M173.508 1544.91 L181.147 1544.91 L181.147 1518.55 L172.837 1520.21 L172.837 1515.95 L181.1 1514.29 L185.776 1514.29 L185.776 1544.91 L193.415 1544.91 L193.415 1548.85 L173.508 1548.85 L173.508 1544.91 Z\" fill=\"#000000\" fill-rule=\"nonzero\" fill-opacity=\"1\" /><path clip-path=\"url(#clip370)\" d=\"M212.86 1517.37 Q209.248 1517.37 207.42 1520.93 Q205.614 1524.47 205.614 1531.6 Q205.614 1538.71 207.42 1542.27 Q209.248 1545.82 212.86 1545.82 Q216.494 1545.82 218.299 1542.27 Q220.128 1538.71 220.128 1531.6 Q220.128 1524.47 218.299 1520.93 Q216.494 1517.37 212.86 1517.37 M212.86 1513.66 Q218.67 1513.66 221.725 1518.27 Q224.804 1522.85 224.804 1531.6 Q224.804 1540.33 221.725 1544.94 Q218.67 1549.52 212.86 1549.52 Q207.049 1549.52 203.971 1544.94 Q200.915 1540.33 200.915 1531.6 Q200.915 1522.85 203.971 1518.27 Q207.049 1513.66 212.86 1513.66 Z\" fill=\"#000000\" fill-rule=\"nonzero\" fill-opacity=\"1\" /><path clip-path=\"url(#clip370)\" d=\"M691.98 1532.02 L721.656 1532.02 L721.656 1535.95 L691.98 1535.95 L691.98 1532.02 Z\" fill=\"#000000\" fill-rule=\"nonzero\" fill-opacity=\"1\" /><path clip-path=\"url(#clip370)\" d=\"M731.795 1514.29 L750.151 1514.29 L750.151 1518.22 L736.077 1518.22 L736.077 1526.7 Q737.096 1526.35 738.114 1526.19 Q739.133 1526 740.151 1526 Q745.938 1526 749.318 1529.17 Q752.698 1532.34 752.698 1537.76 Q752.698 1543.34 749.225 1546.44 Q745.753 1549.52 739.434 1549.52 Q737.258 1549.52 734.989 1549.15 Q732.744 1548.78 730.337 1548.04 L730.337 1543.34 Q732.42 1544.47 734.642 1545.03 Q736.864 1545.58 739.341 1545.58 Q743.346 1545.58 745.684 1543.48 Q748.022 1541.37 748.022 1537.76 Q748.022 1534.15 745.684 1532.04 Q743.346 1529.94 739.341 1529.94 Q737.466 1529.94 735.591 1530.35 Q733.739 1530.77 731.795 1531.65 L731.795 1514.29 Z\" fill=\"#000000\" fill-rule=\"nonzero\" fill-opacity=\"1\" /><path clip-path=\"url(#clip370)\" d=\"M1265.81 1517.37 Q1262.2 1517.37 1260.37 1520.93 Q1258.57 1524.47 1258.57 1531.6 Q1258.57 1538.71 1260.37 1542.27 Q1262.2 1545.82 1265.81 1545.82 Q1269.45 1545.82 1271.25 1542.27 Q1273.08 1538.71 1273.08 1531.6 Q1273.08 1524.47 1271.25 1520.93 Q1269.45 1517.37 1265.81 1517.37 M1265.81 1513.66 Q1271.62 1513.66 1274.68 1518.27 Q1277.76 1522.85 1277.76 1531.6 Q1277.76 1540.33 1274.68 1544.94 Q1271.62 1549.52 1265.81 1549.52 Q1260 1549.52 1256.92 1544.94 Q1253.87 1540.33 1253.87 1531.6 Q1253.87 1522.85 1256.92 1518.27 Q1260 1513.66 1265.81 1513.66 Z\" fill=\"#000000\" fill-rule=\"nonzero\" fill-opacity=\"1\" /><path clip-path=\"url(#clip370)\" d=\"M1799.56 1514.29 L1817.92 1514.29 L1817.92 1518.22 L1803.84 1518.22 L1803.84 1526.7 Q1804.86 1526.35 1805.88 1526.19 Q1806.9 1526 1807.92 1526 Q1813.7 1526 1817.08 1529.17 Q1820.46 1532.34 1820.46 1537.76 Q1820.46 1543.34 1816.99 1546.44 Q1813.52 1549.52 1807.2 1549.52 Q1805.02 1549.52 1802.76 1549.15 Q1800.51 1548.78 1798.1 1548.04 L1798.1 1543.34 Q1800.19 1544.47 1802.41 1545.03 Q1804.63 1545.58 1807.11 1545.58 Q1811.11 1545.58 1813.45 1543.48 Q1815.79 1541.37 1815.79 1537.76 Q1815.79 1534.15 1813.45 1532.04 Q1811.11 1529.94 1807.11 1529.94 Q1805.23 1529.94 1803.36 1530.35 Q1801.51 1530.77 1799.56 1531.65 L1799.56 1514.29 Z\" fill=\"#000000\" fill-rule=\"nonzero\" fill-opacity=\"1\" /><path clip-path=\"url(#clip370)\" d=\"M2327.44 1544.91 L2335.08 1544.91 L2335.08 1518.55 L2326.77 1520.21 L2326.77 1515.95 L2335.04 1514.29 L2339.71 1514.29 L2339.71 1544.91 L2347.35 1544.91 L2347.35 1548.85 L2327.44 1548.85 L2327.44 1544.91 Z\" fill=\"#000000\" fill-rule=\"nonzero\" fill-opacity=\"1\" /><path clip-path=\"url(#clip370)\" d=\"M2366.8 1517.37 Q2363.18 1517.37 2361.36 1520.93 Q2359.55 1524.47 2359.55 1531.6 Q2359.55 1538.71 2361.36 1542.27 Q2363.18 1545.82 2366.8 1545.82 Q2370.43 1545.82 2372.23 1542.27 Q2374.06 1538.71 2374.06 1531.6 Q2374.06 1524.47 2372.23 1520.93 Q2370.43 1517.37 2366.8 1517.37 M2366.8 1513.66 Q2372.61 1513.66 2375.66 1518.27 Q2378.74 1522.85 2378.74 1531.6 Q2378.74 1540.33 2375.66 1544.94 Q2372.61 1549.52 2366.8 1549.52 Q2360.99 1549.52 2357.91 1544.94 Q2354.85 1540.33 2354.85 1531.6 Q2354.85 1522.85 2357.91 1518.27 Q2360.99 1513.66 2366.8 1513.66 Z\" fill=\"#000000\" fill-rule=\"nonzero\" fill-opacity=\"1\" /><polyline clip-path=\"url(#clip372)\" style=\"stroke:#000000; stroke-linecap:round; stroke-linejoin:round; stroke-width:2; stroke-opacity:0.1; fill:none\" points=\"178.867,1486.45 2352.76,1486.45 \"/>\n",
       "<polyline clip-path=\"url(#clip372)\" style=\"stroke:#000000; stroke-linecap:round; stroke-linejoin:round; stroke-width:2; stroke-opacity:0.1; fill:none\" points=\"178.867,1126.65 2352.76,1126.65 \"/>\n",
       "<polyline clip-path=\"url(#clip372)\" style=\"stroke:#000000; stroke-linecap:round; stroke-linejoin:round; stroke-width:2; stroke-opacity:0.1; fill:none\" points=\"178.867,766.846 2352.76,766.846 \"/>\n",
       "<polyline clip-path=\"url(#clip372)\" style=\"stroke:#000000; stroke-linecap:round; stroke-linejoin:round; stroke-width:2; stroke-opacity:0.1; fill:none\" points=\"178.867,407.045 2352.76,407.045 \"/>\n",
       "<polyline clip-path=\"url(#clip372)\" style=\"stroke:#000000; stroke-linecap:round; stroke-linejoin:round; stroke-width:2; stroke-opacity:0.1; fill:none\" points=\"178.867,47.2441 2352.76,47.2441 \"/>\n",
       "<polyline clip-path=\"url(#clip370)\" style=\"stroke:#000000; stroke-linecap:round; stroke-linejoin:round; stroke-width:4; stroke-opacity:1; fill:none\" points=\"178.867,1486.45 178.867,47.2441 \"/>\n",
       "<polyline clip-path=\"url(#clip370)\" style=\"stroke:#000000; stroke-linecap:round; stroke-linejoin:round; stroke-width:4; stroke-opacity:1; fill:none\" points=\"178.867,1486.45 197.764,1486.45 \"/>\n",
       "<polyline clip-path=\"url(#clip370)\" style=\"stroke:#000000; stroke-linecap:round; stroke-linejoin:round; stroke-width:4; stroke-opacity:1; fill:none\" points=\"178.867,1126.65 197.764,1126.65 \"/>\n",
       "<polyline clip-path=\"url(#clip370)\" style=\"stroke:#000000; stroke-linecap:round; stroke-linejoin:round; stroke-width:4; stroke-opacity:1; fill:none\" points=\"178.867,766.846 197.764,766.846 \"/>\n",
       "<polyline clip-path=\"url(#clip370)\" style=\"stroke:#000000; stroke-linecap:round; stroke-linejoin:round; stroke-width:4; stroke-opacity:1; fill:none\" points=\"178.867,407.045 197.764,407.045 \"/>\n",
       "<polyline clip-path=\"url(#clip370)\" style=\"stroke:#000000; stroke-linecap:round; stroke-linejoin:round; stroke-width:4; stroke-opacity:1; fill:none\" points=\"178.867,47.2441 197.764,47.2441 \"/>\n",
       "<path clip-path=\"url(#clip370)\" d=\"M50.9921 1486.9 L80.6679 1486.9 L80.6679 1490.83 L50.9921 1490.83 L50.9921 1486.9 Z\" fill=\"#000000\" fill-rule=\"nonzero\" fill-opacity=\"1\" /><path clip-path=\"url(#clip370)\" d=\"M91.5706 1499.79 L99.2095 1499.79 L99.2095 1473.43 L90.8993 1475.09 L90.8993 1470.83 L99.1632 1469.17 L103.839 1469.17 L103.839 1499.79 L111.478 1499.79 L111.478 1503.73 L91.5706 1503.73 L91.5706 1499.79 Z\" fill=\"#000000\" fill-rule=\"nonzero\" fill-opacity=\"1\" /><path clip-path=\"url(#clip370)\" d=\"M130.922 1472.25 Q127.311 1472.25 125.482 1475.81 Q123.677 1479.35 123.677 1486.48 Q123.677 1493.59 125.482 1497.15 Q127.311 1500.7 130.922 1500.7 Q134.556 1500.7 136.362 1497.15 Q138.191 1493.59 138.191 1486.48 Q138.191 1479.35 136.362 1475.81 Q134.556 1472.25 130.922 1472.25 M130.922 1468.54 Q136.732 1468.54 139.788 1473.15 Q142.867 1477.73 142.867 1486.48 Q142.867 1495.21 139.788 1499.82 Q136.732 1504.4 130.922 1504.4 Q125.112 1504.4 122.033 1499.82 Q118.978 1495.21 118.978 1486.48 Q118.978 1477.73 122.033 1473.15 Q125.112 1468.54 130.922 1468.54 Z\" fill=\"#000000\" fill-rule=\"nonzero\" fill-opacity=\"1\" /><path clip-path=\"url(#clip370)\" d=\"M82.1494 1127.1 L111.825 1127.1 L111.825 1131.03 L82.1494 1131.03 L82.1494 1127.1 Z\" fill=\"#000000\" fill-rule=\"nonzero\" fill-opacity=\"1\" /><path clip-path=\"url(#clip370)\" d=\"M121.964 1109.37 L140.32 1109.37 L140.32 1113.3 L126.246 1113.3 L126.246 1121.77 Q127.265 1121.43 128.283 1121.27 Q129.302 1121.08 130.32 1121.08 Q136.107 1121.08 139.487 1124.25 Q142.867 1127.42 142.867 1132.84 Q142.867 1138.42 139.394 1141.52 Q135.922 1144.6 129.603 1144.6 Q127.427 1144.6 125.158 1144.23 Q122.913 1143.86 120.506 1143.12 L120.506 1138.42 Q122.589 1139.55 124.811 1140.11 Q127.033 1140.66 129.51 1140.66 Q133.515 1140.66 135.853 1138.56 Q138.191 1136.45 138.191 1132.84 Q138.191 1129.23 135.853 1127.12 Q133.515 1125.01 129.51 1125.01 Q127.635 1125.01 125.76 1125.43 Q123.908 1125.85 121.964 1126.73 L121.964 1109.37 Z\" fill=\"#000000\" fill-rule=\"nonzero\" fill-opacity=\"1\" /><path clip-path=\"url(#clip370)\" d=\"M130.922 752.645 Q127.311 752.645 125.482 756.209 Q123.677 759.751 123.677 766.881 Q123.677 773.987 125.482 777.552 Q127.311 781.094 130.922 781.094 Q134.556 781.094 136.362 777.552 Q138.191 773.987 138.191 766.881 Q138.191 759.751 136.362 756.209 Q134.556 752.645 130.922 752.645 M130.922 748.941 Q136.732 748.941 139.788 753.547 Q142.867 758.131 142.867 766.881 Q142.867 775.608 139.788 780.214 Q136.732 784.797 130.922 784.797 Q125.112 784.797 122.033 780.214 Q118.978 775.608 118.978 766.881 Q118.978 758.131 122.033 753.547 Q125.112 748.941 130.922 748.941 Z\" fill=\"#000000\" fill-rule=\"nonzero\" fill-opacity=\"1\" /><path clip-path=\"url(#clip370)\" d=\"M121.964 389.765 L140.32 389.765 L140.32 393.7 L126.246 393.7 L126.246 402.172 Q127.265 401.825 128.283 401.663 Q129.302 401.478 130.32 401.478 Q136.107 401.478 139.487 404.649 Q142.867 407.82 142.867 413.237 Q142.867 418.816 139.394 421.918 Q135.922 424.996 129.603 424.996 Q127.427 424.996 125.158 424.626 Q122.913 424.256 120.506 423.515 L120.506 418.816 Q122.589 419.95 124.811 420.506 Q127.033 421.061 129.51 421.061 Q133.515 421.061 135.853 418.955 Q138.191 416.848 138.191 413.237 Q138.191 409.626 135.853 407.52 Q133.515 405.413 129.51 405.413 Q127.635 405.413 125.76 405.83 Q123.908 406.246 121.964 407.126 L121.964 389.765 Z\" fill=\"#000000\" fill-rule=\"nonzero\" fill-opacity=\"1\" /><path clip-path=\"url(#clip370)\" d=\"M91.5706 60.5889 L99.2095 60.5889 L99.2095 34.2233 L90.8993 35.89 L90.8993 31.6308 L99.1632 29.9641 L103.839 29.9641 L103.839 60.5889 L111.478 60.5889 L111.478 64.5241 L91.5706 64.5241 L91.5706 60.5889 Z\" fill=\"#000000\" fill-rule=\"nonzero\" fill-opacity=\"1\" /><path clip-path=\"url(#clip370)\" d=\"M130.922 33.0428 Q127.311 33.0428 125.482 36.6076 Q123.677 40.1492 123.677 47.2788 Q123.677 54.3853 125.482 57.9501 Q127.311 61.4917 130.922 61.4917 Q134.556 61.4917 136.362 57.9501 Q138.191 54.3853 138.191 47.2788 Q138.191 40.1492 136.362 36.6076 Q134.556 33.0428 130.922 33.0428 M130.922 29.3391 Q136.732 29.3391 139.788 33.9456 Q142.867 38.5289 142.867 47.2788 Q142.867 56.0056 139.788 60.6121 Q136.732 65.1954 130.922 65.1954 Q125.112 65.1954 122.033 60.6121 Q118.978 56.0056 118.978 47.2788 Q118.978 38.5289 122.033 33.9456 Q125.112 29.3391 130.922 29.3391 Z\" fill=\"#000000\" fill-rule=\"nonzero\" fill-opacity=\"1\" /><polyline clip-path=\"url(#clip372)\" style=\"stroke:#ff0000; stroke-linecap:round; stroke-linejoin:round; stroke-width:8; stroke-opacity:1; fill:none\" points=\"1226.03,668.547 1117.33,793.185 1305.6,865.145 1414.29,740.507 1226.03,668.547 \"/>\n",
       "<circle clip-path=\"url(#clip372)\" cx=\"723.521\" cy=\"766.839\" r=\"14.4\" fill=\"#000000\" fill-rule=\"evenodd\" fill-opacity=\"1\" stroke=\"none\"/>\n",
       "<circle clip-path=\"url(#clip372)\" cx=\"777.14\" cy=\"764.218\" r=\"14.4\" fill=\"#000000\" fill-rule=\"evenodd\" fill-opacity=\"1\" stroke=\"none\"/>\n",
       "<circle clip-path=\"url(#clip372)\" cx=\"830.908\" cy=\"760.098\" r=\"14.4\" fill=\"#000000\" fill-rule=\"evenodd\" fill-opacity=\"1\" stroke=\"none\"/>\n",
       "<circle clip-path=\"url(#clip372)\" cx=\"883.342\" cy=\"756.686\" r=\"14.4\" fill=\"#000000\" fill-rule=\"evenodd\" fill-opacity=\"1\" stroke=\"none\"/>\n",
       "<circle clip-path=\"url(#clip372)\" cx=\"940.636\" cy=\"753.584\" r=\"14.4\" fill=\"#000000\" fill-rule=\"evenodd\" fill-opacity=\"1\" stroke=\"none\"/>\n",
       "<circle clip-path=\"url(#clip372)\" cx=\"995.221\" cy=\"749.407\" r=\"14.4\" fill=\"#000000\" fill-rule=\"evenodd\" fill-opacity=\"1\" stroke=\"none\"/>\n",
       "<circle clip-path=\"url(#clip372)\" cx=\"1047.72\" cy=\"744.017\" r=\"14.4\" fill=\"#000000\" fill-rule=\"evenodd\" fill-opacity=\"1\" stroke=\"none\"/>\n",
       "<circle clip-path=\"url(#clip372)\" cx=\"1102.87\" cy=\"741.289\" r=\"14.4\" fill=\"#000000\" fill-rule=\"evenodd\" fill-opacity=\"1\" stroke=\"none\"/>\n",
       "<circle clip-path=\"url(#clip372)\" cx=\"1158.78\" cy=\"738.213\" r=\"14.4\" fill=\"#000000\" fill-rule=\"evenodd\" fill-opacity=\"1\" stroke=\"none\"/>\n",
       "<circle clip-path=\"url(#clip372)\" cx=\"1145.88\" cy=\"709.752\" r=\"14.4\" fill=\"#000000\" fill-rule=\"evenodd\" fill-opacity=\"1\" stroke=\"none\"/>\n",
       "<circle clip-path=\"url(#clip372)\" cx=\"1124.72\" cy=\"676.929\" r=\"14.4\" fill=\"#000000\" fill-rule=\"evenodd\" fill-opacity=\"1\" stroke=\"none\"/>\n",
       "<circle clip-path=\"url(#clip372)\" cx=\"1100.94\" cy=\"643.967\" r=\"14.4\" fill=\"#000000\" fill-rule=\"evenodd\" fill-opacity=\"1\" stroke=\"none\"/>\n",
       "<circle clip-path=\"url(#clip372)\" cx=\"1079.12\" cy=\"612.531\" r=\"14.4\" fill=\"#000000\" fill-rule=\"evenodd\" fill-opacity=\"1\" stroke=\"none\"/>\n",
       "<circle clip-path=\"url(#clip372)\" cx=\"1056.54\" cy=\"578.298\" r=\"14.4\" fill=\"#000000\" fill-rule=\"evenodd\" fill-opacity=\"1\" stroke=\"none\"/>\n",
       "<circle clip-path=\"url(#clip372)\" cx=\"1037.11\" cy=\"544.975\" r=\"14.4\" fill=\"#000000\" fill-rule=\"evenodd\" fill-opacity=\"1\" stroke=\"none\"/>\n",
       "<circle clip-path=\"url(#clip372)\" cx=\"1012.95\" cy=\"511.223\" r=\"14.4\" fill=\"#000000\" fill-rule=\"evenodd\" fill-opacity=\"1\" stroke=\"none\"/>\n",
       "<circle clip-path=\"url(#clip372)\" cx=\"990.865\" cy=\"480.399\" r=\"14.4\" fill=\"#000000\" fill-rule=\"evenodd\" fill-opacity=\"1\" stroke=\"none\"/>\n",
       "<circle clip-path=\"url(#clip372)\" cx=\"966.178\" cy=\"445.779\" r=\"14.4\" fill=\"#000000\" fill-rule=\"evenodd\" fill-opacity=\"1\" stroke=\"none\"/>\n",
       "<circle clip-path=\"url(#clip372)\" cx=\"944.458\" cy=\"413.028\" r=\"14.4\" fill=\"#000000\" fill-rule=\"evenodd\" fill-opacity=\"1\" stroke=\"none\"/>\n",
       "<circle clip-path=\"url(#clip372)\" cx=\"922.425\" cy=\"379.846\" r=\"14.4\" fill=\"#000000\" fill-rule=\"evenodd\" fill-opacity=\"1\" stroke=\"none\"/>\n",
       "<circle clip-path=\"url(#clip372)\" cx=\"900.835\" cy=\"346.824\" r=\"14.4\" fill=\"#000000\" fill-rule=\"evenodd\" fill-opacity=\"1\" stroke=\"none\"/>\n",
       "<path clip-path=\"url(#clip370)\" d=\"M1912.3 198.898 L2280.29 198.898 L2280.29 95.2176 L1912.3 95.2176  Z\" fill=\"#ffffff\" fill-rule=\"evenodd\" fill-opacity=\"1\"/>\n",
       "<polyline clip-path=\"url(#clip370)\" style=\"stroke:#000000; stroke-linecap:round; stroke-linejoin:round; stroke-width:4; stroke-opacity:1; fill:none\" points=\"1912.3,198.898 2280.29,198.898 2280.29,95.2176 1912.3,95.2176 1912.3,198.898 \"/>\n",
       "<polyline clip-path=\"url(#clip370)\" style=\"stroke:#ff0000; stroke-linecap:round; stroke-linejoin:round; stroke-width:8; stroke-opacity:1; fill:none\" points=\"1936.46,147.058 2081.38,147.058 \"/>\n",
       "<path clip-path=\"url(#clip370)\" d=\"M2121.56 132.949 Q2116.46 132.949 2113.45 136.745 Q2110.47 140.541 2110.47 147.092 Q2110.47 153.62 2113.45 157.416 Q2116.46 161.213 2121.56 161.213 Q2126.65 161.213 2129.61 157.416 Q2132.6 153.62 2132.6 147.092 Q2132.6 140.541 2129.61 136.745 Q2126.65 132.949 2121.56 132.949 M2121.56 129.153 Q2128.82 129.153 2133.18 134.037 Q2137.53 138.898 2137.53 147.092 Q2137.53 155.264 2133.18 160.148 Q2128.82 165.009 2121.56 165.009 Q2114.26 165.009 2109.89 160.148 Q2105.54 155.287 2105.54 147.092 Q2105.54 138.898 2109.89 134.037 Q2114.26 129.153 2121.56 129.153 Z\" fill=\"#000000\" fill-rule=\"nonzero\" fill-opacity=\"1\" /><path clip-path=\"url(#clip370)\" d=\"M2163.27 151.398 Q2163.27 146.699 2161.32 144.037 Q2159.4 141.352 2156.02 141.352 Q2152.64 141.352 2150.7 144.037 Q2148.78 146.699 2148.78 151.398 Q2148.78 156.097 2150.7 158.782 Q2152.64 161.444 2156.02 161.444 Q2159.4 161.444 2161.32 158.782 Q2163.27 156.097 2163.27 151.398 M2148.78 142.347 Q2150.12 140.032 2152.16 138.921 Q2154.22 137.787 2157.07 137.787 Q2161.79 137.787 2164.73 141.537 Q2167.69 145.287 2167.69 151.398 Q2167.69 157.509 2164.73 161.259 Q2161.79 165.009 2157.07 165.009 Q2154.22 165.009 2152.16 163.898 Q2150.12 162.763 2148.78 160.449 L2148.78 164.338 L2144.5 164.338 L2144.5 128.319 L2148.78 128.319 L2148.78 142.347 Z\" fill=\"#000000\" fill-rule=\"nonzero\" fill-opacity=\"1\" /><path clip-path=\"url(#clip370)\" d=\"M2174.75 138.412 L2179.01 138.412 L2179.01 164.801 Q2179.01 169.754 2177.11 171.976 Q2175.24 174.199 2171.05 174.199 L2169.43 174.199 L2169.43 170.588 L2170.56 170.588 Q2172.99 170.588 2173.87 169.453 Q2174.75 168.342 2174.75 164.801 L2174.75 138.412 M2174.75 128.319 L2179.01 128.319 L2179.01 133.713 L2174.75 133.713 L2174.75 128.319 Z\" fill=\"#000000\" fill-rule=\"nonzero\" fill-opacity=\"1\" /><path clip-path=\"url(#clip370)\" d=\"M2210.1 150.31 L2210.1 152.393 L2190.51 152.393 Q2190.79 156.791 2193.15 159.106 Q2195.54 161.398 2199.77 161.398 Q2202.23 161.398 2204.52 160.796 Q2206.83 160.194 2209.1 158.99 L2209.1 163.018 Q2206.81 163.99 2204.4 164.5 Q2202 165.009 2199.52 165.009 Q2193.31 165.009 2189.68 161.398 Q2186.07 157.787 2186.07 151.629 Q2186.07 145.264 2189.5 141.537 Q2192.94 137.787 2198.78 137.787 Q2204.01 137.787 2207.04 141.166 Q2210.1 144.523 2210.1 150.31 M2205.84 149.06 Q2205.79 145.565 2203.87 143.481 Q2201.97 141.398 2198.82 141.398 Q2195.26 141.398 2193.11 143.412 Q2190.98 145.426 2190.65 149.083 L2205.84 149.06 Z\" fill=\"#000000\" fill-rule=\"nonzero\" fill-opacity=\"1\" /><path clip-path=\"url(#clip370)\" d=\"M2235.75 139.407 L2235.75 143.389 Q2233.94 142.393 2232.11 141.907 Q2230.31 141.398 2228.45 141.398 Q2224.31 141.398 2222.02 144.037 Q2219.73 146.652 2219.73 151.398 Q2219.73 156.143 2222.02 158.782 Q2224.31 161.398 2228.45 161.398 Q2230.31 161.398 2232.11 160.912 Q2233.94 160.402 2235.75 159.407 L2235.75 163.342 Q2233.96 164.176 2232.04 164.592 Q2230.14 165.009 2227.99 165.009 Q2222.13 165.009 2218.69 161.328 Q2215.24 157.648 2215.24 151.398 Q2215.24 145.055 2218.71 141.421 Q2222.2 137.787 2228.27 137.787 Q2230.24 137.787 2232.11 138.203 Q2233.99 138.597 2235.75 139.407 Z\" fill=\"#000000\" fill-rule=\"nonzero\" fill-opacity=\"1\" /><path clip-path=\"url(#clip370)\" d=\"M2247.37 131.051 L2247.37 138.412 L2256.14 138.412 L2256.14 141.722 L2247.37 141.722 L2247.37 155.796 Q2247.37 158.967 2248.22 159.87 Q2249.1 160.773 2251.76 160.773 L2256.14 160.773 L2256.14 164.338 L2251.76 164.338 Q2246.83 164.338 2244.96 162.509 Q2243.08 160.657 2243.08 155.796 L2243.08 141.722 L2239.96 141.722 L2239.96 138.412 L2243.08 138.412 L2243.08 131.051 L2247.37 131.051 Z\" fill=\"#000000\" fill-rule=\"nonzero\" fill-opacity=\"1\" /></svg>\n"
      ],
      "text/html": [
       "<?xml version=\"1.0\" encoding=\"utf-8\"?>\n",
       "<svg xmlns=\"http://www.w3.org/2000/svg\" xmlns:xlink=\"http://www.w3.org/1999/xlink\" width=\"600\" height=\"400\" viewBox=\"0 0 2400 1600\">\n",
       "<defs>\n",
       "  <clipPath id=\"clip420\">\n",
       "    <rect x=\"0\" y=\"0\" width=\"2400\" height=\"1600\"/>\n",
       "  </clipPath>\n",
       "</defs>\n",
       "<path clip-path=\"url(#clip420)\" d=\"M0 1600 L2400 1600 L2400 0 L0 0  Z\" fill=\"#ffffff\" fill-rule=\"evenodd\" fill-opacity=\"1\"/>\n",
       "<defs>\n",
       "  <clipPath id=\"clip421\">\n",
       "    <rect x=\"480\" y=\"0\" width=\"1681\" height=\"1600\"/>\n",
       "  </clipPath>\n",
       "</defs>\n",
       "<path clip-path=\"url(#clip420)\" d=\"M178.867 1486.45 L2352.76 1486.45 L2352.76 47.2441 L178.867 47.2441  Z\" fill=\"#ffffff\" fill-rule=\"evenodd\" fill-opacity=\"1\"/>\n",
       "<defs>\n",
       "  <clipPath id=\"clip422\">\n",
       "    <rect x=\"178\" y=\"47\" width=\"2175\" height=\"1440\"/>\n",
       "  </clipPath>\n",
       "</defs>\n",
       "<polyline clip-path=\"url(#clip422)\" style=\"stroke:#000000; stroke-linecap:round; stroke-linejoin:round; stroke-width:2; stroke-opacity:0.1; fill:none\" points=\"178.867,1486.45 178.867,47.2441 \"/>\n",
       "<polyline clip-path=\"url(#clip422)\" style=\"stroke:#000000; stroke-linecap:round; stroke-linejoin:round; stroke-width:2; stroke-opacity:0.1; fill:none\" points=\"722.339,1486.45 722.339,47.2441 \"/>\n",
       "<polyline clip-path=\"url(#clip422)\" style=\"stroke:#000000; stroke-linecap:round; stroke-linejoin:round; stroke-width:2; stroke-opacity:0.1; fill:none\" points=\"1265.81,1486.45 1265.81,47.2441 \"/>\n",
       "<polyline clip-path=\"url(#clip422)\" style=\"stroke:#000000; stroke-linecap:round; stroke-linejoin:round; stroke-width:2; stroke-opacity:0.1; fill:none\" points=\"1809.28,1486.45 1809.28,47.2441 \"/>\n",
       "<polyline clip-path=\"url(#clip422)\" style=\"stroke:#000000; stroke-linecap:round; stroke-linejoin:round; stroke-width:2; stroke-opacity:0.1; fill:none\" points=\"2352.76,1486.45 2352.76,47.2441 \"/>\n",
       "<polyline clip-path=\"url(#clip420)\" style=\"stroke:#000000; stroke-linecap:round; stroke-linejoin:round; stroke-width:4; stroke-opacity:1; fill:none\" points=\"178.867,1486.45 2352.76,1486.45 \"/>\n",
       "<polyline clip-path=\"url(#clip420)\" style=\"stroke:#000000; stroke-linecap:round; stroke-linejoin:round; stroke-width:4; stroke-opacity:1; fill:none\" points=\"178.867,1486.45 178.867,1467.55 \"/>\n",
       "<polyline clip-path=\"url(#clip420)\" style=\"stroke:#000000; stroke-linecap:round; stroke-linejoin:round; stroke-width:4; stroke-opacity:1; fill:none\" points=\"722.339,1486.45 722.339,1467.55 \"/>\n",
       "<polyline clip-path=\"url(#clip420)\" style=\"stroke:#000000; stroke-linecap:round; stroke-linejoin:round; stroke-width:4; stroke-opacity:1; fill:none\" points=\"1265.81,1486.45 1265.81,1467.55 \"/>\n",
       "<polyline clip-path=\"url(#clip420)\" style=\"stroke:#000000; stroke-linecap:round; stroke-linejoin:round; stroke-width:4; stroke-opacity:1; fill:none\" points=\"1809.28,1486.45 1809.28,1467.55 \"/>\n",
       "<polyline clip-path=\"url(#clip420)\" style=\"stroke:#000000; stroke-linecap:round; stroke-linejoin:round; stroke-width:4; stroke-opacity:1; fill:none\" points=\"2352.76,1486.45 2352.76,1467.55 \"/>\n",
       "<path clip-path=\"url(#clip420)\" d=\"M132.929 1532.02 L162.605 1532.02 L162.605 1535.95 L132.929 1535.95 L132.929 1532.02 Z\" fill=\"#000000\" fill-rule=\"nonzero\" fill-opacity=\"1\" /><path clip-path=\"url(#clip420)\" d=\"M173.508 1544.91 L181.147 1544.91 L181.147 1518.55 L172.837 1520.21 L172.837 1515.95 L181.1 1514.29 L185.776 1514.29 L185.776 1544.91 L193.415 1544.91 L193.415 1548.85 L173.508 1548.85 L173.508 1544.91 Z\" fill=\"#000000\" fill-rule=\"nonzero\" fill-opacity=\"1\" /><path clip-path=\"url(#clip420)\" d=\"M212.86 1517.37 Q209.248 1517.37 207.42 1520.93 Q205.614 1524.47 205.614 1531.6 Q205.614 1538.71 207.42 1542.27 Q209.248 1545.82 212.86 1545.82 Q216.494 1545.82 218.299 1542.27 Q220.128 1538.71 220.128 1531.6 Q220.128 1524.47 218.299 1520.93 Q216.494 1517.37 212.86 1517.37 M212.86 1513.66 Q218.67 1513.66 221.725 1518.27 Q224.804 1522.85 224.804 1531.6 Q224.804 1540.33 221.725 1544.94 Q218.67 1549.52 212.86 1549.52 Q207.049 1549.52 203.971 1544.94 Q200.915 1540.33 200.915 1531.6 Q200.915 1522.85 203.971 1518.27 Q207.049 1513.66 212.86 1513.66 Z\" fill=\"#000000\" fill-rule=\"nonzero\" fill-opacity=\"1\" /><path clip-path=\"url(#clip420)\" d=\"M691.98 1532.02 L721.656 1532.02 L721.656 1535.95 L691.98 1535.95 L691.98 1532.02 Z\" fill=\"#000000\" fill-rule=\"nonzero\" fill-opacity=\"1\" /><path clip-path=\"url(#clip420)\" d=\"M731.795 1514.29 L750.151 1514.29 L750.151 1518.22 L736.077 1518.22 L736.077 1526.7 Q737.096 1526.35 738.114 1526.19 Q739.133 1526 740.151 1526 Q745.938 1526 749.318 1529.17 Q752.698 1532.34 752.698 1537.76 Q752.698 1543.34 749.225 1546.44 Q745.753 1549.52 739.434 1549.52 Q737.258 1549.52 734.989 1549.15 Q732.744 1548.78 730.337 1548.04 L730.337 1543.34 Q732.42 1544.47 734.642 1545.03 Q736.864 1545.58 739.341 1545.58 Q743.346 1545.58 745.684 1543.48 Q748.022 1541.37 748.022 1537.76 Q748.022 1534.15 745.684 1532.04 Q743.346 1529.94 739.341 1529.94 Q737.466 1529.94 735.591 1530.35 Q733.739 1530.77 731.795 1531.65 L731.795 1514.29 Z\" fill=\"#000000\" fill-rule=\"nonzero\" fill-opacity=\"1\" /><path clip-path=\"url(#clip420)\" d=\"M1265.81 1517.37 Q1262.2 1517.37 1260.37 1520.93 Q1258.57 1524.47 1258.57 1531.6 Q1258.57 1538.71 1260.37 1542.27 Q1262.2 1545.82 1265.81 1545.82 Q1269.45 1545.82 1271.25 1542.27 Q1273.08 1538.71 1273.08 1531.6 Q1273.08 1524.47 1271.25 1520.93 Q1269.45 1517.37 1265.81 1517.37 M1265.81 1513.66 Q1271.62 1513.66 1274.68 1518.27 Q1277.76 1522.85 1277.76 1531.6 Q1277.76 1540.33 1274.68 1544.94 Q1271.62 1549.52 1265.81 1549.52 Q1260 1549.52 1256.92 1544.94 Q1253.87 1540.33 1253.87 1531.6 Q1253.87 1522.85 1256.92 1518.27 Q1260 1513.66 1265.81 1513.66 Z\" fill=\"#000000\" fill-rule=\"nonzero\" fill-opacity=\"1\" /><path clip-path=\"url(#clip420)\" d=\"M1799.56 1514.29 L1817.92 1514.29 L1817.92 1518.22 L1803.84 1518.22 L1803.84 1526.7 Q1804.86 1526.35 1805.88 1526.19 Q1806.9 1526 1807.92 1526 Q1813.7 1526 1817.08 1529.17 Q1820.46 1532.34 1820.46 1537.76 Q1820.46 1543.34 1816.99 1546.44 Q1813.52 1549.52 1807.2 1549.52 Q1805.02 1549.52 1802.76 1549.15 Q1800.51 1548.78 1798.1 1548.04 L1798.1 1543.34 Q1800.19 1544.47 1802.41 1545.03 Q1804.63 1545.58 1807.11 1545.58 Q1811.11 1545.58 1813.45 1543.48 Q1815.79 1541.37 1815.79 1537.76 Q1815.79 1534.15 1813.45 1532.04 Q1811.11 1529.94 1807.11 1529.94 Q1805.23 1529.94 1803.36 1530.35 Q1801.51 1530.77 1799.56 1531.65 L1799.56 1514.29 Z\" fill=\"#000000\" fill-rule=\"nonzero\" fill-opacity=\"1\" /><path clip-path=\"url(#clip420)\" d=\"M2327.44 1544.91 L2335.08 1544.91 L2335.08 1518.55 L2326.77 1520.21 L2326.77 1515.95 L2335.04 1514.29 L2339.71 1514.29 L2339.71 1544.91 L2347.35 1544.91 L2347.35 1548.85 L2327.44 1548.85 L2327.44 1544.91 Z\" fill=\"#000000\" fill-rule=\"nonzero\" fill-opacity=\"1\" /><path clip-path=\"url(#clip420)\" d=\"M2366.8 1517.37 Q2363.18 1517.37 2361.36 1520.93 Q2359.55 1524.47 2359.55 1531.6 Q2359.55 1538.71 2361.36 1542.27 Q2363.18 1545.82 2366.8 1545.82 Q2370.43 1545.82 2372.23 1542.27 Q2374.06 1538.71 2374.06 1531.6 Q2374.06 1524.47 2372.23 1520.93 Q2370.43 1517.37 2366.8 1517.37 M2366.8 1513.66 Q2372.61 1513.66 2375.66 1518.27 Q2378.74 1522.85 2378.74 1531.6 Q2378.74 1540.33 2375.66 1544.94 Q2372.61 1549.52 2366.8 1549.52 Q2360.99 1549.52 2357.91 1544.94 Q2354.85 1540.33 2354.85 1531.6 Q2354.85 1522.85 2357.91 1518.27 Q2360.99 1513.66 2366.8 1513.66 Z\" fill=\"#000000\" fill-rule=\"nonzero\" fill-opacity=\"1\" /><polyline clip-path=\"url(#clip422)\" style=\"stroke:#000000; stroke-linecap:round; stroke-linejoin:round; stroke-width:2; stroke-opacity:0.1; fill:none\" points=\"178.867,1486.45 2352.76,1486.45 \"/>\n",
       "<polyline clip-path=\"url(#clip422)\" style=\"stroke:#000000; stroke-linecap:round; stroke-linejoin:round; stroke-width:2; stroke-opacity:0.1; fill:none\" points=\"178.867,1126.65 2352.76,1126.65 \"/>\n",
       "<polyline clip-path=\"url(#clip422)\" style=\"stroke:#000000; stroke-linecap:round; stroke-linejoin:round; stroke-width:2; stroke-opacity:0.1; fill:none\" points=\"178.867,766.846 2352.76,766.846 \"/>\n",
       "<polyline clip-path=\"url(#clip422)\" style=\"stroke:#000000; stroke-linecap:round; stroke-linejoin:round; stroke-width:2; stroke-opacity:0.1; fill:none\" points=\"178.867,407.045 2352.76,407.045 \"/>\n",
       "<polyline clip-path=\"url(#clip422)\" style=\"stroke:#000000; stroke-linecap:round; stroke-linejoin:round; stroke-width:2; stroke-opacity:0.1; fill:none\" points=\"178.867,47.2441 2352.76,47.2441 \"/>\n",
       "<polyline clip-path=\"url(#clip420)\" style=\"stroke:#000000; stroke-linecap:round; stroke-linejoin:round; stroke-width:4; stroke-opacity:1; fill:none\" points=\"178.867,1486.45 178.867,47.2441 \"/>\n",
       "<polyline clip-path=\"url(#clip420)\" style=\"stroke:#000000; stroke-linecap:round; stroke-linejoin:round; stroke-width:4; stroke-opacity:1; fill:none\" points=\"178.867,1486.45 197.764,1486.45 \"/>\n",
       "<polyline clip-path=\"url(#clip420)\" style=\"stroke:#000000; stroke-linecap:round; stroke-linejoin:round; stroke-width:4; stroke-opacity:1; fill:none\" points=\"178.867,1126.65 197.764,1126.65 \"/>\n",
       "<polyline clip-path=\"url(#clip420)\" style=\"stroke:#000000; stroke-linecap:round; stroke-linejoin:round; stroke-width:4; stroke-opacity:1; fill:none\" points=\"178.867,766.846 197.764,766.846 \"/>\n",
       "<polyline clip-path=\"url(#clip420)\" style=\"stroke:#000000; stroke-linecap:round; stroke-linejoin:round; stroke-width:4; stroke-opacity:1; fill:none\" points=\"178.867,407.045 197.764,407.045 \"/>\n",
       "<polyline clip-path=\"url(#clip420)\" style=\"stroke:#000000; stroke-linecap:round; stroke-linejoin:round; stroke-width:4; stroke-opacity:1; fill:none\" points=\"178.867,47.2441 197.764,47.2441 \"/>\n",
       "<path clip-path=\"url(#clip420)\" d=\"M50.9921 1486.9 L80.6679 1486.9 L80.6679 1490.83 L50.9921 1490.83 L50.9921 1486.9 Z\" fill=\"#000000\" fill-rule=\"nonzero\" fill-opacity=\"1\" /><path clip-path=\"url(#clip420)\" d=\"M91.5706 1499.79 L99.2095 1499.79 L99.2095 1473.43 L90.8993 1475.09 L90.8993 1470.83 L99.1632 1469.17 L103.839 1469.17 L103.839 1499.79 L111.478 1499.79 L111.478 1503.73 L91.5706 1503.73 L91.5706 1499.79 Z\" fill=\"#000000\" fill-rule=\"nonzero\" fill-opacity=\"1\" /><path clip-path=\"url(#clip420)\" d=\"M130.922 1472.25 Q127.311 1472.25 125.482 1475.81 Q123.677 1479.35 123.677 1486.48 Q123.677 1493.59 125.482 1497.15 Q127.311 1500.7 130.922 1500.7 Q134.556 1500.7 136.362 1497.15 Q138.191 1493.59 138.191 1486.48 Q138.191 1479.35 136.362 1475.81 Q134.556 1472.25 130.922 1472.25 M130.922 1468.54 Q136.732 1468.54 139.788 1473.15 Q142.867 1477.73 142.867 1486.48 Q142.867 1495.21 139.788 1499.82 Q136.732 1504.4 130.922 1504.4 Q125.112 1504.4 122.033 1499.82 Q118.978 1495.21 118.978 1486.48 Q118.978 1477.73 122.033 1473.15 Q125.112 1468.54 130.922 1468.54 Z\" fill=\"#000000\" fill-rule=\"nonzero\" fill-opacity=\"1\" /><path clip-path=\"url(#clip420)\" d=\"M82.1494 1127.1 L111.825 1127.1 L111.825 1131.03 L82.1494 1131.03 L82.1494 1127.1 Z\" fill=\"#000000\" fill-rule=\"nonzero\" fill-opacity=\"1\" /><path clip-path=\"url(#clip420)\" d=\"M121.964 1109.37 L140.32 1109.37 L140.32 1113.3 L126.246 1113.3 L126.246 1121.77 Q127.265 1121.43 128.283 1121.27 Q129.302 1121.08 130.32 1121.08 Q136.107 1121.08 139.487 1124.25 Q142.867 1127.42 142.867 1132.84 Q142.867 1138.42 139.394 1141.52 Q135.922 1144.6 129.603 1144.6 Q127.427 1144.6 125.158 1144.23 Q122.913 1143.86 120.506 1143.12 L120.506 1138.42 Q122.589 1139.55 124.811 1140.11 Q127.033 1140.66 129.51 1140.66 Q133.515 1140.66 135.853 1138.56 Q138.191 1136.45 138.191 1132.84 Q138.191 1129.23 135.853 1127.12 Q133.515 1125.01 129.51 1125.01 Q127.635 1125.01 125.76 1125.43 Q123.908 1125.85 121.964 1126.73 L121.964 1109.37 Z\" fill=\"#000000\" fill-rule=\"nonzero\" fill-opacity=\"1\" /><path clip-path=\"url(#clip420)\" d=\"M130.922 752.645 Q127.311 752.645 125.482 756.209 Q123.677 759.751 123.677 766.881 Q123.677 773.987 125.482 777.552 Q127.311 781.094 130.922 781.094 Q134.556 781.094 136.362 777.552 Q138.191 773.987 138.191 766.881 Q138.191 759.751 136.362 756.209 Q134.556 752.645 130.922 752.645 M130.922 748.941 Q136.732 748.941 139.788 753.547 Q142.867 758.131 142.867 766.881 Q142.867 775.608 139.788 780.214 Q136.732 784.797 130.922 784.797 Q125.112 784.797 122.033 780.214 Q118.978 775.608 118.978 766.881 Q118.978 758.131 122.033 753.547 Q125.112 748.941 130.922 748.941 Z\" fill=\"#000000\" fill-rule=\"nonzero\" fill-opacity=\"1\" /><path clip-path=\"url(#clip420)\" d=\"M121.964 389.765 L140.32 389.765 L140.32 393.7 L126.246 393.7 L126.246 402.172 Q127.265 401.825 128.283 401.663 Q129.302 401.478 130.32 401.478 Q136.107 401.478 139.487 404.649 Q142.867 407.82 142.867 413.237 Q142.867 418.816 139.394 421.918 Q135.922 424.996 129.603 424.996 Q127.427 424.996 125.158 424.626 Q122.913 424.256 120.506 423.515 L120.506 418.816 Q122.589 419.95 124.811 420.506 Q127.033 421.061 129.51 421.061 Q133.515 421.061 135.853 418.955 Q138.191 416.848 138.191 413.237 Q138.191 409.626 135.853 407.52 Q133.515 405.413 129.51 405.413 Q127.635 405.413 125.76 405.83 Q123.908 406.246 121.964 407.126 L121.964 389.765 Z\" fill=\"#000000\" fill-rule=\"nonzero\" fill-opacity=\"1\" /><path clip-path=\"url(#clip420)\" d=\"M91.5706 60.5889 L99.2095 60.5889 L99.2095 34.2233 L90.8993 35.89 L90.8993 31.6308 L99.1632 29.9641 L103.839 29.9641 L103.839 60.5889 L111.478 60.5889 L111.478 64.5241 L91.5706 64.5241 L91.5706 60.5889 Z\" fill=\"#000000\" fill-rule=\"nonzero\" fill-opacity=\"1\" /><path clip-path=\"url(#clip420)\" d=\"M130.922 33.0428 Q127.311 33.0428 125.482 36.6076 Q123.677 40.1492 123.677 47.2788 Q123.677 54.3853 125.482 57.9501 Q127.311 61.4917 130.922 61.4917 Q134.556 61.4917 136.362 57.9501 Q138.191 54.3853 138.191 47.2788 Q138.191 40.1492 136.362 36.6076 Q134.556 33.0428 130.922 33.0428 M130.922 29.3391 Q136.732 29.3391 139.788 33.9456 Q142.867 38.5289 142.867 47.2788 Q142.867 56.0056 139.788 60.6121 Q136.732 65.1954 130.922 65.1954 Q125.112 65.1954 122.033 60.6121 Q118.978 56.0056 118.978 47.2788 Q118.978 38.5289 122.033 33.9456 Q125.112 29.3391 130.922 29.3391 Z\" fill=\"#000000\" fill-rule=\"nonzero\" fill-opacity=\"1\" /><polyline clip-path=\"url(#clip422)\" style=\"stroke:#ff0000; stroke-linecap:round; stroke-linejoin:round; stroke-width:8; stroke-opacity:1; fill:none\" points=\"1226.03,668.547 1117.33,793.185 1305.6,865.145 1414.29,740.507 1226.03,668.547 \"/>\n",
       "<circle clip-path=\"url(#clip422)\" cx=\"723.521\" cy=\"766.839\" r=\"14.4\" fill=\"#000000\" fill-rule=\"evenodd\" fill-opacity=\"1\" stroke=\"none\"/>\n",
       "<circle clip-path=\"url(#clip422)\" cx=\"777.14\" cy=\"764.218\" r=\"14.4\" fill=\"#000000\" fill-rule=\"evenodd\" fill-opacity=\"1\" stroke=\"none\"/>\n",
       "<circle clip-path=\"url(#clip422)\" cx=\"830.908\" cy=\"760.098\" r=\"14.4\" fill=\"#000000\" fill-rule=\"evenodd\" fill-opacity=\"1\" stroke=\"none\"/>\n",
       "<circle clip-path=\"url(#clip422)\" cx=\"883.342\" cy=\"756.686\" r=\"14.4\" fill=\"#000000\" fill-rule=\"evenodd\" fill-opacity=\"1\" stroke=\"none\"/>\n",
       "<circle clip-path=\"url(#clip422)\" cx=\"940.636\" cy=\"753.584\" r=\"14.4\" fill=\"#000000\" fill-rule=\"evenodd\" fill-opacity=\"1\" stroke=\"none\"/>\n",
       "<circle clip-path=\"url(#clip422)\" cx=\"995.221\" cy=\"749.407\" r=\"14.4\" fill=\"#000000\" fill-rule=\"evenodd\" fill-opacity=\"1\" stroke=\"none\"/>\n",
       "<circle clip-path=\"url(#clip422)\" cx=\"1047.72\" cy=\"744.017\" r=\"14.4\" fill=\"#000000\" fill-rule=\"evenodd\" fill-opacity=\"1\" stroke=\"none\"/>\n",
       "<circle clip-path=\"url(#clip422)\" cx=\"1102.87\" cy=\"741.289\" r=\"14.4\" fill=\"#000000\" fill-rule=\"evenodd\" fill-opacity=\"1\" stroke=\"none\"/>\n",
       "<circle clip-path=\"url(#clip422)\" cx=\"1158.78\" cy=\"738.213\" r=\"14.4\" fill=\"#000000\" fill-rule=\"evenodd\" fill-opacity=\"1\" stroke=\"none\"/>\n",
       "<circle clip-path=\"url(#clip422)\" cx=\"1145.88\" cy=\"709.752\" r=\"14.4\" fill=\"#000000\" fill-rule=\"evenodd\" fill-opacity=\"1\" stroke=\"none\"/>\n",
       "<circle clip-path=\"url(#clip422)\" cx=\"1124.72\" cy=\"676.929\" r=\"14.4\" fill=\"#000000\" fill-rule=\"evenodd\" fill-opacity=\"1\" stroke=\"none\"/>\n",
       "<circle clip-path=\"url(#clip422)\" cx=\"1100.94\" cy=\"643.967\" r=\"14.4\" fill=\"#000000\" fill-rule=\"evenodd\" fill-opacity=\"1\" stroke=\"none\"/>\n",
       "<circle clip-path=\"url(#clip422)\" cx=\"1079.12\" cy=\"612.531\" r=\"14.4\" fill=\"#000000\" fill-rule=\"evenodd\" fill-opacity=\"1\" stroke=\"none\"/>\n",
       "<circle clip-path=\"url(#clip422)\" cx=\"1056.54\" cy=\"578.298\" r=\"14.4\" fill=\"#000000\" fill-rule=\"evenodd\" fill-opacity=\"1\" stroke=\"none\"/>\n",
       "<circle clip-path=\"url(#clip422)\" cx=\"1037.11\" cy=\"544.975\" r=\"14.4\" fill=\"#000000\" fill-rule=\"evenodd\" fill-opacity=\"1\" stroke=\"none\"/>\n",
       "<circle clip-path=\"url(#clip422)\" cx=\"1012.95\" cy=\"511.223\" r=\"14.4\" fill=\"#000000\" fill-rule=\"evenodd\" fill-opacity=\"1\" stroke=\"none\"/>\n",
       "<circle clip-path=\"url(#clip422)\" cx=\"990.865\" cy=\"480.399\" r=\"14.4\" fill=\"#000000\" fill-rule=\"evenodd\" fill-opacity=\"1\" stroke=\"none\"/>\n",
       "<circle clip-path=\"url(#clip422)\" cx=\"966.178\" cy=\"445.779\" r=\"14.4\" fill=\"#000000\" fill-rule=\"evenodd\" fill-opacity=\"1\" stroke=\"none\"/>\n",
       "<circle clip-path=\"url(#clip422)\" cx=\"944.458\" cy=\"413.028\" r=\"14.4\" fill=\"#000000\" fill-rule=\"evenodd\" fill-opacity=\"1\" stroke=\"none\"/>\n",
       "<circle clip-path=\"url(#clip422)\" cx=\"922.425\" cy=\"379.846\" r=\"14.4\" fill=\"#000000\" fill-rule=\"evenodd\" fill-opacity=\"1\" stroke=\"none\"/>\n",
       "<circle clip-path=\"url(#clip422)\" cx=\"900.835\" cy=\"346.824\" r=\"14.4\" fill=\"#000000\" fill-rule=\"evenodd\" fill-opacity=\"1\" stroke=\"none\"/>\n",
       "<path clip-path=\"url(#clip420)\" d=\"M1912.3 198.898 L2280.29 198.898 L2280.29 95.2176 L1912.3 95.2176  Z\" fill=\"#ffffff\" fill-rule=\"evenodd\" fill-opacity=\"1\"/>\n",
       "<polyline clip-path=\"url(#clip420)\" style=\"stroke:#000000; stroke-linecap:round; stroke-linejoin:round; stroke-width:4; stroke-opacity:1; fill:none\" points=\"1912.3,198.898 2280.29,198.898 2280.29,95.2176 1912.3,95.2176 1912.3,198.898 \"/>\n",
       "<polyline clip-path=\"url(#clip420)\" style=\"stroke:#ff0000; stroke-linecap:round; stroke-linejoin:round; stroke-width:8; stroke-opacity:1; fill:none\" points=\"1936.46,147.058 2081.38,147.058 \"/>\n",
       "<path clip-path=\"url(#clip420)\" d=\"M2121.56 132.949 Q2116.46 132.949 2113.45 136.745 Q2110.47 140.541 2110.47 147.092 Q2110.47 153.62 2113.45 157.416 Q2116.46 161.213 2121.56 161.213 Q2126.65 161.213 2129.61 157.416 Q2132.6 153.62 2132.6 147.092 Q2132.6 140.541 2129.61 136.745 Q2126.65 132.949 2121.56 132.949 M2121.56 129.153 Q2128.82 129.153 2133.18 134.037 Q2137.53 138.898 2137.53 147.092 Q2137.53 155.264 2133.18 160.148 Q2128.82 165.009 2121.56 165.009 Q2114.26 165.009 2109.89 160.148 Q2105.54 155.287 2105.54 147.092 Q2105.54 138.898 2109.89 134.037 Q2114.26 129.153 2121.56 129.153 Z\" fill=\"#000000\" fill-rule=\"nonzero\" fill-opacity=\"1\" /><path clip-path=\"url(#clip420)\" d=\"M2163.27 151.398 Q2163.27 146.699 2161.32 144.037 Q2159.4 141.352 2156.02 141.352 Q2152.64 141.352 2150.7 144.037 Q2148.78 146.699 2148.78 151.398 Q2148.78 156.097 2150.7 158.782 Q2152.64 161.444 2156.02 161.444 Q2159.4 161.444 2161.32 158.782 Q2163.27 156.097 2163.27 151.398 M2148.78 142.347 Q2150.12 140.032 2152.16 138.921 Q2154.22 137.787 2157.07 137.787 Q2161.79 137.787 2164.73 141.537 Q2167.69 145.287 2167.69 151.398 Q2167.69 157.509 2164.73 161.259 Q2161.79 165.009 2157.07 165.009 Q2154.22 165.009 2152.16 163.898 Q2150.12 162.763 2148.78 160.449 L2148.78 164.338 L2144.5 164.338 L2144.5 128.319 L2148.78 128.319 L2148.78 142.347 Z\" fill=\"#000000\" fill-rule=\"nonzero\" fill-opacity=\"1\" /><path clip-path=\"url(#clip420)\" d=\"M2174.75 138.412 L2179.01 138.412 L2179.01 164.801 Q2179.01 169.754 2177.11 171.976 Q2175.24 174.199 2171.05 174.199 L2169.43 174.199 L2169.43 170.588 L2170.56 170.588 Q2172.99 170.588 2173.87 169.453 Q2174.75 168.342 2174.75 164.801 L2174.75 138.412 M2174.75 128.319 L2179.01 128.319 L2179.01 133.713 L2174.75 133.713 L2174.75 128.319 Z\" fill=\"#000000\" fill-rule=\"nonzero\" fill-opacity=\"1\" /><path clip-path=\"url(#clip420)\" d=\"M2210.1 150.31 L2210.1 152.393 L2190.51 152.393 Q2190.79 156.791 2193.15 159.106 Q2195.54 161.398 2199.77 161.398 Q2202.23 161.398 2204.52 160.796 Q2206.83 160.194 2209.1 158.99 L2209.1 163.018 Q2206.81 163.99 2204.4 164.5 Q2202 165.009 2199.52 165.009 Q2193.31 165.009 2189.68 161.398 Q2186.07 157.787 2186.07 151.629 Q2186.07 145.264 2189.5 141.537 Q2192.94 137.787 2198.78 137.787 Q2204.01 137.787 2207.04 141.166 Q2210.1 144.523 2210.1 150.31 M2205.84 149.06 Q2205.79 145.565 2203.87 143.481 Q2201.97 141.398 2198.82 141.398 Q2195.26 141.398 2193.11 143.412 Q2190.98 145.426 2190.65 149.083 L2205.84 149.06 Z\" fill=\"#000000\" fill-rule=\"nonzero\" fill-opacity=\"1\" /><path clip-path=\"url(#clip420)\" d=\"M2235.75 139.407 L2235.75 143.389 Q2233.94 142.393 2232.11 141.907 Q2230.31 141.398 2228.45 141.398 Q2224.31 141.398 2222.02 144.037 Q2219.73 146.652 2219.73 151.398 Q2219.73 156.143 2222.02 158.782 Q2224.31 161.398 2228.45 161.398 Q2230.31 161.398 2232.11 160.912 Q2233.94 160.402 2235.75 159.407 L2235.75 163.342 Q2233.96 164.176 2232.04 164.592 Q2230.14 165.009 2227.99 165.009 Q2222.13 165.009 2218.69 161.328 Q2215.24 157.648 2215.24 151.398 Q2215.24 145.055 2218.71 141.421 Q2222.2 137.787 2228.27 137.787 Q2230.24 137.787 2232.11 138.203 Q2233.99 138.597 2235.75 139.407 Z\" fill=\"#000000\" fill-rule=\"nonzero\" fill-opacity=\"1\" /><path clip-path=\"url(#clip420)\" d=\"M2247.37 131.051 L2247.37 138.412 L2256.14 138.412 L2256.14 141.722 L2247.37 141.722 L2247.37 155.796 Q2247.37 158.967 2248.22 159.87 Q2249.1 160.773 2251.76 160.773 L2256.14 160.773 L2256.14 164.338 L2251.76 164.338 Q2246.83 164.338 2244.96 162.509 Q2243.08 160.657 2243.08 155.796 L2243.08 141.722 L2239.96 141.722 L2239.96 138.412 L2243.08 138.412 L2243.08 131.051 L2247.37 131.051 Z\" fill=\"#000000\" fill-rule=\"nonzero\" fill-opacity=\"1\" /></svg>\n"
      ]
     },
     "execution_count": 452,
     "metadata": {},
     "output_type": "execute_result"
    }
   ],
   "source": [
    "render_trace(trace, r)"
   ]
  },
  {
   "cell_type": "code",
   "execution_count": 170,
   "id": "a8940879-4f8f-41af-89eb-c7002773c287",
   "metadata": {},
   "outputs": [],
   "source": [
    "using Gen"
   ]
  },
  {
   "cell_type": "code",
   "execution_count": 171,
   "id": "890a6f85-157c-4264-ad6f-3a45c8fc6f24",
   "metadata": {},
   "outputs": [],
   "source": [
    "@gen function line_model(xs::Vector{Float64})\n",
    "    # We begin by sampling a slope and intercept for the line.\n",
    "    # Before we have seen the data, we don't know the values of\n",
    "    # these parameters, so we treat them as random choices. The\n",
    "    # distributions they are drawn from represent our prior beliefs\n",
    "    # about the parameters: in this case, that neither the slope nor the\n",
    "    # intercept will be more than a couple points away from 0.\n",
    "    slope = ({:slope} ~ normal(0, 1))\n",
    "    intercept = ({:intercept} ~ normal(0, 2))\n",
    "    \n",
    "    # We define a function to compute y for a given x\n",
    "    function y(x)\n",
    "        return slope * x + intercept\n",
    "    end\n",
    "\n",
    "    # Given the slope and intercept, we can sample y coordinates\n",
    "    # for each of the x coordinates in our input vector.\n",
    "    for (i, x) in enumerate(xs)\n",
    "        # Note that we name each random choice in this loop\n",
    "        # slightly differently: the first time through,\n",
    "        # the name (:y, 1) will be used, then (:y, 2) for\n",
    "        # the second point, and so on.\n",
    "        ({(:y, i)} ~ normal(y(x), 0.1))\n",
    "    end\n",
    "\n",
    "    # Most of the time, we don't care about the return\n",
    "    # value of a model, only the random choices it makes.\n",
    "    # It can sometimems be useful to return something\n",
    "    # meaningful, however; here, we return the function `y`.\n",
    "    return y\n",
    "end;"
   ]
  },
  {
   "cell_type": "code",
   "execution_count": 3,
   "id": "2fa73a6f-a259-4f49-a3e2-e7e6ccbbe2ac",
   "metadata": {},
   "outputs": [],
   "source": [
    "xs = [-5., -4., -3., -2., -1., 0., 1., 2., 3., 4., 5.];"
   ]
  },
  {
   "cell_type": "code",
   "execution_count": 4,
   "id": "94c09ce6-acf4-4f91-8627-7216015d5186",
   "metadata": {
    "scrolled": true
   },
   "outputs": [
    {
     "data": {
      "text/plain": [
       "y (generic function with 1 method)"
      ]
     },
     "execution_count": 4,
     "metadata": {},
     "output_type": "execute_result"
    }
   ],
   "source": [
    "y = line_model(xs)"
   ]
  },
  {
   "cell_type": "code",
   "execution_count": null,
   "id": "9e5afd6f-1cb4-4942-a80e-15f6d91c9ee3",
   "metadata": {},
   "outputs": [],
   "source": []
  }
 ],
 "metadata": {
  "kernelspec": {
   "display_name": "Julia 1.9.3",
   "language": "julia",
   "name": "julia-1.9"
  },
  "language_info": {
   "file_extension": ".jl",
   "mimetype": "application/julia",
   "name": "julia",
   "version": "1.9.3"
  }
 },
 "nbformat": 4,
 "nbformat_minor": 5
}
